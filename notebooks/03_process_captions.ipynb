{
 "cells": [
  {
   "cell_type": "code",
   "execution_count": 2,
   "metadata": {},
   "outputs": [],
   "source": [
    "# process COCO captions\n",
    "import json\n",
    "\n",
    "with open(r\"D:\\Repos\\clip-bold\\data\\raw\\stimuli\\Image_Labels\\captions_train2014.json\") as file:\n",
    "    COCO_captions = json.load(file)\n",
    "\n",
    "COCO_captions = {f\"COCO_train2014_{\"{:012d}\".format(item['image_id'])}.jpg\": item[\"caption\"] for item in COCO_captions[\"annotations\"]}\n",
    "\n",
    "with open(r\"D:\\Repos\\clip-bold\\data\\intermediate\\01_captions\\coco_final_labels.json\", \"w\") as file:\n",
    "    json.dump(COCO_captions, file)"
   ]
  },
  {
   "cell_type": "code",
   "execution_count": 8,
   "metadata": {},
   "outputs": [],
   "source": [
    "# process ImageNet captions\n",
    "import os\n",
    "import json\n",
    "import pandas as pd\n",
    "\n",
    "mappings = pd.read_table(r'D:\\Repos\\clip-bold\\data\\raw\\stimuli\\Image_Labels\\imagenet_final_labels.txt', header=None)\n",
    "mappings = {item[1][0].split(\" \")[0]: \" \".join(item[1][0].split(\" \")[1:]) for item in mappings.iterrows()}\n",
    "\n",
    "files = []\n",
    "for root, _, files in os.walk(r\"D:\\Repos\\clip-bold\\data\\raw\\stimuli\\Scene_Stimuli\\Presented_Stimuli\\ImageNet\"):\n",
    "    files += files\n",
    "\n",
    "ImageNet_captions = {}\n",
    "for file in files:\n",
    "    ImageNet_captions[file] = mappings[file.split(\"_\")[0]]\n",
    "\n",
    "with open(r\"D:\\Repos\\clip-bold\\data\\intermediate\\01_captions\\imagenet_final_labels.json\", \"w\") as file:\n",
    "    json.dump(ImageNet_captions, file)"
   ]
  },
  {
   "cell_type": "code",
   "execution_count": 54,
   "metadata": {},
   "outputs": [],
   "source": [
    "# process Scene captions\n",
    "import os\n",
    "import re\n",
    "import json\n",
    "import pandas as pd\n",
    "\n",
    "labels = pd.read_table(r'D:\\Repos\\clip-bold\\data\\raw\\stimuli\\Image_Labels\\scene_final_labels.txt', header=None)\n",
    "captions = pd.read_table(r'D:\\Repos\\clip-bold\\data\\raw\\stimuli\\Image_Labels\\scene_final_labels_spaces.txt', header=None)\n",
    "\n",
    "mappings = pd.concat([labels, captions], axis=\"columns\")\n",
    "mappings.columns = [\"title\", \"caption\"]\n",
    "mappings = {item[1][\"title\"]: item[1][\"caption\"] for item in mappings.iterrows()}\n",
    "\n",
    "files = []\n",
    "for root, _, files in os.walk(r\"D:\\Repos\\clip-bold\\data\\raw\\stimuli\\Scene_Stimuli\\Presented_Stimuli\\Scene\"):\n",
    "    files += files\n",
    "\n",
    "Scene_captions = {}\n",
    "regex = re.compile(\"([a-zA-Z]+)([0-9]+)\")\n",
    "for file in files:\n",
    "    Scene_captions[file] = mappings[\"\".join(filter(lambda x: not str.isdigit(x), file)).split(\".\")[0]]\n",
    "\n",
    "with open(r\"D:\\Repos\\clip-bold\\data\\intermediate\\01_captions\\scene_final_labels.json\", \"w\") as file:\n",
    "    json.dump(Scene_captions, file)"
   ]
  },
  {
   "cell_type": "code",
   "execution_count": null,
   "metadata": {},
   "outputs": [],
   "source": []
  }
 ],
 "metadata": {
  "kernelspec": {
   "display_name": ".venv",
   "language": "python",
   "name": "python3"
  },
  "language_info": {
   "codemirror_mode": {
    "name": "ipython",
    "version": 3
   },
   "file_extension": ".py",
   "mimetype": "text/x-python",
   "name": "python",
   "nbconvert_exporter": "python",
   "pygments_lexer": "ipython3",
   "version": "3.12.0"
  }
 },
 "nbformat": 4,
 "nbformat_minor": 2
}
