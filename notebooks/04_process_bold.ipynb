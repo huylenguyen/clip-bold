{
 "cells": [
  {
   "cell_type": "code",
   "execution_count": 1,
   "metadata": {},
   "outputs": [],
   "source": [
    "import os\n",
    "import json\n",
    "import warnings\n",
    "\n",
    "from nilearn.datasets import load_mni152_gm_mask\n",
    "from nilearn import maskers\n",
    "import nibabel as nib\n",
    "import numpy as np\n",
    "import pandas as pd\n",
    "import torchio as tio\n",
    "import torch"
   ]
  },
  {
   "cell_type": "code",
   "execution_count": 2,
   "metadata": {},
   "outputs": [],
   "source": [
    "# load captions\n",
    "with open(r\"D:\\Repos\\clip-bold\\data\\intermediate\\01_captions\\coco_final_labels.json\") as file:\n",
    "    coco_captions = json.load(file)\n",
    "\n",
    "with open(r\"D:\\Repos\\clip-bold\\data\\intermediate\\01_captions\\imagenet_final_labels.json\") as file:\n",
    "    imagenet_captions = json.load(file)\n",
    "\n",
    "with open(r\"D:\\Repos\\clip-bold\\data\\intermediate\\01_captions\\scene_final_labels.json\") as file:\n",
    "    scene_captions = json.load(file)\n",
    "\n",
    "captions = {\n",
    "    \"coco\": coco_captions,\n",
    "    \"imagenet\": imagenet_captions,\n",
    "    \"scenes\": scene_captions\n",
    "}"
   ]
  },
  {
   "cell_type": "code",
   "execution_count": 4,
   "metadata": {},
   "outputs": [
    {
     "name": "stdout",
     "output_type": "stream",
     "text": [
      "D:\\Repos\\clip-bold\\data\\raw\\bold5000\\derivatives\\fmriprep\\sub-CSI1\\ses-01\\func\\sub-CSI1_ses-01_task-5000scenes_run-01_bold_space-T1w_preproc.nii.gz\n",
      "D:\\Repos\\clip-bold\\data\\raw\\bold5000\\derivatives\\fmriprep\\sub-CSI1\\ses-01\\func\\sub-CSI1_ses-01_task-5000scenes_run-02_bold_space-T1w_preproc.nii.gz\n",
      "D:\\Repos\\clip-bold\\data\\raw\\bold5000\\derivatives\\fmriprep\\sub-CSI1\\ses-01\\func\\sub-CSI1_ses-01_task-5000scenes_run-03_bold_space-T1w_preproc.nii.gz\n",
      "D:\\Repos\\clip-bold\\data\\raw\\bold5000\\derivatives\\fmriprep\\sub-CSI1\\ses-01\\func\\sub-CSI1_ses-01_task-5000scenes_run-04_bold_space-T1w_preproc.nii.gz\n",
      "D:\\Repos\\clip-bold\\data\\raw\\bold5000\\derivatives\\fmriprep\\sub-CSI1\\ses-01\\func\\sub-CSI1_ses-01_task-5000scenes_run-05_bold_space-T1w_preproc.nii.gz\n",
      "D:\\Repos\\clip-bold\\data\\raw\\bold5000\\derivatives\\fmriprep\\sub-CSI1\\ses-01\\func\\sub-CSI1_ses-01_task-5000scenes_run-06_bold_space-T1w_preproc.nii.gz\n",
      "D:\\Repos\\clip-bold\\data\\raw\\bold5000\\derivatives\\fmriprep\\sub-CSI1\\ses-01\\func\\sub-CSI1_ses-01_task-5000scenes_run-07_bold_space-T1w_preproc.nii.gz\n",
      "D:\\Repos\\clip-bold\\data\\raw\\bold5000\\derivatives\\fmriprep\\sub-CSI1\\ses-01\\func\\sub-CSI1_ses-01_task-5000scenes_run-08_bold_space-T1w_preproc.nii.gz\n",
      "D:\\Repos\\clip-bold\\data\\raw\\bold5000\\derivatives\\fmriprep\\sub-CSI1\\ses-01\\func\\sub-CSI1_ses-01_task-5000scenes_run-09_bold_space-T1w_preproc.nii.gz\n",
      "D:\\Repos\\clip-bold\\data\\raw\\bold5000\\derivatives\\fmriprep\\sub-CSI1\\ses-01\\func\\sub-CSI1_ses-01_task-5000scenes_run-10_bold_space-T1w_preproc.nii.gz\n",
      "D:\\Repos\\clip-bold\\data\\raw\\bold5000\\derivatives\\fmriprep\\sub-CSI1\\ses-02\\func\\sub-CSI1_ses-02_task-5000scenes_run-01_bold_space-T1w_preproc.nii.gz\n",
      "D:\\Repos\\clip-bold\\data\\raw\\bold5000\\derivatives\\fmriprep\\sub-CSI1\\ses-02\\func\\sub-CSI1_ses-02_task-5000scenes_run-02_bold_space-T1w_preproc.nii.gz\n",
      "D:\\Repos\\clip-bold\\data\\raw\\bold5000\\derivatives\\fmriprep\\sub-CSI1\\ses-02\\func\\sub-CSI1_ses-02_task-5000scenes_run-03_bold_space-T1w_preproc.nii.gz\n",
      "D:\\Repos\\clip-bold\\data\\raw\\bold5000\\derivatives\\fmriprep\\sub-CSI1\\ses-02\\func\\sub-CSI1_ses-02_task-5000scenes_run-04_bold_space-T1w_preproc.nii.gz\n",
      "D:\\Repos\\clip-bold\\data\\raw\\bold5000\\derivatives\\fmriprep\\sub-CSI1\\ses-02\\func\\sub-CSI1_ses-02_task-5000scenes_run-05_bold_space-T1w_preproc.nii.gz\n",
      "D:\\Repos\\clip-bold\\data\\raw\\bold5000\\derivatives\\fmriprep\\sub-CSI1\\ses-02\\func\\sub-CSI1_ses-02_task-5000scenes_run-06_bold_space-T1w_preproc.nii.gz\n",
      "D:\\Repos\\clip-bold\\data\\raw\\bold5000\\derivatives\\fmriprep\\sub-CSI1\\ses-02\\func\\sub-CSI1_ses-02_task-5000scenes_run-07_bold_space-T1w_preproc.nii.gz\n",
      "D:\\Repos\\clip-bold\\data\\raw\\bold5000\\derivatives\\fmriprep\\sub-CSI1\\ses-02\\func\\sub-CSI1_ses-02_task-5000scenes_run-08_bold_space-T1w_preproc.nii.gz\n",
      "D:\\Repos\\clip-bold\\data\\raw\\bold5000\\derivatives\\fmriprep\\sub-CSI1\\ses-02\\func\\sub-CSI1_ses-02_task-5000scenes_run-09_bold_space-T1w_preproc.nii.gz\n",
      "D:\\Repos\\clip-bold\\data\\raw\\bold5000\\derivatives\\fmriprep\\sub-CSI1\\ses-02\\func\\sub-CSI1_ses-02_task-5000scenes_run-10_bold_space-T1w_preproc.nii.gz\n",
      "D:\\Repos\\clip-bold\\data\\raw\\bold5000\\derivatives\\fmriprep\\sub-CSI1\\ses-03\\func\\sub-CSI1_ses-03_task-5000scenes_run-01_bold_space-T1w_preproc.nii.gz\n",
      "D:\\Repos\\clip-bold\\data\\raw\\bold5000\\derivatives\\fmriprep\\sub-CSI1\\ses-03\\func\\sub-CSI1_ses-03_task-5000scenes_run-02_bold_space-T1w_preproc.nii.gz\n",
      "D:\\Repos\\clip-bold\\data\\raw\\bold5000\\derivatives\\fmriprep\\sub-CSI1\\ses-03\\func\\sub-CSI1_ses-03_task-5000scenes_run-03_bold_space-T1w_preproc.nii.gz\n",
      "D:\\Repos\\clip-bold\\data\\raw\\bold5000\\derivatives\\fmriprep\\sub-CSI1\\ses-03\\func\\sub-CSI1_ses-03_task-5000scenes_run-04_bold_space-T1w_preproc.nii.gz\n",
      "D:\\Repos\\clip-bold\\data\\raw\\bold5000\\derivatives\\fmriprep\\sub-CSI1\\ses-03\\func\\sub-CSI1_ses-03_task-5000scenes_run-05_bold_space-T1w_preproc.nii.gz\n",
      "D:\\Repos\\clip-bold\\data\\raw\\bold5000\\derivatives\\fmriprep\\sub-CSI1\\ses-03\\func\\sub-CSI1_ses-03_task-5000scenes_run-06_bold_space-T1w_preproc.nii.gz\n",
      "D:\\Repos\\clip-bold\\data\\raw\\bold5000\\derivatives\\fmriprep\\sub-CSI1\\ses-03\\func\\sub-CSI1_ses-03_task-5000scenes_run-07_bold_space-T1w_preproc.nii.gz\n",
      "D:\\Repos\\clip-bold\\data\\raw\\bold5000\\derivatives\\fmriprep\\sub-CSI1\\ses-03\\func\\sub-CSI1_ses-03_task-5000scenes_run-08_bold_space-T1w_preproc.nii.gz\n",
      "D:\\Repos\\clip-bold\\data\\raw\\bold5000\\derivatives\\fmriprep\\sub-CSI1\\ses-03\\func\\sub-CSI1_ses-03_task-5000scenes_run-09_bold_space-T1w_preproc.nii.gz\n",
      "D:\\Repos\\clip-bold\\data\\raw\\bold5000\\derivatives\\fmriprep\\sub-CSI1\\ses-03\\func\\sub-CSI1_ses-03_task-5000scenes_run-10_bold_space-T1w_preproc.nii.gz\n",
      "D:\\Repos\\clip-bold\\data\\raw\\bold5000\\derivatives\\fmriprep\\sub-CSI1\\ses-04\\func\\sub-CSI1_ses-04_task-5000scenes_run-01_bold_space-T1w_preproc.nii.gz\n",
      "D:\\Repos\\clip-bold\\data\\raw\\bold5000\\derivatives\\fmriprep\\sub-CSI1\\ses-04\\func\\sub-CSI1_ses-04_task-5000scenes_run-02_bold_space-T1w_preproc.nii.gz\n",
      "D:\\Repos\\clip-bold\\data\\raw\\bold5000\\derivatives\\fmriprep\\sub-CSI1\\ses-04\\func\\sub-CSI1_ses-04_task-5000scenes_run-03_bold_space-T1w_preproc.nii.gz\n",
      "D:\\Repos\\clip-bold\\data\\raw\\bold5000\\derivatives\\fmriprep\\sub-CSI1\\ses-04\\func\\sub-CSI1_ses-04_task-5000scenes_run-04_bold_space-T1w_preproc.nii.gz\n",
      "D:\\Repos\\clip-bold\\data\\raw\\bold5000\\derivatives\\fmriprep\\sub-CSI1\\ses-04\\func\\sub-CSI1_ses-04_task-5000scenes_run-05_bold_space-T1w_preproc.nii.gz\n",
      "D:\\Repos\\clip-bold\\data\\raw\\bold5000\\derivatives\\fmriprep\\sub-CSI1\\ses-04\\func\\sub-CSI1_ses-04_task-5000scenes_run-06_bold_space-T1w_preproc.nii.gz\n",
      "D:\\Repos\\clip-bold\\data\\raw\\bold5000\\derivatives\\fmriprep\\sub-CSI1\\ses-04\\func\\sub-CSI1_ses-04_task-5000scenes_run-07_bold_space-T1w_preproc.nii.gz\n",
      "D:\\Repos\\clip-bold\\data\\raw\\bold5000\\derivatives\\fmriprep\\sub-CSI1\\ses-04\\func\\sub-CSI1_ses-04_task-5000scenes_run-08_bold_space-T1w_preproc.nii.gz\n",
      "D:\\Repos\\clip-bold\\data\\raw\\bold5000\\derivatives\\fmriprep\\sub-CSI1\\ses-04\\func\\sub-CSI1_ses-04_task-5000scenes_run-09_bold_space-T1w_preproc.nii.gz\n",
      "D:\\Repos\\clip-bold\\data\\raw\\bold5000\\derivatives\\fmriprep\\sub-CSI1\\ses-05\\func\\sub-CSI1_ses-05_task-5000scenes_run-01_bold_space-T1w_preproc.nii.gz\n",
      "D:\\Repos\\clip-bold\\data\\raw\\bold5000\\derivatives\\fmriprep\\sub-CSI1\\ses-05\\func\\sub-CSI1_ses-05_task-5000scenes_run-02_bold_space-T1w_preproc.nii.gz\n",
      "D:\\Repos\\clip-bold\\data\\raw\\bold5000\\derivatives\\fmriprep\\sub-CSI1\\ses-05\\func\\sub-CSI1_ses-05_task-5000scenes_run-03_bold_space-T1w_preproc.nii.gz\n",
      "D:\\Repos\\clip-bold\\data\\raw\\bold5000\\derivatives\\fmriprep\\sub-CSI1\\ses-05\\func\\sub-CSI1_ses-05_task-5000scenes_run-04_bold_space-T1w_preproc.nii.gz\n",
      "D:\\Repos\\clip-bold\\data\\raw\\bold5000\\derivatives\\fmriprep\\sub-CSI1\\ses-05\\func\\sub-CSI1_ses-05_task-5000scenes_run-05_bold_space-T1w_preproc.nii.gz\n",
      "D:\\Repos\\clip-bold\\data\\raw\\bold5000\\derivatives\\fmriprep\\sub-CSI1\\ses-05\\func\\sub-CSI1_ses-05_task-5000scenes_run-06_bold_space-T1w_preproc.nii.gz\n",
      "D:\\Repos\\clip-bold\\data\\raw\\bold5000\\derivatives\\fmriprep\\sub-CSI1\\ses-05\\func\\sub-CSI1_ses-05_task-5000scenes_run-07_bold_space-T1w_preproc.nii.gz\n",
      "D:\\Repos\\clip-bold\\data\\raw\\bold5000\\derivatives\\fmriprep\\sub-CSI1\\ses-05\\func\\sub-CSI1_ses-05_task-5000scenes_run-08_bold_space-T1w_preproc.nii.gz\n",
      "D:\\Repos\\clip-bold\\data\\raw\\bold5000\\derivatives\\fmriprep\\sub-CSI1\\ses-05\\func\\sub-CSI1_ses-05_task-5000scenes_run-09_bold_space-T1w_preproc.nii.gz\n",
      "D:\\Repos\\clip-bold\\data\\raw\\bold5000\\derivatives\\fmriprep\\sub-CSI1\\ses-05\\func\\sub-CSI1_ses-05_task-5000scenes_run-10_bold_space-T1w_preproc.nii.gz\n",
      "D:\\Repos\\clip-bold\\data\\raw\\bold5000\\derivatives\\fmriprep\\sub-CSI1\\ses-06\\func\\sub-CSI1_ses-06_task-5000scenes_run-01_bold_space-T1w_preproc.nii.gz\n",
      "D:\\Repos\\clip-bold\\data\\raw\\bold5000\\derivatives\\fmriprep\\sub-CSI1\\ses-06\\func\\sub-CSI1_ses-06_task-5000scenes_run-02_bold_space-T1w_preproc.nii.gz\n",
      "D:\\Repos\\clip-bold\\data\\raw\\bold5000\\derivatives\\fmriprep\\sub-CSI1\\ses-06\\func\\sub-CSI1_ses-06_task-5000scenes_run-03_bold_space-T1w_preproc.nii.gz\n",
      "D:\\Repos\\clip-bold\\data\\raw\\bold5000\\derivatives\\fmriprep\\sub-CSI1\\ses-06\\func\\sub-CSI1_ses-06_task-5000scenes_run-04_bold_space-T1w_preproc.nii.gz\n",
      "D:\\Repos\\clip-bold\\data\\raw\\bold5000\\derivatives\\fmriprep\\sub-CSI1\\ses-06\\func\\sub-CSI1_ses-06_task-5000scenes_run-05_bold_space-T1w_preproc.nii.gz\n",
      "D:\\Repos\\clip-bold\\data\\raw\\bold5000\\derivatives\\fmriprep\\sub-CSI1\\ses-06\\func\\sub-CSI1_ses-06_task-5000scenes_run-06_bold_space-T1w_preproc.nii.gz\n",
      "D:\\Repos\\clip-bold\\data\\raw\\bold5000\\derivatives\\fmriprep\\sub-CSI1\\ses-06\\func\\sub-CSI1_ses-06_task-5000scenes_run-07_bold_space-T1w_preproc.nii.gz\n",
      "D:\\Repos\\clip-bold\\data\\raw\\bold5000\\derivatives\\fmriprep\\sub-CSI1\\ses-06\\func\\sub-CSI1_ses-06_task-5000scenes_run-08_bold_space-T1w_preproc.nii.gz\n",
      "D:\\Repos\\clip-bold\\data\\raw\\bold5000\\derivatives\\fmriprep\\sub-CSI1\\ses-06\\func\\sub-CSI1_ses-06_task-5000scenes_run-09_bold_space-T1w_preproc.nii.gz\n",
      "D:\\Repos\\clip-bold\\data\\raw\\bold5000\\derivatives\\fmriprep\\sub-CSI1\\ses-07\\func\\sub-CSI1_ses-07_task-5000scenes_run-01_bold_space-T1w_preproc.nii.gz\n",
      "D:\\Repos\\clip-bold\\data\\raw\\bold5000\\derivatives\\fmriprep\\sub-CSI1\\ses-07\\func\\sub-CSI1_ses-07_task-5000scenes_run-02_bold_space-T1w_preproc.nii.gz\n",
      "D:\\Repos\\clip-bold\\data\\raw\\bold5000\\derivatives\\fmriprep\\sub-CSI1\\ses-07\\func\\sub-CSI1_ses-07_task-5000scenes_run-03_bold_space-T1w_preproc.nii.gz\n",
      "D:\\Repos\\clip-bold\\data\\raw\\bold5000\\derivatives\\fmriprep\\sub-CSI1\\ses-07\\func\\sub-CSI1_ses-07_task-5000scenes_run-04_bold_space-T1w_preproc.nii.gz\n",
      "D:\\Repos\\clip-bold\\data\\raw\\bold5000\\derivatives\\fmriprep\\sub-CSI1\\ses-07\\func\\sub-CSI1_ses-07_task-5000scenes_run-05_bold_space-T1w_preproc.nii.gz\n",
      "D:\\Repos\\clip-bold\\data\\raw\\bold5000\\derivatives\\fmriprep\\sub-CSI1\\ses-07\\func\\sub-CSI1_ses-07_task-5000scenes_run-06_bold_space-T1w_preproc.nii.gz\n",
      "D:\\Repos\\clip-bold\\data\\raw\\bold5000\\derivatives\\fmriprep\\sub-CSI1\\ses-07\\func\\sub-CSI1_ses-07_task-5000scenes_run-07_bold_space-T1w_preproc.nii.gz\n",
      "D:\\Repos\\clip-bold\\data\\raw\\bold5000\\derivatives\\fmriprep\\sub-CSI1\\ses-07\\func\\sub-CSI1_ses-07_task-5000scenes_run-08_bold_space-T1w_preproc.nii.gz\n",
      "D:\\Repos\\clip-bold\\data\\raw\\bold5000\\derivatives\\fmriprep\\sub-CSI1\\ses-07\\func\\sub-CSI1_ses-07_task-5000scenes_run-09_bold_space-T1w_preproc.nii.gz\n",
      "D:\\Repos\\clip-bold\\data\\raw\\bold5000\\derivatives\\fmriprep\\sub-CSI1\\ses-07\\func\\sub-CSI1_ses-07_task-5000scenes_run-10_bold_space-T1w_preproc.nii.gz\n",
      "D:\\Repos\\clip-bold\\data\\raw\\bold5000\\derivatives\\fmriprep\\sub-CSI1\\ses-08\\func\\sub-CSI1_ses-08_task-5000scenes_run-01_bold_space-T1w_preproc.nii.gz\n",
      "D:\\Repos\\clip-bold\\data\\raw\\bold5000\\derivatives\\fmriprep\\sub-CSI1\\ses-08\\func\\sub-CSI1_ses-08_task-5000scenes_run-02_bold_space-T1w_preproc.nii.gz\n",
      "D:\\Repos\\clip-bold\\data\\raw\\bold5000\\derivatives\\fmriprep\\sub-CSI1\\ses-08\\func\\sub-CSI1_ses-08_task-5000scenes_run-03_bold_space-T1w_preproc.nii.gz\n",
      "D:\\Repos\\clip-bold\\data\\raw\\bold5000\\derivatives\\fmriprep\\sub-CSI1\\ses-08\\func\\sub-CSI1_ses-08_task-5000scenes_run-04_bold_space-T1w_preproc.nii.gz\n",
      "D:\\Repos\\clip-bold\\data\\raw\\bold5000\\derivatives\\fmriprep\\sub-CSI1\\ses-08\\func\\sub-CSI1_ses-08_task-5000scenes_run-05_bold_space-T1w_preproc.nii.gz\n",
      "D:\\Repos\\clip-bold\\data\\raw\\bold5000\\derivatives\\fmriprep\\sub-CSI1\\ses-08\\func\\sub-CSI1_ses-08_task-5000scenes_run-06_bold_space-T1w_preproc.nii.gz\n",
      "D:\\Repos\\clip-bold\\data\\raw\\bold5000\\derivatives\\fmriprep\\sub-CSI1\\ses-08\\func\\sub-CSI1_ses-08_task-5000scenes_run-07_bold_space-T1w_preproc.nii.gz\n",
      "D:\\Repos\\clip-bold\\data\\raw\\bold5000\\derivatives\\fmriprep\\sub-CSI1\\ses-08\\func\\sub-CSI1_ses-08_task-5000scenes_run-08_bold_space-T1w_preproc.nii.gz\n",
      "D:\\Repos\\clip-bold\\data\\raw\\bold5000\\derivatives\\fmriprep\\sub-CSI1\\ses-08\\func\\sub-CSI1_ses-08_task-5000scenes_run-09_bold_space-T1w_preproc.nii.gz\n",
      "D:\\Repos\\clip-bold\\data\\raw\\bold5000\\derivatives\\fmriprep\\sub-CSI1\\ses-09\\func\\sub-CSI1_ses-09_task-5000scenes_run-01_bold_space-T1w_preproc.nii.gz\n",
      "D:\\Repos\\clip-bold\\data\\raw\\bold5000\\derivatives\\fmriprep\\sub-CSI1\\ses-09\\func\\sub-CSI1_ses-09_task-5000scenes_run-02_bold_space-T1w_preproc.nii.gz\n",
      "D:\\Repos\\clip-bold\\data\\raw\\bold5000\\derivatives\\fmriprep\\sub-CSI1\\ses-09\\func\\sub-CSI1_ses-09_task-5000scenes_run-03_bold_space-T1w_preproc.nii.gz\n",
      "D:\\Repos\\clip-bold\\data\\raw\\bold5000\\derivatives\\fmriprep\\sub-CSI1\\ses-09\\func\\sub-CSI1_ses-09_task-5000scenes_run-04_bold_space-T1w_preproc.nii.gz\n",
      "D:\\Repos\\clip-bold\\data\\raw\\bold5000\\derivatives\\fmriprep\\sub-CSI1\\ses-09\\func\\sub-CSI1_ses-09_task-5000scenes_run-05_bold_space-T1w_preproc.nii.gz\n",
      "D:\\Repos\\clip-bold\\data\\raw\\bold5000\\derivatives\\fmriprep\\sub-CSI1\\ses-09\\func\\sub-CSI1_ses-09_task-5000scenes_run-06_bold_space-T1w_preproc.nii.gz\n",
      "D:\\Repos\\clip-bold\\data\\raw\\bold5000\\derivatives\\fmriprep\\sub-CSI1\\ses-09\\func\\sub-CSI1_ses-09_task-5000scenes_run-07_bold_space-T1w_preproc.nii.gz\n",
      "D:\\Repos\\clip-bold\\data\\raw\\bold5000\\derivatives\\fmriprep\\sub-CSI1\\ses-09\\func\\sub-CSI1_ses-09_task-5000scenes_run-08_bold_space-T1w_preproc.nii.gz\n",
      "D:\\Repos\\clip-bold\\data\\raw\\bold5000\\derivatives\\fmriprep\\sub-CSI1\\ses-09\\func\\sub-CSI1_ses-09_task-5000scenes_run-09_bold_space-T1w_preproc.nii.gz\n",
      "D:\\Repos\\clip-bold\\data\\raw\\bold5000\\derivatives\\fmriprep\\sub-CSI1\\ses-10\\func\\sub-CSI1_ses-10_task-5000scenes_run-01_bold_space-T1w_preproc.nii.gz\n",
      "D:\\Repos\\clip-bold\\data\\raw\\bold5000\\derivatives\\fmriprep\\sub-CSI1\\ses-10\\func\\sub-CSI1_ses-10_task-5000scenes_run-02_bold_space-T1w_preproc.nii.gz\n",
      "D:\\Repos\\clip-bold\\data\\raw\\bold5000\\derivatives\\fmriprep\\sub-CSI1\\ses-10\\func\\sub-CSI1_ses-10_task-5000scenes_run-03_bold_space-T1w_preproc.nii.gz\n",
      "D:\\Repos\\clip-bold\\data\\raw\\bold5000\\derivatives\\fmriprep\\sub-CSI1\\ses-10\\func\\sub-CSI1_ses-10_task-5000scenes_run-04_bold_space-T1w_preproc.nii.gz\n",
      "D:\\Repos\\clip-bold\\data\\raw\\bold5000\\derivatives\\fmriprep\\sub-CSI1\\ses-10\\func\\sub-CSI1_ses-10_task-5000scenes_run-05_bold_space-T1w_preproc.nii.gz\n",
      "D:\\Repos\\clip-bold\\data\\raw\\bold5000\\derivatives\\fmriprep\\sub-CSI1\\ses-10\\func\\sub-CSI1_ses-10_task-5000scenes_run-06_bold_space-T1w_preproc.nii.gz\n",
      "D:\\Repos\\clip-bold\\data\\raw\\bold5000\\derivatives\\fmriprep\\sub-CSI1\\ses-10\\func\\sub-CSI1_ses-10_task-5000scenes_run-07_bold_space-T1w_preproc.nii.gz\n",
      "D:\\Repos\\clip-bold\\data\\raw\\bold5000\\derivatives\\fmriprep\\sub-CSI1\\ses-10\\func\\sub-CSI1_ses-10_task-5000scenes_run-08_bold_space-T1w_preproc.nii.gz\n",
      "D:\\Repos\\clip-bold\\data\\raw\\bold5000\\derivatives\\fmriprep\\sub-CSI1\\ses-10\\func\\sub-CSI1_ses-10_task-5000scenes_run-09_bold_space-T1w_preproc.nii.gz\n",
      "D:\\Repos\\clip-bold\\data\\raw\\bold5000\\derivatives\\fmriprep\\sub-CSI1\\ses-10\\func\\sub-CSI1_ses-10_task-5000scenes_run-10_bold_space-T1w_preproc.nii.gz\n",
      "D:\\Repos\\clip-bold\\data\\raw\\bold5000\\derivatives\\fmriprep\\sub-CSI1\\ses-11\\func\\sub-CSI1_ses-11_task-5000scenes_run-01_bold_space-T1w_preproc.nii.gz\n",
      "D:\\Repos\\clip-bold\\data\\raw\\bold5000\\derivatives\\fmriprep\\sub-CSI1\\ses-11\\func\\sub-CSI1_ses-11_task-5000scenes_run-02_bold_space-T1w_preproc.nii.gz\n",
      "D:\\Repos\\clip-bold\\data\\raw\\bold5000\\derivatives\\fmriprep\\sub-CSI1\\ses-11\\func\\sub-CSI1_ses-11_task-5000scenes_run-03_bold_space-T1w_preproc.nii.gz\n",
      "D:\\Repos\\clip-bold\\data\\raw\\bold5000\\derivatives\\fmriprep\\sub-CSI1\\ses-11\\func\\sub-CSI1_ses-11_task-5000scenes_run-04_bold_space-T1w_preproc.nii.gz\n",
      "D:\\Repos\\clip-bold\\data\\raw\\bold5000\\derivatives\\fmriprep\\sub-CSI1\\ses-11\\func\\sub-CSI1_ses-11_task-5000scenes_run-05_bold_space-T1w_preproc.nii.gz\n",
      "D:\\Repos\\clip-bold\\data\\raw\\bold5000\\derivatives\\fmriprep\\sub-CSI1\\ses-11\\func\\sub-CSI1_ses-11_task-5000scenes_run-06_bold_space-T1w_preproc.nii.gz\n",
      "D:\\Repos\\clip-bold\\data\\raw\\bold5000\\derivatives\\fmriprep\\sub-CSI1\\ses-11\\func\\sub-CSI1_ses-11_task-5000scenes_run-07_bold_space-T1w_preproc.nii.gz\n",
      "D:\\Repos\\clip-bold\\data\\raw\\bold5000\\derivatives\\fmriprep\\sub-CSI1\\ses-11\\func\\sub-CSI1_ses-11_task-5000scenes_run-08_bold_space-T1w_preproc.nii.gz\n",
      "D:\\Repos\\clip-bold\\data\\raw\\bold5000\\derivatives\\fmriprep\\sub-CSI1\\ses-11\\func\\sub-CSI1_ses-11_task-5000scenes_run-09_bold_space-T1w_preproc.nii.gz\n",
      "D:\\Repos\\clip-bold\\data\\raw\\bold5000\\derivatives\\fmriprep\\sub-CSI1\\ses-12\\func\\sub-CSI1_ses-12_task-5000scenes_run-01_bold_space-T1w_preproc.nii.gz\n",
      "D:\\Repos\\clip-bold\\data\\raw\\bold5000\\derivatives\\fmriprep\\sub-CSI1\\ses-12\\func\\sub-CSI1_ses-12_task-5000scenes_run-02_bold_space-T1w_preproc.nii.gz\n",
      "D:\\Repos\\clip-bold\\data\\raw\\bold5000\\derivatives\\fmriprep\\sub-CSI1\\ses-12\\func\\sub-CSI1_ses-12_task-5000scenes_run-03_bold_space-T1w_preproc.nii.gz\n",
      "D:\\Repos\\clip-bold\\data\\raw\\bold5000\\derivatives\\fmriprep\\sub-CSI1\\ses-12\\func\\sub-CSI1_ses-12_task-5000scenes_run-04_bold_space-T1w_preproc.nii.gz\n",
      "D:\\Repos\\clip-bold\\data\\raw\\bold5000\\derivatives\\fmriprep\\sub-CSI1\\ses-12\\func\\sub-CSI1_ses-12_task-5000scenes_run-05_bold_space-T1w_preproc.nii.gz\n",
      "D:\\Repos\\clip-bold\\data\\raw\\bold5000\\derivatives\\fmriprep\\sub-CSI1\\ses-12\\func\\sub-CSI1_ses-12_task-5000scenes_run-06_bold_space-T1w_preproc.nii.gz\n",
      "D:\\Repos\\clip-bold\\data\\raw\\bold5000\\derivatives\\fmriprep\\sub-CSI1\\ses-12\\func\\sub-CSI1_ses-12_task-5000scenes_run-07_bold_space-T1w_preproc.nii.gz\n",
      "D:\\Repos\\clip-bold\\data\\raw\\bold5000\\derivatives\\fmriprep\\sub-CSI1\\ses-12\\func\\sub-CSI1_ses-12_task-5000scenes_run-08_bold_space-T1w_preproc.nii.gz\n",
      "D:\\Repos\\clip-bold\\data\\raw\\bold5000\\derivatives\\fmriprep\\sub-CSI1\\ses-12\\func\\sub-CSI1_ses-12_task-5000scenes_run-09_bold_space-T1w_preproc.nii.gz\n",
      "D:\\Repos\\clip-bold\\data\\raw\\bold5000\\derivatives\\fmriprep\\sub-CSI1\\ses-13\\func\\sub-CSI1_ses-13_task-5000scenes_run-01_bold_space-T1w_preproc.nii.gz\n",
      "D:\\Repos\\clip-bold\\data\\raw\\bold5000\\derivatives\\fmriprep\\sub-CSI1\\ses-13\\func\\sub-CSI1_ses-13_task-5000scenes_run-02_bold_space-T1w_preproc.nii.gz\n",
      "D:\\Repos\\clip-bold\\data\\raw\\bold5000\\derivatives\\fmriprep\\sub-CSI1\\ses-13\\func\\sub-CSI1_ses-13_task-5000scenes_run-03_bold_space-T1w_preproc.nii.gz\n",
      "D:\\Repos\\clip-bold\\data\\raw\\bold5000\\derivatives\\fmriprep\\sub-CSI1\\ses-13\\func\\sub-CSI1_ses-13_task-5000scenes_run-04_bold_space-T1w_preproc.nii.gz\n",
      "D:\\Repos\\clip-bold\\data\\raw\\bold5000\\derivatives\\fmriprep\\sub-CSI1\\ses-13\\func\\sub-CSI1_ses-13_task-5000scenes_run-05_bold_space-T1w_preproc.nii.gz\n",
      "D:\\Repos\\clip-bold\\data\\raw\\bold5000\\derivatives\\fmriprep\\sub-CSI1\\ses-13\\func\\sub-CSI1_ses-13_task-5000scenes_run-06_bold_space-T1w_preproc.nii.gz\n",
      "D:\\Repos\\clip-bold\\data\\raw\\bold5000\\derivatives\\fmriprep\\sub-CSI1\\ses-13\\func\\sub-CSI1_ses-13_task-5000scenes_run-07_bold_space-T1w_preproc.nii.gz\n",
      "D:\\Repos\\clip-bold\\data\\raw\\bold5000\\derivatives\\fmriprep\\sub-CSI1\\ses-13\\func\\sub-CSI1_ses-13_task-5000scenes_run-08_bold_space-T1w_preproc.nii.gz\n",
      "D:\\Repos\\clip-bold\\data\\raw\\bold5000\\derivatives\\fmriprep\\sub-CSI1\\ses-13\\func\\sub-CSI1_ses-13_task-5000scenes_run-09_bold_space-T1w_preproc.nii.gz\n",
      "D:\\Repos\\clip-bold\\data\\raw\\bold5000\\derivatives\\fmriprep\\sub-CSI1\\ses-14\\func\\sub-CSI1_ses-14_task-5000scenes_run-01_bold_space-T1w_preproc.nii.gz\n",
      "D:\\Repos\\clip-bold\\data\\raw\\bold5000\\derivatives\\fmriprep\\sub-CSI1\\ses-14\\func\\sub-CSI1_ses-14_task-5000scenes_run-02_bold_space-T1w_preproc.nii.gz\n",
      "D:\\Repos\\clip-bold\\data\\raw\\bold5000\\derivatives\\fmriprep\\sub-CSI1\\ses-14\\func\\sub-CSI1_ses-14_task-5000scenes_run-03_bold_space-T1w_preproc.nii.gz\n",
      "D:\\Repos\\clip-bold\\data\\raw\\bold5000\\derivatives\\fmriprep\\sub-CSI1\\ses-14\\func\\sub-CSI1_ses-14_task-5000scenes_run-04_bold_space-T1w_preproc.nii.gz\n",
      "D:\\Repos\\clip-bold\\data\\raw\\bold5000\\derivatives\\fmriprep\\sub-CSI1\\ses-14\\func\\sub-CSI1_ses-14_task-5000scenes_run-05_bold_space-T1w_preproc.nii.gz\n",
      "D:\\Repos\\clip-bold\\data\\raw\\bold5000\\derivatives\\fmriprep\\sub-CSI1\\ses-14\\func\\sub-CSI1_ses-14_task-5000scenes_run-06_bold_space-T1w_preproc.nii.gz\n",
      "D:\\Repos\\clip-bold\\data\\raw\\bold5000\\derivatives\\fmriprep\\sub-CSI1\\ses-14\\func\\sub-CSI1_ses-14_task-5000scenes_run-07_bold_space-T1w_preproc.nii.gz\n",
      "D:\\Repos\\clip-bold\\data\\raw\\bold5000\\derivatives\\fmriprep\\sub-CSI1\\ses-14\\func\\sub-CSI1_ses-14_task-5000scenes_run-08_bold_space-T1w_preproc.nii.gz\n",
      "D:\\Repos\\clip-bold\\data\\raw\\bold5000\\derivatives\\fmriprep\\sub-CSI1\\ses-14\\func\\sub-CSI1_ses-14_task-5000scenes_run-09_bold_space-T1w_preproc.nii.gz\n",
      "D:\\Repos\\clip-bold\\data\\raw\\bold5000\\derivatives\\fmriprep\\sub-CSI1\\ses-15\\func\\sub-CSI1_ses-15_task-5000scenes_run-01_bold_space-T1w_preproc.nii.gz\n",
      "D:\\Repos\\clip-bold\\data\\raw\\bold5000\\derivatives\\fmriprep\\sub-CSI1\\ses-15\\func\\sub-CSI1_ses-15_task-5000scenes_run-02_bold_space-T1w_preproc.nii.gz\n",
      "D:\\Repos\\clip-bold\\data\\raw\\bold5000\\derivatives\\fmriprep\\sub-CSI1\\ses-15\\func\\sub-CSI1_ses-15_task-5000scenes_run-03_bold_space-T1w_preproc.nii.gz\n",
      "D:\\Repos\\clip-bold\\data\\raw\\bold5000\\derivatives\\fmriprep\\sub-CSI1\\ses-15\\func\\sub-CSI1_ses-15_task-5000scenes_run-04_bold_space-T1w_preproc.nii.gz\n",
      "D:\\Repos\\clip-bold\\data\\raw\\bold5000\\derivatives\\fmriprep\\sub-CSI1\\ses-15\\func\\sub-CSI1_ses-15_task-5000scenes_run-05_bold_space-T1w_preproc.nii.gz\n",
      "D:\\Repos\\clip-bold\\data\\raw\\bold5000\\derivatives\\fmriprep\\sub-CSI1\\ses-15\\func\\sub-CSI1_ses-15_task-5000scenes_run-06_bold_space-T1w_preproc.nii.gz\n",
      "D:\\Repos\\clip-bold\\data\\raw\\bold5000\\derivatives\\fmriprep\\sub-CSI1\\ses-15\\func\\sub-CSI1_ses-15_task-5000scenes_run-07_bold_space-T1w_preproc.nii.gz\n",
      "D:\\Repos\\clip-bold\\data\\raw\\bold5000\\derivatives\\fmriprep\\sub-CSI1\\ses-15\\func\\sub-CSI1_ses-15_task-5000scenes_run-08_bold_space-T1w_preproc.nii.gz\n",
      "D:\\Repos\\clip-bold\\data\\raw\\bold5000\\derivatives\\fmriprep\\sub-CSI1\\ses-15\\func\\sub-CSI1_ses-15_task-5000scenes_run-09_bold_space-T1w_preproc.nii.gz\n",
      "D:\\Repos\\clip-bold\\data\\raw\\bold5000\\derivatives\\fmriprep\\sub-CSI1\\ses-15\\func\\sub-CSI1_ses-15_task-5000scenes_run-10_bold_space-T1w_preproc.nii.gz\n"
     ]
    }
   ],
   "source": [
    "BOLD_DATA = r\"D:\\Repos\\clip-bold\\data\\raw\\bold5000\\derivatives\\fmriprep\"\n",
    "OUTPUT_PATH = r\"D:\\Repos\\clip-bold\\data\\intermediate\\02_stimulus_step\"\n",
    "\n",
    "transform = tio.Resize((50, 60, 50))\n",
    "\n",
    "def get_nifti_files(participant: int):\n",
    "    \"\"\"\n",
    "    Get all nii files corresponding to a participant index\n",
    "    \"\"\"\n",
    "    data_dir = os.path.join(BOLD_DATA, f\"sub-CSI{participant}\")\n",
    "\n",
    "    participant_captions = []\n",
    "\n",
    "    # get all run data\n",
    "    data_index = 0\n",
    "    for root, _, files in os.walk(data_dir):\n",
    "        for filename in files:\n",
    "            file = os.path.join(root, filename)\n",
    "\n",
    "            if file.endswith(\"_preproc.nii.gz\") and \"run\" in file:\n",
    "                print(os.path.join(root, filename))\n",
    "                # extract session and run number\n",
    "                session = file.split(\"ses-\")[-1][:2]\n",
    "                run = file.split(\"run-\")[-1][:2]\n",
    "                \n",
    "                # get stimulus info \n",
    "                stimulus_path = rf\"D:\\Repos\\clip-bold\\data\\raw\\bold5000\\sub-CSI{participant}\\ses-{session}\\func\\sub-CSI{participant}_ses-{session}_task-5000scenes_run-{run}_events.tsv\"\n",
    "                stimulus_info = pd.read_csv(stimulus_path, sep='\\t')\n",
    "                \n",
    "                # load BOLD data and resize\n",
    "                # img = nib.load(file).get_fdata()\n",
    "                img = transform(tio.ScalarImage(file))\n",
    "\n",
    "                # first stimulus presented at 6 seconds (3 steps)\n",
    "                time_index = 3\n",
    "                for i in range(37):\n",
    "                    # save image\n",
    "                    np.save(os.path.join(OUTPUT_PATH, f\"CSI{participant}-{data_index}.npy\"), img.data[time_index, :, :, :].numpy())\n",
    "\n",
    "                    # get stimulus details \n",
    "                    stimulus_type = stimulus_info.iloc[i][\"ImgType\"]\n",
    "                    stimulus_name = stimulus_info.iloc[i][\"ImgName\"]\n",
    "                    if \"rep_\" in stimulus_type:\n",
    "                        stimulus_type = stimulus_type[4:]\n",
    "                    # print(stimulus_type, stimulus_name)\n",
    "\n",
    "                    # get caption\n",
    "                    stimulus_caption = captions[stimulus_type][stimulus_name]\n",
    "                    participant_captions.append(stimulus_caption)\n",
    "                    \n",
    "                    # then wait 9 seconds (5 steps)\n",
    "                    time_index += 5\n",
    "                    # increment index\n",
    "                    data_index += 1\n",
    "\n",
    "    with open(rf\"D:\\Repos\\clip-bold\\data\\intermediate\\01_captions\\CSI{participant}.txt\", \"w\") as file:\n",
    "        file.writelines('\\n'.join(str(i) for i in participant_captions))\n",
    "\n",
    "with warnings.catch_warnings():\n",
    "    warnings.simplefilter('ignore', UserWarning)\n",
    "    warnings.simplefilter('ignore', DeprecationWarning)\n",
    "    get_nifti_files(1)"
   ]
  },
  {
   "cell_type": "code",
   "execution_count": 5,
   "metadata": {},
   "outputs": [
    {
     "name": "stdout",
     "output_type": "stream",
     "text": [
      "D:\\Repos\\clip-bold\\data\\raw\\bold5000\\derivatives\\fmriprep\\sub-CSI2\\ses-01\\func\\sub-CSI2_ses-01_task-5000scenes_run-01_bold_space-T1w_preproc.nii.gz\n",
      "D:\\Repos\\clip-bold\\data\\raw\\bold5000\\derivatives\\fmriprep\\sub-CSI2\\ses-01\\func\\sub-CSI2_ses-01_task-5000scenes_run-02_bold_space-T1w_preproc.nii.gz\n",
      "D:\\Repos\\clip-bold\\data\\raw\\bold5000\\derivatives\\fmriprep\\sub-CSI2\\ses-01\\func\\sub-CSI2_ses-01_task-5000scenes_run-03_bold_space-T1w_preproc.nii.gz\n",
      "D:\\Repos\\clip-bold\\data\\raw\\bold5000\\derivatives\\fmriprep\\sub-CSI2\\ses-01\\func\\sub-CSI2_ses-01_task-5000scenes_run-04_bold_space-T1w_preproc.nii.gz\n",
      "D:\\Repos\\clip-bold\\data\\raw\\bold5000\\derivatives\\fmriprep\\sub-CSI2\\ses-01\\func\\sub-CSI2_ses-01_task-5000scenes_run-05_bold_space-T1w_preproc.nii.gz\n",
      "D:\\Repos\\clip-bold\\data\\raw\\bold5000\\derivatives\\fmriprep\\sub-CSI2\\ses-01\\func\\sub-CSI2_ses-01_task-5000scenes_run-06_bold_space-T1w_preproc.nii.gz\n",
      "D:\\Repos\\clip-bold\\data\\raw\\bold5000\\derivatives\\fmriprep\\sub-CSI2\\ses-01\\func\\sub-CSI2_ses-01_task-5000scenes_run-07_bold_space-T1w_preproc.nii.gz\n",
      "D:\\Repos\\clip-bold\\data\\raw\\bold5000\\derivatives\\fmriprep\\sub-CSI2\\ses-01\\func\\sub-CSI2_ses-01_task-5000scenes_run-08_bold_space-T1w_preproc.nii.gz\n",
      "D:\\Repos\\clip-bold\\data\\raw\\bold5000\\derivatives\\fmriprep\\sub-CSI2\\ses-01\\func\\sub-CSI2_ses-01_task-5000scenes_run-09_bold_space-T1w_preproc.nii.gz\n",
      "D:\\Repos\\clip-bold\\data\\raw\\bold5000\\derivatives\\fmriprep\\sub-CSI2\\ses-01\\func\\sub-CSI2_ses-01_task-5000scenes_run-10_bold_space-T1w_preproc.nii.gz\n",
      "D:\\Repos\\clip-bold\\data\\raw\\bold5000\\derivatives\\fmriprep\\sub-CSI2\\ses-02\\func\\sub-CSI2_ses-02_task-5000scenes_run-01_bold_space-T1w_preproc.nii.gz\n",
      "D:\\Repos\\clip-bold\\data\\raw\\bold5000\\derivatives\\fmriprep\\sub-CSI2\\ses-02\\func\\sub-CSI2_ses-02_task-5000scenes_run-02_bold_space-T1w_preproc.nii.gz\n",
      "D:\\Repos\\clip-bold\\data\\raw\\bold5000\\derivatives\\fmriprep\\sub-CSI2\\ses-02\\func\\sub-CSI2_ses-02_task-5000scenes_run-03_bold_space-T1w_preproc.nii.gz\n",
      "D:\\Repos\\clip-bold\\data\\raw\\bold5000\\derivatives\\fmriprep\\sub-CSI2\\ses-02\\func\\sub-CSI2_ses-02_task-5000scenes_run-04_bold_space-T1w_preproc.nii.gz\n",
      "D:\\Repos\\clip-bold\\data\\raw\\bold5000\\derivatives\\fmriprep\\sub-CSI2\\ses-02\\func\\sub-CSI2_ses-02_task-5000scenes_run-05_bold_space-T1w_preproc.nii.gz\n",
      "D:\\Repos\\clip-bold\\data\\raw\\bold5000\\derivatives\\fmriprep\\sub-CSI2\\ses-02\\func\\sub-CSI2_ses-02_task-5000scenes_run-06_bold_space-T1w_preproc.nii.gz\n",
      "D:\\Repos\\clip-bold\\data\\raw\\bold5000\\derivatives\\fmriprep\\sub-CSI2\\ses-02\\func\\sub-CSI2_ses-02_task-5000scenes_run-07_bold_space-T1w_preproc.nii.gz\n",
      "D:\\Repos\\clip-bold\\data\\raw\\bold5000\\derivatives\\fmriprep\\sub-CSI2\\ses-02\\func\\sub-CSI2_ses-02_task-5000scenes_run-08_bold_space-T1w_preproc.nii.gz\n",
      "D:\\Repos\\clip-bold\\data\\raw\\bold5000\\derivatives\\fmriprep\\sub-CSI2\\ses-02\\func\\sub-CSI2_ses-02_task-5000scenes_run-09_bold_space-T1w_preproc.nii.gz\n",
      "D:\\Repos\\clip-bold\\data\\raw\\bold5000\\derivatives\\fmriprep\\sub-CSI2\\ses-03\\func\\sub-CSI2_ses-03_task-5000scenes_run-01_bold_space-T1w_preproc.nii.gz\n",
      "D:\\Repos\\clip-bold\\data\\raw\\bold5000\\derivatives\\fmriprep\\sub-CSI2\\ses-03\\func\\sub-CSI2_ses-03_task-5000scenes_run-02_bold_space-T1w_preproc.nii.gz\n",
      "D:\\Repos\\clip-bold\\data\\raw\\bold5000\\derivatives\\fmriprep\\sub-CSI2\\ses-03\\func\\sub-CSI2_ses-03_task-5000scenes_run-03_bold_space-T1w_preproc.nii.gz\n",
      "D:\\Repos\\clip-bold\\data\\raw\\bold5000\\derivatives\\fmriprep\\sub-CSI2\\ses-03\\func\\sub-CSI2_ses-03_task-5000scenes_run-04_bold_space-T1w_preproc.nii.gz\n",
      "D:\\Repos\\clip-bold\\data\\raw\\bold5000\\derivatives\\fmriprep\\sub-CSI2\\ses-03\\func\\sub-CSI2_ses-03_task-5000scenes_run-05_bold_space-T1w_preproc.nii.gz\n",
      "D:\\Repos\\clip-bold\\data\\raw\\bold5000\\derivatives\\fmriprep\\sub-CSI2\\ses-03\\func\\sub-CSI2_ses-03_task-5000scenes_run-06_bold_space-T1w_preproc.nii.gz\n",
      "D:\\Repos\\clip-bold\\data\\raw\\bold5000\\derivatives\\fmriprep\\sub-CSI2\\ses-03\\func\\sub-CSI2_ses-03_task-5000scenes_run-07_bold_space-T1w_preproc.nii.gz\n",
      "D:\\Repos\\clip-bold\\data\\raw\\bold5000\\derivatives\\fmriprep\\sub-CSI2\\ses-03\\func\\sub-CSI2_ses-03_task-5000scenes_run-08_bold_space-T1w_preproc.nii.gz\n",
      "D:\\Repos\\clip-bold\\data\\raw\\bold5000\\derivatives\\fmriprep\\sub-CSI2\\ses-03\\func\\sub-CSI2_ses-03_task-5000scenes_run-09_bold_space-T1w_preproc.nii.gz\n",
      "D:\\Repos\\clip-bold\\data\\raw\\bold5000\\derivatives\\fmriprep\\sub-CSI2\\ses-03\\func\\sub-CSI2_ses-03_task-5000scenes_run-10_bold_space-T1w_preproc.nii.gz\n",
      "D:\\Repos\\clip-bold\\data\\raw\\bold5000\\derivatives\\fmriprep\\sub-CSI2\\ses-04\\func\\sub-CSI2_ses-04_task-5000scenes_run-01_bold_space-T1w_preproc.nii.gz\n",
      "D:\\Repos\\clip-bold\\data\\raw\\bold5000\\derivatives\\fmriprep\\sub-CSI2\\ses-04\\func\\sub-CSI2_ses-04_task-5000scenes_run-02_bold_space-T1w_preproc.nii.gz\n",
      "D:\\Repos\\clip-bold\\data\\raw\\bold5000\\derivatives\\fmriprep\\sub-CSI2\\ses-04\\func\\sub-CSI2_ses-04_task-5000scenes_run-03_bold_space-T1w_preproc.nii.gz\n",
      "D:\\Repos\\clip-bold\\data\\raw\\bold5000\\derivatives\\fmriprep\\sub-CSI2\\ses-04\\func\\sub-CSI2_ses-04_task-5000scenes_run-04_bold_space-T1w_preproc.nii.gz\n",
      "D:\\Repos\\clip-bold\\data\\raw\\bold5000\\derivatives\\fmriprep\\sub-CSI2\\ses-04\\func\\sub-CSI2_ses-04_task-5000scenes_run-05_bold_space-T1w_preproc.nii.gz\n",
      "D:\\Repos\\clip-bold\\data\\raw\\bold5000\\derivatives\\fmriprep\\sub-CSI2\\ses-04\\func\\sub-CSI2_ses-04_task-5000scenes_run-06_bold_space-T1w_preproc.nii.gz\n",
      "D:\\Repos\\clip-bold\\data\\raw\\bold5000\\derivatives\\fmriprep\\sub-CSI2\\ses-04\\func\\sub-CSI2_ses-04_task-5000scenes_run-07_bold_space-T1w_preproc.nii.gz\n",
      "D:\\Repos\\clip-bold\\data\\raw\\bold5000\\derivatives\\fmriprep\\sub-CSI2\\ses-04\\func\\sub-CSI2_ses-04_task-5000scenes_run-08_bold_space-T1w_preproc.nii.gz\n",
      "D:\\Repos\\clip-bold\\data\\raw\\bold5000\\derivatives\\fmriprep\\sub-CSI2\\ses-04\\func\\sub-CSI2_ses-04_task-5000scenes_run-09_bold_space-T1w_preproc.nii.gz\n",
      "D:\\Repos\\clip-bold\\data\\raw\\bold5000\\derivatives\\fmriprep\\sub-CSI2\\ses-04\\func\\sub-CSI2_ses-04_task-5000scenes_run-10_bold_space-T1w_preproc.nii.gz\n",
      "D:\\Repos\\clip-bold\\data\\raw\\bold5000\\derivatives\\fmriprep\\sub-CSI2\\ses-05\\func\\sub-CSI2_ses-05_task-5000scenes_run-01_bold_space-T1w_preproc.nii.gz\n",
      "D:\\Repos\\clip-bold\\data\\raw\\bold5000\\derivatives\\fmriprep\\sub-CSI2\\ses-05\\func\\sub-CSI2_ses-05_task-5000scenes_run-02_bold_space-T1w_preproc.nii.gz\n",
      "D:\\Repos\\clip-bold\\data\\raw\\bold5000\\derivatives\\fmriprep\\sub-CSI2\\ses-05\\func\\sub-CSI2_ses-05_task-5000scenes_run-03_bold_space-T1w_preproc.nii.gz\n",
      "D:\\Repos\\clip-bold\\data\\raw\\bold5000\\derivatives\\fmriprep\\sub-CSI2\\ses-05\\func\\sub-CSI2_ses-05_task-5000scenes_run-04_bold_space-T1w_preproc.nii.gz\n",
      "D:\\Repos\\clip-bold\\data\\raw\\bold5000\\derivatives\\fmriprep\\sub-CSI2\\ses-05\\func\\sub-CSI2_ses-05_task-5000scenes_run-05_bold_space-T1w_preproc.nii.gz\n",
      "D:\\Repos\\clip-bold\\data\\raw\\bold5000\\derivatives\\fmriprep\\sub-CSI2\\ses-05\\func\\sub-CSI2_ses-05_task-5000scenes_run-06_bold_space-T1w_preproc.nii.gz\n",
      "D:\\Repos\\clip-bold\\data\\raw\\bold5000\\derivatives\\fmriprep\\sub-CSI2\\ses-05\\func\\sub-CSI2_ses-05_task-5000scenes_run-07_bold_space-T1w_preproc.nii.gz\n",
      "D:\\Repos\\clip-bold\\data\\raw\\bold5000\\derivatives\\fmriprep\\sub-CSI2\\ses-05\\func\\sub-CSI2_ses-05_task-5000scenes_run-08_bold_space-T1w_preproc.nii.gz\n",
      "D:\\Repos\\clip-bold\\data\\raw\\bold5000\\derivatives\\fmriprep\\sub-CSI2\\ses-05\\func\\sub-CSI2_ses-05_task-5000scenes_run-09_bold_space-T1w_preproc.nii.gz\n",
      "D:\\Repos\\clip-bold\\data\\raw\\bold5000\\derivatives\\fmriprep\\sub-CSI2\\ses-05\\func\\sub-CSI2_ses-05_task-5000scenes_run-10_bold_space-T1w_preproc.nii.gz\n",
      "D:\\Repos\\clip-bold\\data\\raw\\bold5000\\derivatives\\fmriprep\\sub-CSI2\\ses-06\\func\\sub-CSI2_ses-06_task-5000scenes_run-01_bold_space-T1w_preproc.nii.gz\n",
      "D:\\Repos\\clip-bold\\data\\raw\\bold5000\\derivatives\\fmriprep\\sub-CSI2\\ses-06\\func\\sub-CSI2_ses-06_task-5000scenes_run-02_bold_space-T1w_preproc.nii.gz\n",
      "D:\\Repos\\clip-bold\\data\\raw\\bold5000\\derivatives\\fmriprep\\sub-CSI2\\ses-06\\func\\sub-CSI2_ses-06_task-5000scenes_run-03_bold_space-T1w_preproc.nii.gz\n",
      "D:\\Repos\\clip-bold\\data\\raw\\bold5000\\derivatives\\fmriprep\\sub-CSI2\\ses-06\\func\\sub-CSI2_ses-06_task-5000scenes_run-04_bold_space-T1w_preproc.nii.gz\n",
      "D:\\Repos\\clip-bold\\data\\raw\\bold5000\\derivatives\\fmriprep\\sub-CSI2\\ses-06\\func\\sub-CSI2_ses-06_task-5000scenes_run-05_bold_space-T1w_preproc.nii.gz\n",
      "D:\\Repos\\clip-bold\\data\\raw\\bold5000\\derivatives\\fmriprep\\sub-CSI2\\ses-06\\func\\sub-CSI2_ses-06_task-5000scenes_run-06_bold_space-T1w_preproc.nii.gz\n",
      "D:\\Repos\\clip-bold\\data\\raw\\bold5000\\derivatives\\fmriprep\\sub-CSI2\\ses-06\\func\\sub-CSI2_ses-06_task-5000scenes_run-07_bold_space-T1w_preproc.nii.gz\n",
      "D:\\Repos\\clip-bold\\data\\raw\\bold5000\\derivatives\\fmriprep\\sub-CSI2\\ses-06\\func\\sub-CSI2_ses-06_task-5000scenes_run-08_bold_space-T1w_preproc.nii.gz\n",
      "D:\\Repos\\clip-bold\\data\\raw\\bold5000\\derivatives\\fmriprep\\sub-CSI2\\ses-06\\func\\sub-CSI2_ses-06_task-5000scenes_run-09_bold_space-T1w_preproc.nii.gz\n",
      "D:\\Repos\\clip-bold\\data\\raw\\bold5000\\derivatives\\fmriprep\\sub-CSI2\\ses-07\\func\\sub-CSI2_ses-07_task-5000scenes_run-01_bold_space-T1w_preproc.nii.gz\n",
      "D:\\Repos\\clip-bold\\data\\raw\\bold5000\\derivatives\\fmriprep\\sub-CSI2\\ses-07\\func\\sub-CSI2_ses-07_task-5000scenes_run-02_bold_space-T1w_preproc.nii.gz\n",
      "D:\\Repos\\clip-bold\\data\\raw\\bold5000\\derivatives\\fmriprep\\sub-CSI2\\ses-07\\func\\sub-CSI2_ses-07_task-5000scenes_run-03_bold_space-T1w_preproc.nii.gz\n",
      "D:\\Repos\\clip-bold\\data\\raw\\bold5000\\derivatives\\fmriprep\\sub-CSI2\\ses-07\\func\\sub-CSI2_ses-07_task-5000scenes_run-04_bold_space-T1w_preproc.nii.gz\n",
      "D:\\Repos\\clip-bold\\data\\raw\\bold5000\\derivatives\\fmriprep\\sub-CSI2\\ses-07\\func\\sub-CSI2_ses-07_task-5000scenes_run-05_bold_space-T1w_preproc.nii.gz\n",
      "D:\\Repos\\clip-bold\\data\\raw\\bold5000\\derivatives\\fmriprep\\sub-CSI2\\ses-07\\func\\sub-CSI2_ses-07_task-5000scenes_run-06_bold_space-T1w_preproc.nii.gz\n",
      "D:\\Repos\\clip-bold\\data\\raw\\bold5000\\derivatives\\fmriprep\\sub-CSI2\\ses-07\\func\\sub-CSI2_ses-07_task-5000scenes_run-07_bold_space-T1w_preproc.nii.gz\n",
      "D:\\Repos\\clip-bold\\data\\raw\\bold5000\\derivatives\\fmriprep\\sub-CSI2\\ses-07\\func\\sub-CSI2_ses-07_task-5000scenes_run-08_bold_space-T1w_preproc.nii.gz\n",
      "D:\\Repos\\clip-bold\\data\\raw\\bold5000\\derivatives\\fmriprep\\sub-CSI2\\ses-07\\func\\sub-CSI2_ses-07_task-5000scenes_run-09_bold_space-T1w_preproc.nii.gz\n",
      "D:\\Repos\\clip-bold\\data\\raw\\bold5000\\derivatives\\fmriprep\\sub-CSI2\\ses-08\\func\\sub-CSI2_ses-08_task-5000scenes_run-01_bold_space-T1w_preproc.nii.gz\n",
      "D:\\Repos\\clip-bold\\data\\raw\\bold5000\\derivatives\\fmriprep\\sub-CSI2\\ses-08\\func\\sub-CSI2_ses-08_task-5000scenes_run-02_bold_space-T1w_preproc.nii.gz\n",
      "D:\\Repos\\clip-bold\\data\\raw\\bold5000\\derivatives\\fmriprep\\sub-CSI2\\ses-08\\func\\sub-CSI2_ses-08_task-5000scenes_run-03_bold_space-T1w_preproc.nii.gz\n",
      "D:\\Repos\\clip-bold\\data\\raw\\bold5000\\derivatives\\fmriprep\\sub-CSI2\\ses-08\\func\\sub-CSI2_ses-08_task-5000scenes_run-04_bold_space-T1w_preproc.nii.gz\n",
      "D:\\Repos\\clip-bold\\data\\raw\\bold5000\\derivatives\\fmriprep\\sub-CSI2\\ses-08\\func\\sub-CSI2_ses-08_task-5000scenes_run-05_bold_space-T1w_preproc.nii.gz\n",
      "D:\\Repos\\clip-bold\\data\\raw\\bold5000\\derivatives\\fmriprep\\sub-CSI2\\ses-08\\func\\sub-CSI2_ses-08_task-5000scenes_run-06_bold_space-T1w_preproc.nii.gz\n",
      "D:\\Repos\\clip-bold\\data\\raw\\bold5000\\derivatives\\fmriprep\\sub-CSI2\\ses-08\\func\\sub-CSI2_ses-08_task-5000scenes_run-07_bold_space-T1w_preproc.nii.gz\n",
      "D:\\Repos\\clip-bold\\data\\raw\\bold5000\\derivatives\\fmriprep\\sub-CSI2\\ses-08\\func\\sub-CSI2_ses-08_task-5000scenes_run-08_bold_space-T1w_preproc.nii.gz\n",
      "D:\\Repos\\clip-bold\\data\\raw\\bold5000\\derivatives\\fmriprep\\sub-CSI2\\ses-08\\func\\sub-CSI2_ses-08_task-5000scenes_run-09_bold_space-T1w_preproc.nii.gz\n",
      "D:\\Repos\\clip-bold\\data\\raw\\bold5000\\derivatives\\fmriprep\\sub-CSI2\\ses-09\\func\\sub-CSI2_ses-09_task-5000scenes_run-01_bold_space-T1w_preproc.nii.gz\n",
      "D:\\Repos\\clip-bold\\data\\raw\\bold5000\\derivatives\\fmriprep\\sub-CSI2\\ses-09\\func\\sub-CSI2_ses-09_task-5000scenes_run-02_bold_space-T1w_preproc.nii.gz\n",
      "D:\\Repos\\clip-bold\\data\\raw\\bold5000\\derivatives\\fmriprep\\sub-CSI2\\ses-09\\func\\sub-CSI2_ses-09_task-5000scenes_run-03_bold_space-T1w_preproc.nii.gz\n",
      "D:\\Repos\\clip-bold\\data\\raw\\bold5000\\derivatives\\fmriprep\\sub-CSI2\\ses-09\\func\\sub-CSI2_ses-09_task-5000scenes_run-04_bold_space-T1w_preproc.nii.gz\n",
      "D:\\Repos\\clip-bold\\data\\raw\\bold5000\\derivatives\\fmriprep\\sub-CSI2\\ses-09\\func\\sub-CSI2_ses-09_task-5000scenes_run-05_bold_space-T1w_preproc.nii.gz\n",
      "D:\\Repos\\clip-bold\\data\\raw\\bold5000\\derivatives\\fmriprep\\sub-CSI2\\ses-09\\func\\sub-CSI2_ses-09_task-5000scenes_run-06_bold_space-T1w_preproc.nii.gz\n",
      "D:\\Repos\\clip-bold\\data\\raw\\bold5000\\derivatives\\fmriprep\\sub-CSI2\\ses-09\\func\\sub-CSI2_ses-09_task-5000scenes_run-07_bold_space-T1w_preproc.nii.gz\n",
      "D:\\Repos\\clip-bold\\data\\raw\\bold5000\\derivatives\\fmriprep\\sub-CSI2\\ses-09\\func\\sub-CSI2_ses-09_task-5000scenes_run-08_bold_space-T1w_preproc.nii.gz\n",
      "D:\\Repos\\clip-bold\\data\\raw\\bold5000\\derivatives\\fmriprep\\sub-CSI2\\ses-09\\func\\sub-CSI2_ses-09_task-5000scenes_run-09_bold_space-T1w_preproc.nii.gz\n",
      "D:\\Repos\\clip-bold\\data\\raw\\bold5000\\derivatives\\fmriprep\\sub-CSI2\\ses-10\\func\\sub-CSI2_ses-10_task-5000scenes_run-01_bold_space-T1w_preproc.nii.gz\n",
      "D:\\Repos\\clip-bold\\data\\raw\\bold5000\\derivatives\\fmriprep\\sub-CSI2\\ses-10\\func\\sub-CSI2_ses-10_task-5000scenes_run-02_bold_space-T1w_preproc.nii.gz\n",
      "D:\\Repos\\clip-bold\\data\\raw\\bold5000\\derivatives\\fmriprep\\sub-CSI2\\ses-10\\func\\sub-CSI2_ses-10_task-5000scenes_run-03_bold_space-T1w_preproc.nii.gz\n",
      "D:\\Repos\\clip-bold\\data\\raw\\bold5000\\derivatives\\fmriprep\\sub-CSI2\\ses-10\\func\\sub-CSI2_ses-10_task-5000scenes_run-04_bold_space-T1w_preproc.nii.gz\n",
      "D:\\Repos\\clip-bold\\data\\raw\\bold5000\\derivatives\\fmriprep\\sub-CSI2\\ses-10\\func\\sub-CSI2_ses-10_task-5000scenes_run-05_bold_space-T1w_preproc.nii.gz\n",
      "D:\\Repos\\clip-bold\\data\\raw\\bold5000\\derivatives\\fmriprep\\sub-CSI2\\ses-10\\func\\sub-CSI2_ses-10_task-5000scenes_run-06_bold_space-T1w_preproc.nii.gz\n",
      "D:\\Repos\\clip-bold\\data\\raw\\bold5000\\derivatives\\fmriprep\\sub-CSI2\\ses-10\\func\\sub-CSI2_ses-10_task-5000scenes_run-07_bold_space-T1w_preproc.nii.gz\n",
      "D:\\Repos\\clip-bold\\data\\raw\\bold5000\\derivatives\\fmriprep\\sub-CSI2\\ses-10\\func\\sub-CSI2_ses-10_task-5000scenes_run-08_bold_space-T1w_preproc.nii.gz\n",
      "D:\\Repos\\clip-bold\\data\\raw\\bold5000\\derivatives\\fmriprep\\sub-CSI2\\ses-10\\func\\sub-CSI2_ses-10_task-5000scenes_run-09_bold_space-T1w_preproc.nii.gz\n",
      "D:\\Repos\\clip-bold\\data\\raw\\bold5000\\derivatives\\fmriprep\\sub-CSI2\\ses-11\\func\\sub-CSI2_ses-11_task-5000scenes_run-01_bold_space-T1w_preproc.nii.gz\n",
      "D:\\Repos\\clip-bold\\data\\raw\\bold5000\\derivatives\\fmriprep\\sub-CSI2\\ses-11\\func\\sub-CSI2_ses-11_task-5000scenes_run-02_bold_space-T1w_preproc.nii.gz\n",
      "D:\\Repos\\clip-bold\\data\\raw\\bold5000\\derivatives\\fmriprep\\sub-CSI2\\ses-11\\func\\sub-CSI2_ses-11_task-5000scenes_run-03_bold_space-T1w_preproc.nii.gz\n",
      "D:\\Repos\\clip-bold\\data\\raw\\bold5000\\derivatives\\fmriprep\\sub-CSI2\\ses-11\\func\\sub-CSI2_ses-11_task-5000scenes_run-04_bold_space-T1w_preproc.nii.gz\n",
      "D:\\Repos\\clip-bold\\data\\raw\\bold5000\\derivatives\\fmriprep\\sub-CSI2\\ses-11\\func\\sub-CSI2_ses-11_task-5000scenes_run-05_bold_space-T1w_preproc.nii.gz\n",
      "D:\\Repos\\clip-bold\\data\\raw\\bold5000\\derivatives\\fmriprep\\sub-CSI2\\ses-11\\func\\sub-CSI2_ses-11_task-5000scenes_run-06_bold_space-T1w_preproc.nii.gz\n",
      "D:\\Repos\\clip-bold\\data\\raw\\bold5000\\derivatives\\fmriprep\\sub-CSI2\\ses-11\\func\\sub-CSI2_ses-11_task-5000scenes_run-07_bold_space-T1w_preproc.nii.gz\n",
      "D:\\Repos\\clip-bold\\data\\raw\\bold5000\\derivatives\\fmriprep\\sub-CSI2\\ses-11\\func\\sub-CSI2_ses-11_task-5000scenes_run-08_bold_space-T1w_preproc.nii.gz\n",
      "D:\\Repos\\clip-bold\\data\\raw\\bold5000\\derivatives\\fmriprep\\sub-CSI2\\ses-11\\func\\sub-CSI2_ses-11_task-5000scenes_run-09_bold_space-T1w_preproc.nii.gz\n",
      "D:\\Repos\\clip-bold\\data\\raw\\bold5000\\derivatives\\fmriprep\\sub-CSI2\\ses-11\\func\\sub-CSI2_ses-11_task-5000scenes_run-10_bold_space-T1w_preproc.nii.gz\n",
      "D:\\Repos\\clip-bold\\data\\raw\\bold5000\\derivatives\\fmriprep\\sub-CSI2\\ses-12\\func\\sub-CSI2_ses-12_task-5000scenes_run-01_bold_space-T1w_preproc.nii.gz\n",
      "D:\\Repos\\clip-bold\\data\\raw\\bold5000\\derivatives\\fmriprep\\sub-CSI2\\ses-12\\func\\sub-CSI2_ses-12_task-5000scenes_run-02_bold_space-T1w_preproc.nii.gz\n",
      "D:\\Repos\\clip-bold\\data\\raw\\bold5000\\derivatives\\fmriprep\\sub-CSI2\\ses-12\\func\\sub-CSI2_ses-12_task-5000scenes_run-03_bold_space-T1w_preproc.nii.gz\n",
      "D:\\Repos\\clip-bold\\data\\raw\\bold5000\\derivatives\\fmriprep\\sub-CSI2\\ses-12\\func\\sub-CSI2_ses-12_task-5000scenes_run-04_bold_space-T1w_preproc.nii.gz\n",
      "D:\\Repos\\clip-bold\\data\\raw\\bold5000\\derivatives\\fmriprep\\sub-CSI2\\ses-12\\func\\sub-CSI2_ses-12_task-5000scenes_run-05_bold_space-T1w_preproc.nii.gz\n",
      "D:\\Repos\\clip-bold\\data\\raw\\bold5000\\derivatives\\fmriprep\\sub-CSI2\\ses-12\\func\\sub-CSI2_ses-12_task-5000scenes_run-06_bold_space-T1w_preproc.nii.gz\n",
      "D:\\Repos\\clip-bold\\data\\raw\\bold5000\\derivatives\\fmriprep\\sub-CSI2\\ses-12\\func\\sub-CSI2_ses-12_task-5000scenes_run-07_bold_space-T1w_preproc.nii.gz\n",
      "D:\\Repos\\clip-bold\\data\\raw\\bold5000\\derivatives\\fmriprep\\sub-CSI2\\ses-12\\func\\sub-CSI2_ses-12_task-5000scenes_run-08_bold_space-T1w_preproc.nii.gz\n",
      "D:\\Repos\\clip-bold\\data\\raw\\bold5000\\derivatives\\fmriprep\\sub-CSI2\\ses-12\\func\\sub-CSI2_ses-12_task-5000scenes_run-09_bold_space-T1w_preproc.nii.gz\n",
      "D:\\Repos\\clip-bold\\data\\raw\\bold5000\\derivatives\\fmriprep\\sub-CSI2\\ses-12\\func\\sub-CSI2_ses-12_task-5000scenes_run-10_bold_space-T1w_preproc.nii.gz\n",
      "D:\\Repos\\clip-bold\\data\\raw\\bold5000\\derivatives\\fmriprep\\sub-CSI2\\ses-13\\func\\sub-CSI2_ses-13_task-5000scenes_run-01_bold_space-T1w_preproc.nii.gz\n",
      "D:\\Repos\\clip-bold\\data\\raw\\bold5000\\derivatives\\fmriprep\\sub-CSI2\\ses-13\\func\\sub-CSI2_ses-13_task-5000scenes_run-02_bold_space-T1w_preproc.nii.gz\n",
      "D:\\Repos\\clip-bold\\data\\raw\\bold5000\\derivatives\\fmriprep\\sub-CSI2\\ses-13\\func\\sub-CSI2_ses-13_task-5000scenes_run-03_bold_space-T1w_preproc.nii.gz\n",
      "D:\\Repos\\clip-bold\\data\\raw\\bold5000\\derivatives\\fmriprep\\sub-CSI2\\ses-13\\func\\sub-CSI2_ses-13_task-5000scenes_run-04_bold_space-T1w_preproc.nii.gz\n",
      "D:\\Repos\\clip-bold\\data\\raw\\bold5000\\derivatives\\fmriprep\\sub-CSI2\\ses-13\\func\\sub-CSI2_ses-13_task-5000scenes_run-05_bold_space-T1w_preproc.nii.gz\n",
      "D:\\Repos\\clip-bold\\data\\raw\\bold5000\\derivatives\\fmriprep\\sub-CSI2\\ses-13\\func\\sub-CSI2_ses-13_task-5000scenes_run-06_bold_space-T1w_preproc.nii.gz\n",
      "D:\\Repos\\clip-bold\\data\\raw\\bold5000\\derivatives\\fmriprep\\sub-CSI2\\ses-13\\func\\sub-CSI2_ses-13_task-5000scenes_run-07_bold_space-T1w_preproc.nii.gz\n",
      "D:\\Repos\\clip-bold\\data\\raw\\bold5000\\derivatives\\fmriprep\\sub-CSI2\\ses-13\\func\\sub-CSI2_ses-13_task-5000scenes_run-08_bold_space-T1w_preproc.nii.gz\n",
      "D:\\Repos\\clip-bold\\data\\raw\\bold5000\\derivatives\\fmriprep\\sub-CSI2\\ses-13\\func\\sub-CSI2_ses-13_task-5000scenes_run-09_bold_space-T1w_preproc.nii.gz\n",
      "D:\\Repos\\clip-bold\\data\\raw\\bold5000\\derivatives\\fmriprep\\sub-CSI2\\ses-14\\func\\sub-CSI2_ses-14_task-5000scenes_run-01_bold_space-T1w_preproc.nii.gz\n",
      "D:\\Repos\\clip-bold\\data\\raw\\bold5000\\derivatives\\fmriprep\\sub-CSI2\\ses-14\\func\\sub-CSI2_ses-14_task-5000scenes_run-02_bold_space-T1w_preproc.nii.gz\n",
      "D:\\Repos\\clip-bold\\data\\raw\\bold5000\\derivatives\\fmriprep\\sub-CSI2\\ses-14\\func\\sub-CSI2_ses-14_task-5000scenes_run-03_bold_space-T1w_preproc.nii.gz\n",
      "D:\\Repos\\clip-bold\\data\\raw\\bold5000\\derivatives\\fmriprep\\sub-CSI2\\ses-14\\func\\sub-CSI2_ses-14_task-5000scenes_run-04_bold_space-T1w_preproc.nii.gz\n",
      "D:\\Repos\\clip-bold\\data\\raw\\bold5000\\derivatives\\fmriprep\\sub-CSI2\\ses-14\\func\\sub-CSI2_ses-14_task-5000scenes_run-05_bold_space-T1w_preproc.nii.gz\n",
      "D:\\Repos\\clip-bold\\data\\raw\\bold5000\\derivatives\\fmriprep\\sub-CSI2\\ses-14\\func\\sub-CSI2_ses-14_task-5000scenes_run-06_bold_space-T1w_preproc.nii.gz\n",
      "D:\\Repos\\clip-bold\\data\\raw\\bold5000\\derivatives\\fmriprep\\sub-CSI2\\ses-14\\func\\sub-CSI2_ses-14_task-5000scenes_run-07_bold_space-T1w_preproc.nii.gz\n",
      "D:\\Repos\\clip-bold\\data\\raw\\bold5000\\derivatives\\fmriprep\\sub-CSI2\\ses-14\\func\\sub-CSI2_ses-14_task-5000scenes_run-08_bold_space-T1w_preproc.nii.gz\n",
      "D:\\Repos\\clip-bold\\data\\raw\\bold5000\\derivatives\\fmriprep\\sub-CSI2\\ses-14\\func\\sub-CSI2_ses-14_task-5000scenes_run-09_bold_space-T1w_preproc.nii.gz\n",
      "D:\\Repos\\clip-bold\\data\\raw\\bold5000\\derivatives\\fmriprep\\sub-CSI2\\ses-14\\func\\sub-CSI2_ses-14_task-5000scenes_run-10_bold_space-T1w_preproc.nii.gz\n",
      "D:\\Repos\\clip-bold\\data\\raw\\bold5000\\derivatives\\fmriprep\\sub-CSI2\\ses-15\\func\\sub-CSI2_ses-15_task-5000scenes_run-01_bold_space-T1w_preproc.nii.gz\n",
      "D:\\Repos\\clip-bold\\data\\raw\\bold5000\\derivatives\\fmriprep\\sub-CSI2\\ses-15\\func\\sub-CSI2_ses-15_task-5000scenes_run-02_bold_space-T1w_preproc.nii.gz\n",
      "D:\\Repos\\clip-bold\\data\\raw\\bold5000\\derivatives\\fmriprep\\sub-CSI2\\ses-15\\func\\sub-CSI2_ses-15_task-5000scenes_run-03_bold_space-T1w_preproc.nii.gz\n",
      "D:\\Repos\\clip-bold\\data\\raw\\bold5000\\derivatives\\fmriprep\\sub-CSI2\\ses-15\\func\\sub-CSI2_ses-15_task-5000scenes_run-04_bold_space-T1w_preproc.nii.gz\n",
      "D:\\Repos\\clip-bold\\data\\raw\\bold5000\\derivatives\\fmriprep\\sub-CSI2\\ses-15\\func\\sub-CSI2_ses-15_task-5000scenes_run-05_bold_space-T1w_preproc.nii.gz\n",
      "D:\\Repos\\clip-bold\\data\\raw\\bold5000\\derivatives\\fmriprep\\sub-CSI2\\ses-15\\func\\sub-CSI2_ses-15_task-5000scenes_run-06_bold_space-T1w_preproc.nii.gz\n",
      "D:\\Repos\\clip-bold\\data\\raw\\bold5000\\derivatives\\fmriprep\\sub-CSI2\\ses-15\\func\\sub-CSI2_ses-15_task-5000scenes_run-07_bold_space-T1w_preproc.nii.gz\n",
      "D:\\Repos\\clip-bold\\data\\raw\\bold5000\\derivatives\\fmriprep\\sub-CSI2\\ses-15\\func\\sub-CSI2_ses-15_task-5000scenes_run-08_bold_space-T1w_preproc.nii.gz\n",
      "D:\\Repos\\clip-bold\\data\\raw\\bold5000\\derivatives\\fmriprep\\sub-CSI2\\ses-15\\func\\sub-CSI2_ses-15_task-5000scenes_run-09_bold_space-T1w_preproc.nii.gz\n"
     ]
    }
   ],
   "source": [
    "with warnings.catch_warnings():\n",
    "    warnings.simplefilter('ignore', UserWarning)\n",
    "    warnings.simplefilter('ignore', DeprecationWarning)\n",
    "    get_nifti_files(2)"
   ]
  },
  {
   "cell_type": "code",
   "execution_count": 6,
   "metadata": {},
   "outputs": [
    {
     "name": "stdout",
     "output_type": "stream",
     "text": [
      "D:\\Repos\\clip-bold\\data\\raw\\bold5000\\derivatives\\fmriprep\\sub-CSI3\\ses-01\\func\\sub-CSI3_ses-01_task-5000scenes_run-01_bold_space-T1w_preproc.nii.gz\n"
     ]
    },
    {
     "name": "stderr",
     "output_type": "stream",
     "text": [
      "d:\\Repos\\clip-bold\\.venv\\Lib\\site-packages\\torchio\\transforms\\transform.py:162: RuntimeWarning: Output shape (50, 61, 50) != target shape (np.int64(50), np.int64(60), np.int64(50)). Fixing with CropOrPad\n",
      "  transformed = self.apply_transform(subject)\n"
     ]
    },
    {
     "name": "stdout",
     "output_type": "stream",
     "text": [
      "D:\\Repos\\clip-bold\\data\\raw\\bold5000\\derivatives\\fmriprep\\sub-CSI3\\ses-01\\func\\sub-CSI3_ses-01_task-5000scenes_run-02_bold_space-T1w_preproc.nii.gz\n"
     ]
    },
    {
     "name": "stderr",
     "output_type": "stream",
     "text": [
      "d:\\Repos\\clip-bold\\.venv\\Lib\\site-packages\\torchio\\transforms\\transform.py:162: RuntimeWarning: Output shape (50, 61, 50) != target shape (np.int64(50), np.int64(60), np.int64(50)). Fixing with CropOrPad\n",
      "  transformed = self.apply_transform(subject)\n"
     ]
    },
    {
     "name": "stdout",
     "output_type": "stream",
     "text": [
      "D:\\Repos\\clip-bold\\data\\raw\\bold5000\\derivatives\\fmriprep\\sub-CSI3\\ses-01\\func\\sub-CSI3_ses-01_task-5000scenes_run-03_bold_space-T1w_preproc.nii.gz\n"
     ]
    },
    {
     "name": "stderr",
     "output_type": "stream",
     "text": [
      "d:\\Repos\\clip-bold\\.venv\\Lib\\site-packages\\torchio\\transforms\\transform.py:162: RuntimeWarning: Output shape (50, 61, 50) != target shape (np.int64(50), np.int64(60), np.int64(50)). Fixing with CropOrPad\n",
      "  transformed = self.apply_transform(subject)\n"
     ]
    },
    {
     "name": "stdout",
     "output_type": "stream",
     "text": [
      "D:\\Repos\\clip-bold\\data\\raw\\bold5000\\derivatives\\fmriprep\\sub-CSI3\\ses-01\\func\\sub-CSI3_ses-01_task-5000scenes_run-04_bold_space-T1w_preproc.nii.gz\n"
     ]
    },
    {
     "name": "stderr",
     "output_type": "stream",
     "text": [
      "d:\\Repos\\clip-bold\\.venv\\Lib\\site-packages\\torchio\\transforms\\transform.py:162: RuntimeWarning: Output shape (50, 61, 50) != target shape (np.int64(50), np.int64(60), np.int64(50)). Fixing with CropOrPad\n",
      "  transformed = self.apply_transform(subject)\n"
     ]
    },
    {
     "name": "stdout",
     "output_type": "stream",
     "text": [
      "D:\\Repos\\clip-bold\\data\\raw\\bold5000\\derivatives\\fmriprep\\sub-CSI3\\ses-01\\func\\sub-CSI3_ses-01_task-5000scenes_run-05_bold_space-T1w_preproc.nii.gz\n"
     ]
    },
    {
     "name": "stderr",
     "output_type": "stream",
     "text": [
      "d:\\Repos\\clip-bold\\.venv\\Lib\\site-packages\\torchio\\transforms\\transform.py:162: RuntimeWarning: Output shape (50, 61, 50) != target shape (np.int64(50), np.int64(60), np.int64(50)). Fixing with CropOrPad\n",
      "  transformed = self.apply_transform(subject)\n"
     ]
    },
    {
     "name": "stdout",
     "output_type": "stream",
     "text": [
      "D:\\Repos\\clip-bold\\data\\raw\\bold5000\\derivatives\\fmriprep\\sub-CSI3\\ses-01\\func\\sub-CSI3_ses-01_task-5000scenes_run-06_bold_space-T1w_preproc.nii.gz\n"
     ]
    },
    {
     "name": "stderr",
     "output_type": "stream",
     "text": [
      "d:\\Repos\\clip-bold\\.venv\\Lib\\site-packages\\torchio\\transforms\\transform.py:162: RuntimeWarning: Output shape (50, 61, 50) != target shape (np.int64(50), np.int64(60), np.int64(50)). Fixing with CropOrPad\n",
      "  transformed = self.apply_transform(subject)\n"
     ]
    },
    {
     "name": "stdout",
     "output_type": "stream",
     "text": [
      "D:\\Repos\\clip-bold\\data\\raw\\bold5000\\derivatives\\fmriprep\\sub-CSI3\\ses-01\\func\\sub-CSI3_ses-01_task-5000scenes_run-07_bold_space-T1w_preproc.nii.gz\n"
     ]
    },
    {
     "name": "stderr",
     "output_type": "stream",
     "text": [
      "d:\\Repos\\clip-bold\\.venv\\Lib\\site-packages\\torchio\\transforms\\transform.py:162: RuntimeWarning: Output shape (50, 61, 50) != target shape (np.int64(50), np.int64(60), np.int64(50)). Fixing with CropOrPad\n",
      "  transformed = self.apply_transform(subject)\n"
     ]
    },
    {
     "name": "stdout",
     "output_type": "stream",
     "text": [
      "D:\\Repos\\clip-bold\\data\\raw\\bold5000\\derivatives\\fmriprep\\sub-CSI3\\ses-01\\func\\sub-CSI3_ses-01_task-5000scenes_run-08_bold_space-T1w_preproc.nii.gz\n"
     ]
    },
    {
     "name": "stderr",
     "output_type": "stream",
     "text": [
      "d:\\Repos\\clip-bold\\.venv\\Lib\\site-packages\\torchio\\transforms\\transform.py:162: RuntimeWarning: Output shape (50, 61, 50) != target shape (np.int64(50), np.int64(60), np.int64(50)). Fixing with CropOrPad\n",
      "  transformed = self.apply_transform(subject)\n"
     ]
    },
    {
     "name": "stdout",
     "output_type": "stream",
     "text": [
      "D:\\Repos\\clip-bold\\data\\raw\\bold5000\\derivatives\\fmriprep\\sub-CSI3\\ses-01\\func\\sub-CSI3_ses-01_task-5000scenes_run-09_bold_space-T1w_preproc.nii.gz\n"
     ]
    },
    {
     "name": "stderr",
     "output_type": "stream",
     "text": [
      "d:\\Repos\\clip-bold\\.venv\\Lib\\site-packages\\torchio\\transforms\\transform.py:162: RuntimeWarning: Output shape (50, 61, 50) != target shape (np.int64(50), np.int64(60), np.int64(50)). Fixing with CropOrPad\n",
      "  transformed = self.apply_transform(subject)\n"
     ]
    },
    {
     "name": "stdout",
     "output_type": "stream",
     "text": [
      "D:\\Repos\\clip-bold\\data\\raw\\bold5000\\derivatives\\fmriprep\\sub-CSI3\\ses-01\\func\\sub-CSI3_ses-01_task-5000scenes_run-10_bold_space-T1w_preproc.nii.gz\n"
     ]
    },
    {
     "name": "stderr",
     "output_type": "stream",
     "text": [
      "d:\\Repos\\clip-bold\\.venv\\Lib\\site-packages\\torchio\\transforms\\transform.py:162: RuntimeWarning: Output shape (50, 61, 50) != target shape (np.int64(50), np.int64(60), np.int64(50)). Fixing with CropOrPad\n",
      "  transformed = self.apply_transform(subject)\n"
     ]
    },
    {
     "name": "stdout",
     "output_type": "stream",
     "text": [
      "D:\\Repos\\clip-bold\\data\\raw\\bold5000\\derivatives\\fmriprep\\sub-CSI3\\ses-02\\func\\sub-CSI3_ses-02_task-5000scenes_run-01_bold_space-T1w_preproc.nii.gz\n"
     ]
    },
    {
     "name": "stderr",
     "output_type": "stream",
     "text": [
      "d:\\Repos\\clip-bold\\.venv\\Lib\\site-packages\\torchio\\transforms\\transform.py:162: RuntimeWarning: Output shape (50, 61, 50) != target shape (np.int64(50), np.int64(60), np.int64(50)). Fixing with CropOrPad\n",
      "  transformed = self.apply_transform(subject)\n"
     ]
    },
    {
     "name": "stdout",
     "output_type": "stream",
     "text": [
      "D:\\Repos\\clip-bold\\data\\raw\\bold5000\\derivatives\\fmriprep\\sub-CSI3\\ses-02\\func\\sub-CSI3_ses-02_task-5000scenes_run-02_bold_space-T1w_preproc.nii.gz\n"
     ]
    },
    {
     "name": "stderr",
     "output_type": "stream",
     "text": [
      "d:\\Repos\\clip-bold\\.venv\\Lib\\site-packages\\torchio\\transforms\\transform.py:162: RuntimeWarning: Output shape (50, 61, 50) != target shape (np.int64(50), np.int64(60), np.int64(50)). Fixing with CropOrPad\n",
      "  transformed = self.apply_transform(subject)\n"
     ]
    },
    {
     "name": "stdout",
     "output_type": "stream",
     "text": [
      "D:\\Repos\\clip-bold\\data\\raw\\bold5000\\derivatives\\fmriprep\\sub-CSI3\\ses-02\\func\\sub-CSI3_ses-02_task-5000scenes_run-03_bold_space-T1w_preproc.nii.gz\n"
     ]
    },
    {
     "name": "stderr",
     "output_type": "stream",
     "text": [
      "d:\\Repos\\clip-bold\\.venv\\Lib\\site-packages\\torchio\\transforms\\transform.py:162: RuntimeWarning: Output shape (50, 61, 50) != target shape (np.int64(50), np.int64(60), np.int64(50)). Fixing with CropOrPad\n",
      "  transformed = self.apply_transform(subject)\n"
     ]
    },
    {
     "name": "stdout",
     "output_type": "stream",
     "text": [
      "D:\\Repos\\clip-bold\\data\\raw\\bold5000\\derivatives\\fmriprep\\sub-CSI3\\ses-02\\func\\sub-CSI3_ses-02_task-5000scenes_run-04_bold_space-T1w_preproc.nii.gz\n"
     ]
    },
    {
     "name": "stderr",
     "output_type": "stream",
     "text": [
      "d:\\Repos\\clip-bold\\.venv\\Lib\\site-packages\\torchio\\transforms\\transform.py:162: RuntimeWarning: Output shape (50, 61, 50) != target shape (np.int64(50), np.int64(60), np.int64(50)). Fixing with CropOrPad\n",
      "  transformed = self.apply_transform(subject)\n"
     ]
    },
    {
     "name": "stdout",
     "output_type": "stream",
     "text": [
      "D:\\Repos\\clip-bold\\data\\raw\\bold5000\\derivatives\\fmriprep\\sub-CSI3\\ses-02\\func\\sub-CSI3_ses-02_task-5000scenes_run-05_bold_space-T1w_preproc.nii.gz\n"
     ]
    },
    {
     "name": "stderr",
     "output_type": "stream",
     "text": [
      "d:\\Repos\\clip-bold\\.venv\\Lib\\site-packages\\torchio\\transforms\\transform.py:162: RuntimeWarning: Output shape (50, 61, 50) != target shape (np.int64(50), np.int64(60), np.int64(50)). Fixing with CropOrPad\n",
      "  transformed = self.apply_transform(subject)\n"
     ]
    },
    {
     "name": "stdout",
     "output_type": "stream",
     "text": [
      "D:\\Repos\\clip-bold\\data\\raw\\bold5000\\derivatives\\fmriprep\\sub-CSI3\\ses-02\\func\\sub-CSI3_ses-02_task-5000scenes_run-06_bold_space-T1w_preproc.nii.gz\n"
     ]
    },
    {
     "name": "stderr",
     "output_type": "stream",
     "text": [
      "d:\\Repos\\clip-bold\\.venv\\Lib\\site-packages\\torchio\\transforms\\transform.py:162: RuntimeWarning: Output shape (50, 61, 50) != target shape (np.int64(50), np.int64(60), np.int64(50)). Fixing with CropOrPad\n",
      "  transformed = self.apply_transform(subject)\n"
     ]
    },
    {
     "name": "stdout",
     "output_type": "stream",
     "text": [
      "D:\\Repos\\clip-bold\\data\\raw\\bold5000\\derivatives\\fmriprep\\sub-CSI3\\ses-02\\func\\sub-CSI3_ses-02_task-5000scenes_run-07_bold_space-T1w_preproc.nii.gz\n"
     ]
    },
    {
     "name": "stderr",
     "output_type": "stream",
     "text": [
      "d:\\Repos\\clip-bold\\.venv\\Lib\\site-packages\\torchio\\transforms\\transform.py:162: RuntimeWarning: Output shape (50, 61, 50) != target shape (np.int64(50), np.int64(60), np.int64(50)). Fixing with CropOrPad\n",
      "  transformed = self.apply_transform(subject)\n"
     ]
    },
    {
     "name": "stdout",
     "output_type": "stream",
     "text": [
      "D:\\Repos\\clip-bold\\data\\raw\\bold5000\\derivatives\\fmriprep\\sub-CSI3\\ses-02\\func\\sub-CSI3_ses-02_task-5000scenes_run-08_bold_space-T1w_preproc.nii.gz\n"
     ]
    },
    {
     "name": "stderr",
     "output_type": "stream",
     "text": [
      "d:\\Repos\\clip-bold\\.venv\\Lib\\site-packages\\torchio\\transforms\\transform.py:162: RuntimeWarning: Output shape (50, 61, 50) != target shape (np.int64(50), np.int64(60), np.int64(50)). Fixing with CropOrPad\n",
      "  transformed = self.apply_transform(subject)\n"
     ]
    },
    {
     "name": "stdout",
     "output_type": "stream",
     "text": [
      "D:\\Repos\\clip-bold\\data\\raw\\bold5000\\derivatives\\fmriprep\\sub-CSI3\\ses-02\\func\\sub-CSI3_ses-02_task-5000scenes_run-09_bold_space-T1w_preproc.nii.gz\n"
     ]
    },
    {
     "name": "stderr",
     "output_type": "stream",
     "text": [
      "d:\\Repos\\clip-bold\\.venv\\Lib\\site-packages\\torchio\\transforms\\transform.py:162: RuntimeWarning: Output shape (50, 61, 50) != target shape (np.int64(50), np.int64(60), np.int64(50)). Fixing with CropOrPad\n",
      "  transformed = self.apply_transform(subject)\n"
     ]
    },
    {
     "name": "stdout",
     "output_type": "stream",
     "text": [
      "D:\\Repos\\clip-bold\\data\\raw\\bold5000\\derivatives\\fmriprep\\sub-CSI3\\ses-03\\func\\sub-CSI3_ses-03_task-5000scenes_run-01_bold_space-T1w_preproc.nii.gz\n"
     ]
    },
    {
     "name": "stderr",
     "output_type": "stream",
     "text": [
      "d:\\Repos\\clip-bold\\.venv\\Lib\\site-packages\\torchio\\transforms\\transform.py:162: RuntimeWarning: Output shape (50, 61, 50) != target shape (np.int64(50), np.int64(60), np.int64(50)). Fixing with CropOrPad\n",
      "  transformed = self.apply_transform(subject)\n"
     ]
    },
    {
     "name": "stdout",
     "output_type": "stream",
     "text": [
      "D:\\Repos\\clip-bold\\data\\raw\\bold5000\\derivatives\\fmriprep\\sub-CSI3\\ses-03\\func\\sub-CSI3_ses-03_task-5000scenes_run-02_bold_space-T1w_preproc.nii.gz\n"
     ]
    },
    {
     "name": "stderr",
     "output_type": "stream",
     "text": [
      "d:\\Repos\\clip-bold\\.venv\\Lib\\site-packages\\torchio\\transforms\\transform.py:162: RuntimeWarning: Output shape (50, 61, 50) != target shape (np.int64(50), np.int64(60), np.int64(50)). Fixing with CropOrPad\n",
      "  transformed = self.apply_transform(subject)\n"
     ]
    },
    {
     "name": "stdout",
     "output_type": "stream",
     "text": [
      "D:\\Repos\\clip-bold\\data\\raw\\bold5000\\derivatives\\fmriprep\\sub-CSI3\\ses-03\\func\\sub-CSI3_ses-03_task-5000scenes_run-03_bold_space-T1w_preproc.nii.gz\n"
     ]
    },
    {
     "name": "stderr",
     "output_type": "stream",
     "text": [
      "d:\\Repos\\clip-bold\\.venv\\Lib\\site-packages\\torchio\\transforms\\transform.py:162: RuntimeWarning: Output shape (50, 61, 50) != target shape (np.int64(50), np.int64(60), np.int64(50)). Fixing with CropOrPad\n",
      "  transformed = self.apply_transform(subject)\n"
     ]
    },
    {
     "name": "stdout",
     "output_type": "stream",
     "text": [
      "D:\\Repos\\clip-bold\\data\\raw\\bold5000\\derivatives\\fmriprep\\sub-CSI3\\ses-03\\func\\sub-CSI3_ses-03_task-5000scenes_run-04_bold_space-T1w_preproc.nii.gz\n"
     ]
    },
    {
     "name": "stderr",
     "output_type": "stream",
     "text": [
      "d:\\Repos\\clip-bold\\.venv\\Lib\\site-packages\\torchio\\transforms\\transform.py:162: RuntimeWarning: Output shape (50, 61, 50) != target shape (np.int64(50), np.int64(60), np.int64(50)). Fixing with CropOrPad\n",
      "  transformed = self.apply_transform(subject)\n"
     ]
    },
    {
     "name": "stdout",
     "output_type": "stream",
     "text": [
      "D:\\Repos\\clip-bold\\data\\raw\\bold5000\\derivatives\\fmriprep\\sub-CSI3\\ses-03\\func\\sub-CSI3_ses-03_task-5000scenes_run-05_bold_space-T1w_preproc.nii.gz\n"
     ]
    },
    {
     "name": "stderr",
     "output_type": "stream",
     "text": [
      "d:\\Repos\\clip-bold\\.venv\\Lib\\site-packages\\torchio\\transforms\\transform.py:162: RuntimeWarning: Output shape (50, 61, 50) != target shape (np.int64(50), np.int64(60), np.int64(50)). Fixing with CropOrPad\n",
      "  transformed = self.apply_transform(subject)\n"
     ]
    },
    {
     "name": "stdout",
     "output_type": "stream",
     "text": [
      "D:\\Repos\\clip-bold\\data\\raw\\bold5000\\derivatives\\fmriprep\\sub-CSI3\\ses-03\\func\\sub-CSI3_ses-03_task-5000scenes_run-06_bold_space-T1w_preproc.nii.gz\n"
     ]
    },
    {
     "name": "stderr",
     "output_type": "stream",
     "text": [
      "d:\\Repos\\clip-bold\\.venv\\Lib\\site-packages\\torchio\\transforms\\transform.py:162: RuntimeWarning: Output shape (50, 61, 50) != target shape (np.int64(50), np.int64(60), np.int64(50)). Fixing with CropOrPad\n",
      "  transformed = self.apply_transform(subject)\n"
     ]
    },
    {
     "name": "stdout",
     "output_type": "stream",
     "text": [
      "D:\\Repos\\clip-bold\\data\\raw\\bold5000\\derivatives\\fmriprep\\sub-CSI3\\ses-03\\func\\sub-CSI3_ses-03_task-5000scenes_run-07_bold_space-T1w_preproc.nii.gz\n"
     ]
    },
    {
     "name": "stderr",
     "output_type": "stream",
     "text": [
      "d:\\Repos\\clip-bold\\.venv\\Lib\\site-packages\\torchio\\transforms\\transform.py:162: RuntimeWarning: Output shape (50, 61, 50) != target shape (np.int64(50), np.int64(60), np.int64(50)). Fixing with CropOrPad\n",
      "  transformed = self.apply_transform(subject)\n"
     ]
    },
    {
     "name": "stdout",
     "output_type": "stream",
     "text": [
      "D:\\Repos\\clip-bold\\data\\raw\\bold5000\\derivatives\\fmriprep\\sub-CSI3\\ses-03\\func\\sub-CSI3_ses-03_task-5000scenes_run-08_bold_space-T1w_preproc.nii.gz\n"
     ]
    },
    {
     "name": "stderr",
     "output_type": "stream",
     "text": [
      "d:\\Repos\\clip-bold\\.venv\\Lib\\site-packages\\torchio\\transforms\\transform.py:162: RuntimeWarning: Output shape (50, 61, 50) != target shape (np.int64(50), np.int64(60), np.int64(50)). Fixing with CropOrPad\n",
      "  transformed = self.apply_transform(subject)\n"
     ]
    },
    {
     "name": "stdout",
     "output_type": "stream",
     "text": [
      "D:\\Repos\\clip-bold\\data\\raw\\bold5000\\derivatives\\fmriprep\\sub-CSI3\\ses-03\\func\\sub-CSI3_ses-03_task-5000scenes_run-09_bold_space-T1w_preproc.nii.gz\n"
     ]
    },
    {
     "name": "stderr",
     "output_type": "stream",
     "text": [
      "d:\\Repos\\clip-bold\\.venv\\Lib\\site-packages\\torchio\\transforms\\transform.py:162: RuntimeWarning: Output shape (50, 61, 50) != target shape (np.int64(50), np.int64(60), np.int64(50)). Fixing with CropOrPad\n",
      "  transformed = self.apply_transform(subject)\n"
     ]
    },
    {
     "name": "stdout",
     "output_type": "stream",
     "text": [
      "D:\\Repos\\clip-bold\\data\\raw\\bold5000\\derivatives\\fmriprep\\sub-CSI3\\ses-03\\func\\sub-CSI3_ses-03_task-5000scenes_run-10_bold_space-T1w_preproc.nii.gz\n"
     ]
    },
    {
     "name": "stderr",
     "output_type": "stream",
     "text": [
      "d:\\Repos\\clip-bold\\.venv\\Lib\\site-packages\\torchio\\transforms\\transform.py:162: RuntimeWarning: Output shape (50, 61, 50) != target shape (np.int64(50), np.int64(60), np.int64(50)). Fixing with CropOrPad\n",
      "  transformed = self.apply_transform(subject)\n"
     ]
    },
    {
     "name": "stdout",
     "output_type": "stream",
     "text": [
      "D:\\Repos\\clip-bold\\data\\raw\\bold5000\\derivatives\\fmriprep\\sub-CSI3\\ses-04\\func\\sub-CSI3_ses-04_task-5000scenes_run-01_bold_space-T1w_preproc.nii.gz\n"
     ]
    },
    {
     "name": "stderr",
     "output_type": "stream",
     "text": [
      "d:\\Repos\\clip-bold\\.venv\\Lib\\site-packages\\torchio\\transforms\\transform.py:162: RuntimeWarning: Output shape (50, 61, 50) != target shape (np.int64(50), np.int64(60), np.int64(50)). Fixing with CropOrPad\n",
      "  transformed = self.apply_transform(subject)\n"
     ]
    },
    {
     "name": "stdout",
     "output_type": "stream",
     "text": [
      "D:\\Repos\\clip-bold\\data\\raw\\bold5000\\derivatives\\fmriprep\\sub-CSI3\\ses-04\\func\\sub-CSI3_ses-04_task-5000scenes_run-02_bold_space-T1w_preproc.nii.gz\n"
     ]
    },
    {
     "name": "stderr",
     "output_type": "stream",
     "text": [
      "d:\\Repos\\clip-bold\\.venv\\Lib\\site-packages\\torchio\\transforms\\transform.py:162: RuntimeWarning: Output shape (50, 61, 50) != target shape (np.int64(50), np.int64(60), np.int64(50)). Fixing with CropOrPad\n",
      "  transformed = self.apply_transform(subject)\n"
     ]
    },
    {
     "name": "stdout",
     "output_type": "stream",
     "text": [
      "D:\\Repos\\clip-bold\\data\\raw\\bold5000\\derivatives\\fmriprep\\sub-CSI3\\ses-04\\func\\sub-CSI3_ses-04_task-5000scenes_run-03_bold_space-T1w_preproc.nii.gz\n"
     ]
    },
    {
     "name": "stderr",
     "output_type": "stream",
     "text": [
      "d:\\Repos\\clip-bold\\.venv\\Lib\\site-packages\\torchio\\transforms\\transform.py:162: RuntimeWarning: Output shape (50, 61, 50) != target shape (np.int64(50), np.int64(60), np.int64(50)). Fixing with CropOrPad\n",
      "  transformed = self.apply_transform(subject)\n"
     ]
    },
    {
     "name": "stdout",
     "output_type": "stream",
     "text": [
      "D:\\Repos\\clip-bold\\data\\raw\\bold5000\\derivatives\\fmriprep\\sub-CSI3\\ses-04\\func\\sub-CSI3_ses-04_task-5000scenes_run-04_bold_space-T1w_preproc.nii.gz\n"
     ]
    },
    {
     "name": "stderr",
     "output_type": "stream",
     "text": [
      "d:\\Repos\\clip-bold\\.venv\\Lib\\site-packages\\torchio\\transforms\\transform.py:162: RuntimeWarning: Output shape (50, 61, 50) != target shape (np.int64(50), np.int64(60), np.int64(50)). Fixing with CropOrPad\n",
      "  transformed = self.apply_transform(subject)\n"
     ]
    },
    {
     "name": "stdout",
     "output_type": "stream",
     "text": [
      "D:\\Repos\\clip-bold\\data\\raw\\bold5000\\derivatives\\fmriprep\\sub-CSI3\\ses-04\\func\\sub-CSI3_ses-04_task-5000scenes_run-05_bold_space-T1w_preproc.nii.gz\n"
     ]
    },
    {
     "name": "stderr",
     "output_type": "stream",
     "text": [
      "d:\\Repos\\clip-bold\\.venv\\Lib\\site-packages\\torchio\\transforms\\transform.py:162: RuntimeWarning: Output shape (50, 61, 50) != target shape (np.int64(50), np.int64(60), np.int64(50)). Fixing with CropOrPad\n",
      "  transformed = self.apply_transform(subject)\n"
     ]
    },
    {
     "name": "stdout",
     "output_type": "stream",
     "text": [
      "D:\\Repos\\clip-bold\\data\\raw\\bold5000\\derivatives\\fmriprep\\sub-CSI3\\ses-04\\func\\sub-CSI3_ses-04_task-5000scenes_run-06_bold_space-T1w_preproc.nii.gz\n"
     ]
    },
    {
     "name": "stderr",
     "output_type": "stream",
     "text": [
      "d:\\Repos\\clip-bold\\.venv\\Lib\\site-packages\\torchio\\transforms\\transform.py:162: RuntimeWarning: Output shape (50, 61, 50) != target shape (np.int64(50), np.int64(60), np.int64(50)). Fixing with CropOrPad\n",
      "  transformed = self.apply_transform(subject)\n"
     ]
    },
    {
     "name": "stdout",
     "output_type": "stream",
     "text": [
      "D:\\Repos\\clip-bold\\data\\raw\\bold5000\\derivatives\\fmriprep\\sub-CSI3\\ses-04\\func\\sub-CSI3_ses-04_task-5000scenes_run-07_bold_space-T1w_preproc.nii.gz\n"
     ]
    },
    {
     "name": "stderr",
     "output_type": "stream",
     "text": [
      "d:\\Repos\\clip-bold\\.venv\\Lib\\site-packages\\torchio\\transforms\\transform.py:162: RuntimeWarning: Output shape (50, 61, 50) != target shape (np.int64(50), np.int64(60), np.int64(50)). Fixing with CropOrPad\n",
      "  transformed = self.apply_transform(subject)\n"
     ]
    },
    {
     "name": "stdout",
     "output_type": "stream",
     "text": [
      "D:\\Repos\\clip-bold\\data\\raw\\bold5000\\derivatives\\fmriprep\\sub-CSI3\\ses-04\\func\\sub-CSI3_ses-04_task-5000scenes_run-08_bold_space-T1w_preproc.nii.gz\n"
     ]
    },
    {
     "name": "stderr",
     "output_type": "stream",
     "text": [
      "d:\\Repos\\clip-bold\\.venv\\Lib\\site-packages\\torchio\\transforms\\transform.py:162: RuntimeWarning: Output shape (50, 61, 50) != target shape (np.int64(50), np.int64(60), np.int64(50)). Fixing with CropOrPad\n",
      "  transformed = self.apply_transform(subject)\n"
     ]
    },
    {
     "name": "stdout",
     "output_type": "stream",
     "text": [
      "D:\\Repos\\clip-bold\\data\\raw\\bold5000\\derivatives\\fmriprep\\sub-CSI3\\ses-04\\func\\sub-CSI3_ses-04_task-5000scenes_run-09_bold_space-T1w_preproc.nii.gz\n"
     ]
    },
    {
     "name": "stderr",
     "output_type": "stream",
     "text": [
      "d:\\Repos\\clip-bold\\.venv\\Lib\\site-packages\\torchio\\transforms\\transform.py:162: RuntimeWarning: Output shape (50, 61, 50) != target shape (np.int64(50), np.int64(60), np.int64(50)). Fixing with CropOrPad\n",
      "  transformed = self.apply_transform(subject)\n"
     ]
    },
    {
     "name": "stdout",
     "output_type": "stream",
     "text": [
      "D:\\Repos\\clip-bold\\data\\raw\\bold5000\\derivatives\\fmriprep\\sub-CSI3\\ses-05\\func\\sub-CSI3_ses-05_task-5000scenes_run-01_bold_space-T1w_preproc.nii.gz\n"
     ]
    },
    {
     "name": "stderr",
     "output_type": "stream",
     "text": [
      "d:\\Repos\\clip-bold\\.venv\\Lib\\site-packages\\torchio\\transforms\\transform.py:162: RuntimeWarning: Output shape (50, 61, 50) != target shape (np.int64(50), np.int64(60), np.int64(50)). Fixing with CropOrPad\n",
      "  transformed = self.apply_transform(subject)\n"
     ]
    },
    {
     "name": "stdout",
     "output_type": "stream",
     "text": [
      "D:\\Repos\\clip-bold\\data\\raw\\bold5000\\derivatives\\fmriprep\\sub-CSI3\\ses-05\\func\\sub-CSI3_ses-05_task-5000scenes_run-02_bold_space-T1w_preproc.nii.gz\n"
     ]
    },
    {
     "name": "stderr",
     "output_type": "stream",
     "text": [
      "d:\\Repos\\clip-bold\\.venv\\Lib\\site-packages\\torchio\\transforms\\transform.py:162: RuntimeWarning: Output shape (50, 61, 50) != target shape (np.int64(50), np.int64(60), np.int64(50)). Fixing with CropOrPad\n",
      "  transformed = self.apply_transform(subject)\n"
     ]
    },
    {
     "name": "stdout",
     "output_type": "stream",
     "text": [
      "D:\\Repos\\clip-bold\\data\\raw\\bold5000\\derivatives\\fmriprep\\sub-CSI3\\ses-05\\func\\sub-CSI3_ses-05_task-5000scenes_run-03_bold_space-T1w_preproc.nii.gz\n"
     ]
    },
    {
     "name": "stderr",
     "output_type": "stream",
     "text": [
      "d:\\Repos\\clip-bold\\.venv\\Lib\\site-packages\\torchio\\transforms\\transform.py:162: RuntimeWarning: Output shape (50, 61, 50) != target shape (np.int64(50), np.int64(60), np.int64(50)). Fixing with CropOrPad\n",
      "  transformed = self.apply_transform(subject)\n"
     ]
    },
    {
     "name": "stdout",
     "output_type": "stream",
     "text": [
      "D:\\Repos\\clip-bold\\data\\raw\\bold5000\\derivatives\\fmriprep\\sub-CSI3\\ses-05\\func\\sub-CSI3_ses-05_task-5000scenes_run-04_bold_space-T1w_preproc.nii.gz\n"
     ]
    },
    {
     "name": "stderr",
     "output_type": "stream",
     "text": [
      "d:\\Repos\\clip-bold\\.venv\\Lib\\site-packages\\torchio\\transforms\\transform.py:162: RuntimeWarning: Output shape (50, 61, 50) != target shape (np.int64(50), np.int64(60), np.int64(50)). Fixing with CropOrPad\n",
      "  transformed = self.apply_transform(subject)\n"
     ]
    },
    {
     "name": "stdout",
     "output_type": "stream",
     "text": [
      "D:\\Repos\\clip-bold\\data\\raw\\bold5000\\derivatives\\fmriprep\\sub-CSI3\\ses-05\\func\\sub-CSI3_ses-05_task-5000scenes_run-05_bold_space-T1w_preproc.nii.gz\n"
     ]
    },
    {
     "name": "stderr",
     "output_type": "stream",
     "text": [
      "d:\\Repos\\clip-bold\\.venv\\Lib\\site-packages\\torchio\\transforms\\transform.py:162: RuntimeWarning: Output shape (50, 61, 50) != target shape (np.int64(50), np.int64(60), np.int64(50)). Fixing with CropOrPad\n",
      "  transformed = self.apply_transform(subject)\n"
     ]
    },
    {
     "name": "stdout",
     "output_type": "stream",
     "text": [
      "D:\\Repos\\clip-bold\\data\\raw\\bold5000\\derivatives\\fmriprep\\sub-CSI3\\ses-05\\func\\sub-CSI3_ses-05_task-5000scenes_run-06_bold_space-T1w_preproc.nii.gz\n"
     ]
    },
    {
     "name": "stderr",
     "output_type": "stream",
     "text": [
      "d:\\Repos\\clip-bold\\.venv\\Lib\\site-packages\\torchio\\transforms\\transform.py:162: RuntimeWarning: Output shape (50, 61, 50) != target shape (np.int64(50), np.int64(60), np.int64(50)). Fixing with CropOrPad\n",
      "  transformed = self.apply_transform(subject)\n"
     ]
    },
    {
     "name": "stdout",
     "output_type": "stream",
     "text": [
      "D:\\Repos\\clip-bold\\data\\raw\\bold5000\\derivatives\\fmriprep\\sub-CSI3\\ses-05\\func\\sub-CSI3_ses-05_task-5000scenes_run-07_bold_space-T1w_preproc.nii.gz\n"
     ]
    },
    {
     "name": "stderr",
     "output_type": "stream",
     "text": [
      "d:\\Repos\\clip-bold\\.venv\\Lib\\site-packages\\torchio\\transforms\\transform.py:162: RuntimeWarning: Output shape (50, 61, 50) != target shape (np.int64(50), np.int64(60), np.int64(50)). Fixing with CropOrPad\n",
      "  transformed = self.apply_transform(subject)\n"
     ]
    },
    {
     "name": "stdout",
     "output_type": "stream",
     "text": [
      "D:\\Repos\\clip-bold\\data\\raw\\bold5000\\derivatives\\fmriprep\\sub-CSI3\\ses-05\\func\\sub-CSI3_ses-05_task-5000scenes_run-08_bold_space-T1w_preproc.nii.gz\n"
     ]
    },
    {
     "name": "stderr",
     "output_type": "stream",
     "text": [
      "d:\\Repos\\clip-bold\\.venv\\Lib\\site-packages\\torchio\\transforms\\transform.py:162: RuntimeWarning: Output shape (50, 61, 50) != target shape (np.int64(50), np.int64(60), np.int64(50)). Fixing with CropOrPad\n",
      "  transformed = self.apply_transform(subject)\n"
     ]
    },
    {
     "name": "stdout",
     "output_type": "stream",
     "text": [
      "D:\\Repos\\clip-bold\\data\\raw\\bold5000\\derivatives\\fmriprep\\sub-CSI3\\ses-05\\func\\sub-CSI3_ses-05_task-5000scenes_run-09_bold_space-T1w_preproc.nii.gz\n"
     ]
    },
    {
     "name": "stderr",
     "output_type": "stream",
     "text": [
      "d:\\Repos\\clip-bold\\.venv\\Lib\\site-packages\\torchio\\transforms\\transform.py:162: RuntimeWarning: Output shape (50, 61, 50) != target shape (np.int64(50), np.int64(60), np.int64(50)). Fixing with CropOrPad\n",
      "  transformed = self.apply_transform(subject)\n"
     ]
    },
    {
     "name": "stdout",
     "output_type": "stream",
     "text": [
      "D:\\Repos\\clip-bold\\data\\raw\\bold5000\\derivatives\\fmriprep\\sub-CSI3\\ses-05\\func\\sub-CSI3_ses-05_task-5000scenes_run-10_bold_space-T1w_preproc.nii.gz\n"
     ]
    },
    {
     "name": "stderr",
     "output_type": "stream",
     "text": [
      "d:\\Repos\\clip-bold\\.venv\\Lib\\site-packages\\torchio\\transforms\\transform.py:162: RuntimeWarning: Output shape (50, 61, 50) != target shape (np.int64(50), np.int64(60), np.int64(50)). Fixing with CropOrPad\n",
      "  transformed = self.apply_transform(subject)\n"
     ]
    },
    {
     "name": "stdout",
     "output_type": "stream",
     "text": [
      "D:\\Repos\\clip-bold\\data\\raw\\bold5000\\derivatives\\fmriprep\\sub-CSI3\\ses-06\\func\\sub-CSI3_ses-06_task-5000scenes_run-01_bold_space-T1w_preproc.nii.gz\n"
     ]
    },
    {
     "name": "stderr",
     "output_type": "stream",
     "text": [
      "d:\\Repos\\clip-bold\\.venv\\Lib\\site-packages\\torchio\\transforms\\transform.py:162: RuntimeWarning: Output shape (50, 61, 50) != target shape (np.int64(50), np.int64(60), np.int64(50)). Fixing with CropOrPad\n",
      "  transformed = self.apply_transform(subject)\n"
     ]
    },
    {
     "name": "stdout",
     "output_type": "stream",
     "text": [
      "D:\\Repos\\clip-bold\\data\\raw\\bold5000\\derivatives\\fmriprep\\sub-CSI3\\ses-06\\func\\sub-CSI3_ses-06_task-5000scenes_run-02_bold_space-T1w_preproc.nii.gz\n"
     ]
    },
    {
     "name": "stderr",
     "output_type": "stream",
     "text": [
      "d:\\Repos\\clip-bold\\.venv\\Lib\\site-packages\\torchio\\transforms\\transform.py:162: RuntimeWarning: Output shape (50, 61, 50) != target shape (np.int64(50), np.int64(60), np.int64(50)). Fixing with CropOrPad\n",
      "  transformed = self.apply_transform(subject)\n"
     ]
    },
    {
     "name": "stdout",
     "output_type": "stream",
     "text": [
      "D:\\Repos\\clip-bold\\data\\raw\\bold5000\\derivatives\\fmriprep\\sub-CSI3\\ses-06\\func\\sub-CSI3_ses-06_task-5000scenes_run-03_bold_space-T1w_preproc.nii.gz\n"
     ]
    },
    {
     "name": "stderr",
     "output_type": "stream",
     "text": [
      "d:\\Repos\\clip-bold\\.venv\\Lib\\site-packages\\torchio\\transforms\\transform.py:162: RuntimeWarning: Output shape (50, 61, 50) != target shape (np.int64(50), np.int64(60), np.int64(50)). Fixing with CropOrPad\n",
      "  transformed = self.apply_transform(subject)\n"
     ]
    },
    {
     "name": "stdout",
     "output_type": "stream",
     "text": [
      "D:\\Repos\\clip-bold\\data\\raw\\bold5000\\derivatives\\fmriprep\\sub-CSI3\\ses-06\\func\\sub-CSI3_ses-06_task-5000scenes_run-04_bold_space-T1w_preproc.nii.gz\n"
     ]
    },
    {
     "name": "stderr",
     "output_type": "stream",
     "text": [
      "d:\\Repos\\clip-bold\\.venv\\Lib\\site-packages\\torchio\\transforms\\transform.py:162: RuntimeWarning: Output shape (50, 61, 50) != target shape (np.int64(50), np.int64(60), np.int64(50)). Fixing with CropOrPad\n",
      "  transformed = self.apply_transform(subject)\n"
     ]
    },
    {
     "name": "stdout",
     "output_type": "stream",
     "text": [
      "D:\\Repos\\clip-bold\\data\\raw\\bold5000\\derivatives\\fmriprep\\sub-CSI3\\ses-06\\func\\sub-CSI3_ses-06_task-5000scenes_run-05_bold_space-T1w_preproc.nii.gz\n"
     ]
    },
    {
     "name": "stderr",
     "output_type": "stream",
     "text": [
      "d:\\Repos\\clip-bold\\.venv\\Lib\\site-packages\\torchio\\transforms\\transform.py:162: RuntimeWarning: Output shape (50, 61, 50) != target shape (np.int64(50), np.int64(60), np.int64(50)). Fixing with CropOrPad\n",
      "  transformed = self.apply_transform(subject)\n"
     ]
    },
    {
     "name": "stdout",
     "output_type": "stream",
     "text": [
      "D:\\Repos\\clip-bold\\data\\raw\\bold5000\\derivatives\\fmriprep\\sub-CSI3\\ses-06\\func\\sub-CSI3_ses-06_task-5000scenes_run-06_bold_space-T1w_preproc.nii.gz\n"
     ]
    },
    {
     "name": "stderr",
     "output_type": "stream",
     "text": [
      "d:\\Repos\\clip-bold\\.venv\\Lib\\site-packages\\torchio\\transforms\\transform.py:162: RuntimeWarning: Output shape (50, 61, 50) != target shape (np.int64(50), np.int64(60), np.int64(50)). Fixing with CropOrPad\n",
      "  transformed = self.apply_transform(subject)\n"
     ]
    },
    {
     "name": "stdout",
     "output_type": "stream",
     "text": [
      "D:\\Repos\\clip-bold\\data\\raw\\bold5000\\derivatives\\fmriprep\\sub-CSI3\\ses-06\\func\\sub-CSI3_ses-06_task-5000scenes_run-07_bold_space-T1w_preproc.nii.gz\n"
     ]
    },
    {
     "name": "stderr",
     "output_type": "stream",
     "text": [
      "d:\\Repos\\clip-bold\\.venv\\Lib\\site-packages\\torchio\\transforms\\transform.py:162: RuntimeWarning: Output shape (50, 61, 50) != target shape (np.int64(50), np.int64(60), np.int64(50)). Fixing with CropOrPad\n",
      "  transformed = self.apply_transform(subject)\n"
     ]
    },
    {
     "name": "stdout",
     "output_type": "stream",
     "text": [
      "D:\\Repos\\clip-bold\\data\\raw\\bold5000\\derivatives\\fmriprep\\sub-CSI3\\ses-06\\func\\sub-CSI3_ses-06_task-5000scenes_run-08_bold_space-T1w_preproc.nii.gz\n"
     ]
    },
    {
     "name": "stderr",
     "output_type": "stream",
     "text": [
      "d:\\Repos\\clip-bold\\.venv\\Lib\\site-packages\\torchio\\transforms\\transform.py:162: RuntimeWarning: Output shape (50, 61, 50) != target shape (np.int64(50), np.int64(60), np.int64(50)). Fixing with CropOrPad\n",
      "  transformed = self.apply_transform(subject)\n"
     ]
    },
    {
     "name": "stdout",
     "output_type": "stream",
     "text": [
      "D:\\Repos\\clip-bold\\data\\raw\\bold5000\\derivatives\\fmriprep\\sub-CSI3\\ses-06\\func\\sub-CSI3_ses-06_task-5000scenes_run-09_bold_space-T1w_preproc.nii.gz\n"
     ]
    },
    {
     "name": "stderr",
     "output_type": "stream",
     "text": [
      "d:\\Repos\\clip-bold\\.venv\\Lib\\site-packages\\torchio\\transforms\\transform.py:162: RuntimeWarning: Output shape (50, 61, 50) != target shape (np.int64(50), np.int64(60), np.int64(50)). Fixing with CropOrPad\n",
      "  transformed = self.apply_transform(subject)\n"
     ]
    },
    {
     "name": "stdout",
     "output_type": "stream",
     "text": [
      "D:\\Repos\\clip-bold\\data\\raw\\bold5000\\derivatives\\fmriprep\\sub-CSI3\\ses-06\\func\\sub-CSI3_ses-06_task-5000scenes_run-10_bold_space-T1w_preproc.nii.gz\n"
     ]
    },
    {
     "name": "stderr",
     "output_type": "stream",
     "text": [
      "d:\\Repos\\clip-bold\\.venv\\Lib\\site-packages\\torchio\\transforms\\transform.py:162: RuntimeWarning: Output shape (50, 61, 50) != target shape (np.int64(50), np.int64(60), np.int64(50)). Fixing with CropOrPad\n",
      "  transformed = self.apply_transform(subject)\n"
     ]
    },
    {
     "name": "stdout",
     "output_type": "stream",
     "text": [
      "D:\\Repos\\clip-bold\\data\\raw\\bold5000\\derivatives\\fmriprep\\sub-CSI3\\ses-07\\func\\sub-CSI3_ses-07_task-5000scenes_run-01_bold_space-T1w_preproc.nii.gz\n"
     ]
    },
    {
     "name": "stderr",
     "output_type": "stream",
     "text": [
      "d:\\Repos\\clip-bold\\.venv\\Lib\\site-packages\\torchio\\transforms\\transform.py:162: RuntimeWarning: Output shape (50, 61, 50) != target shape (np.int64(50), np.int64(60), np.int64(50)). Fixing with CropOrPad\n",
      "  transformed = self.apply_transform(subject)\n"
     ]
    },
    {
     "name": "stdout",
     "output_type": "stream",
     "text": [
      "D:\\Repos\\clip-bold\\data\\raw\\bold5000\\derivatives\\fmriprep\\sub-CSI3\\ses-07\\func\\sub-CSI3_ses-07_task-5000scenes_run-02_bold_space-T1w_preproc.nii.gz\n"
     ]
    },
    {
     "name": "stderr",
     "output_type": "stream",
     "text": [
      "d:\\Repos\\clip-bold\\.venv\\Lib\\site-packages\\torchio\\transforms\\transform.py:162: RuntimeWarning: Output shape (50, 61, 50) != target shape (np.int64(50), np.int64(60), np.int64(50)). Fixing with CropOrPad\n",
      "  transformed = self.apply_transform(subject)\n"
     ]
    },
    {
     "name": "stdout",
     "output_type": "stream",
     "text": [
      "D:\\Repos\\clip-bold\\data\\raw\\bold5000\\derivatives\\fmriprep\\sub-CSI3\\ses-07\\func\\sub-CSI3_ses-07_task-5000scenes_run-03_bold_space-T1w_preproc.nii.gz\n"
     ]
    },
    {
     "name": "stderr",
     "output_type": "stream",
     "text": [
      "d:\\Repos\\clip-bold\\.venv\\Lib\\site-packages\\torchio\\transforms\\transform.py:162: RuntimeWarning: Output shape (50, 61, 50) != target shape (np.int64(50), np.int64(60), np.int64(50)). Fixing with CropOrPad\n",
      "  transformed = self.apply_transform(subject)\n"
     ]
    },
    {
     "name": "stdout",
     "output_type": "stream",
     "text": [
      "D:\\Repos\\clip-bold\\data\\raw\\bold5000\\derivatives\\fmriprep\\sub-CSI3\\ses-07\\func\\sub-CSI3_ses-07_task-5000scenes_run-04_bold_space-T1w_preproc.nii.gz\n"
     ]
    },
    {
     "name": "stderr",
     "output_type": "stream",
     "text": [
      "d:\\Repos\\clip-bold\\.venv\\Lib\\site-packages\\torchio\\transforms\\transform.py:162: RuntimeWarning: Output shape (50, 61, 50) != target shape (np.int64(50), np.int64(60), np.int64(50)). Fixing with CropOrPad\n",
      "  transformed = self.apply_transform(subject)\n"
     ]
    },
    {
     "name": "stdout",
     "output_type": "stream",
     "text": [
      "D:\\Repos\\clip-bold\\data\\raw\\bold5000\\derivatives\\fmriprep\\sub-CSI3\\ses-07\\func\\sub-CSI3_ses-07_task-5000scenes_run-05_bold_space-T1w_preproc.nii.gz\n"
     ]
    },
    {
     "name": "stderr",
     "output_type": "stream",
     "text": [
      "d:\\Repos\\clip-bold\\.venv\\Lib\\site-packages\\torchio\\transforms\\transform.py:162: RuntimeWarning: Output shape (50, 61, 50) != target shape (np.int64(50), np.int64(60), np.int64(50)). Fixing with CropOrPad\n",
      "  transformed = self.apply_transform(subject)\n"
     ]
    },
    {
     "name": "stdout",
     "output_type": "stream",
     "text": [
      "D:\\Repos\\clip-bold\\data\\raw\\bold5000\\derivatives\\fmriprep\\sub-CSI3\\ses-07\\func\\sub-CSI3_ses-07_task-5000scenes_run-06_bold_space-T1w_preproc.nii.gz\n"
     ]
    },
    {
     "name": "stderr",
     "output_type": "stream",
     "text": [
      "d:\\Repos\\clip-bold\\.venv\\Lib\\site-packages\\torchio\\transforms\\transform.py:162: RuntimeWarning: Output shape (50, 61, 50) != target shape (np.int64(50), np.int64(60), np.int64(50)). Fixing with CropOrPad\n",
      "  transformed = self.apply_transform(subject)\n"
     ]
    },
    {
     "name": "stdout",
     "output_type": "stream",
     "text": [
      "D:\\Repos\\clip-bold\\data\\raw\\bold5000\\derivatives\\fmriprep\\sub-CSI3\\ses-07\\func\\sub-CSI3_ses-07_task-5000scenes_run-07_bold_space-T1w_preproc.nii.gz\n"
     ]
    },
    {
     "name": "stderr",
     "output_type": "stream",
     "text": [
      "d:\\Repos\\clip-bold\\.venv\\Lib\\site-packages\\torchio\\transforms\\transform.py:162: RuntimeWarning: Output shape (50, 61, 50) != target shape (np.int64(50), np.int64(60), np.int64(50)). Fixing with CropOrPad\n",
      "  transformed = self.apply_transform(subject)\n"
     ]
    },
    {
     "name": "stdout",
     "output_type": "stream",
     "text": [
      "D:\\Repos\\clip-bold\\data\\raw\\bold5000\\derivatives\\fmriprep\\sub-CSI3\\ses-07\\func\\sub-CSI3_ses-07_task-5000scenes_run-08_bold_space-T1w_preproc.nii.gz\n"
     ]
    },
    {
     "name": "stderr",
     "output_type": "stream",
     "text": [
      "d:\\Repos\\clip-bold\\.venv\\Lib\\site-packages\\torchio\\transforms\\transform.py:162: RuntimeWarning: Output shape (50, 61, 50) != target shape (np.int64(50), np.int64(60), np.int64(50)). Fixing with CropOrPad\n",
      "  transformed = self.apply_transform(subject)\n"
     ]
    },
    {
     "name": "stdout",
     "output_type": "stream",
     "text": [
      "D:\\Repos\\clip-bold\\data\\raw\\bold5000\\derivatives\\fmriprep\\sub-CSI3\\ses-07\\func\\sub-CSI3_ses-07_task-5000scenes_run-09_bold_space-T1w_preproc.nii.gz\n"
     ]
    },
    {
     "name": "stderr",
     "output_type": "stream",
     "text": [
      "d:\\Repos\\clip-bold\\.venv\\Lib\\site-packages\\torchio\\transforms\\transform.py:162: RuntimeWarning: Output shape (50, 61, 50) != target shape (np.int64(50), np.int64(60), np.int64(50)). Fixing with CropOrPad\n",
      "  transformed = self.apply_transform(subject)\n"
     ]
    },
    {
     "name": "stdout",
     "output_type": "stream",
     "text": [
      "D:\\Repos\\clip-bold\\data\\raw\\bold5000\\derivatives\\fmriprep\\sub-CSI3\\ses-07\\func\\sub-CSI3_ses-07_task-5000scenes_run-10_bold_space-T1w_preproc.nii.gz\n"
     ]
    },
    {
     "name": "stderr",
     "output_type": "stream",
     "text": [
      "d:\\Repos\\clip-bold\\.venv\\Lib\\site-packages\\torchio\\transforms\\transform.py:162: RuntimeWarning: Output shape (50, 61, 50) != target shape (np.int64(50), np.int64(60), np.int64(50)). Fixing with CropOrPad\n",
      "  transformed = self.apply_transform(subject)\n"
     ]
    },
    {
     "name": "stdout",
     "output_type": "stream",
     "text": [
      "D:\\Repos\\clip-bold\\data\\raw\\bold5000\\derivatives\\fmriprep\\sub-CSI3\\ses-08\\func\\sub-CSI3_ses-08_task-5000scenes_run-01_bold_space-T1w_preproc.nii.gz\n"
     ]
    },
    {
     "name": "stderr",
     "output_type": "stream",
     "text": [
      "d:\\Repos\\clip-bold\\.venv\\Lib\\site-packages\\torchio\\transforms\\transform.py:162: RuntimeWarning: Output shape (50, 61, 50) != target shape (np.int64(50), np.int64(60), np.int64(50)). Fixing with CropOrPad\n",
      "  transformed = self.apply_transform(subject)\n"
     ]
    },
    {
     "name": "stdout",
     "output_type": "stream",
     "text": [
      "D:\\Repos\\clip-bold\\data\\raw\\bold5000\\derivatives\\fmriprep\\sub-CSI3\\ses-08\\func\\sub-CSI3_ses-08_task-5000scenes_run-02_bold_space-T1w_preproc.nii.gz\n"
     ]
    },
    {
     "name": "stderr",
     "output_type": "stream",
     "text": [
      "d:\\Repos\\clip-bold\\.venv\\Lib\\site-packages\\torchio\\transforms\\transform.py:162: RuntimeWarning: Output shape (50, 61, 50) != target shape (np.int64(50), np.int64(60), np.int64(50)). Fixing with CropOrPad\n",
      "  transformed = self.apply_transform(subject)\n"
     ]
    },
    {
     "name": "stdout",
     "output_type": "stream",
     "text": [
      "D:\\Repos\\clip-bold\\data\\raw\\bold5000\\derivatives\\fmriprep\\sub-CSI3\\ses-08\\func\\sub-CSI3_ses-08_task-5000scenes_run-03_bold_space-T1w_preproc.nii.gz\n"
     ]
    },
    {
     "name": "stderr",
     "output_type": "stream",
     "text": [
      "d:\\Repos\\clip-bold\\.venv\\Lib\\site-packages\\torchio\\transforms\\transform.py:162: RuntimeWarning: Output shape (50, 61, 50) != target shape (np.int64(50), np.int64(60), np.int64(50)). Fixing with CropOrPad\n",
      "  transformed = self.apply_transform(subject)\n"
     ]
    },
    {
     "name": "stdout",
     "output_type": "stream",
     "text": [
      "D:\\Repos\\clip-bold\\data\\raw\\bold5000\\derivatives\\fmriprep\\sub-CSI3\\ses-08\\func\\sub-CSI3_ses-08_task-5000scenes_run-04_bold_space-T1w_preproc.nii.gz\n"
     ]
    },
    {
     "name": "stderr",
     "output_type": "stream",
     "text": [
      "d:\\Repos\\clip-bold\\.venv\\Lib\\site-packages\\torchio\\transforms\\transform.py:162: RuntimeWarning: Output shape (50, 61, 50) != target shape (np.int64(50), np.int64(60), np.int64(50)). Fixing with CropOrPad\n",
      "  transformed = self.apply_transform(subject)\n"
     ]
    },
    {
     "name": "stdout",
     "output_type": "stream",
     "text": [
      "D:\\Repos\\clip-bold\\data\\raw\\bold5000\\derivatives\\fmriprep\\sub-CSI3\\ses-08\\func\\sub-CSI3_ses-08_task-5000scenes_run-05_bold_space-T1w_preproc.nii.gz\n"
     ]
    },
    {
     "name": "stderr",
     "output_type": "stream",
     "text": [
      "d:\\Repos\\clip-bold\\.venv\\Lib\\site-packages\\torchio\\transforms\\transform.py:162: RuntimeWarning: Output shape (50, 61, 50) != target shape (np.int64(50), np.int64(60), np.int64(50)). Fixing with CropOrPad\n",
      "  transformed = self.apply_transform(subject)\n"
     ]
    },
    {
     "name": "stdout",
     "output_type": "stream",
     "text": [
      "D:\\Repos\\clip-bold\\data\\raw\\bold5000\\derivatives\\fmriprep\\sub-CSI3\\ses-08\\func\\sub-CSI3_ses-08_task-5000scenes_run-06_bold_space-T1w_preproc.nii.gz\n"
     ]
    },
    {
     "name": "stderr",
     "output_type": "stream",
     "text": [
      "d:\\Repos\\clip-bold\\.venv\\Lib\\site-packages\\torchio\\transforms\\transform.py:162: RuntimeWarning: Output shape (50, 61, 50) != target shape (np.int64(50), np.int64(60), np.int64(50)). Fixing with CropOrPad\n",
      "  transformed = self.apply_transform(subject)\n"
     ]
    },
    {
     "name": "stdout",
     "output_type": "stream",
     "text": [
      "D:\\Repos\\clip-bold\\data\\raw\\bold5000\\derivatives\\fmriprep\\sub-CSI3\\ses-08\\func\\sub-CSI3_ses-08_task-5000scenes_run-07_bold_space-T1w_preproc.nii.gz\n"
     ]
    },
    {
     "name": "stderr",
     "output_type": "stream",
     "text": [
      "d:\\Repos\\clip-bold\\.venv\\Lib\\site-packages\\torchio\\transforms\\transform.py:162: RuntimeWarning: Output shape (50, 61, 50) != target shape (np.int64(50), np.int64(60), np.int64(50)). Fixing with CropOrPad\n",
      "  transformed = self.apply_transform(subject)\n"
     ]
    },
    {
     "name": "stdout",
     "output_type": "stream",
     "text": [
      "D:\\Repos\\clip-bold\\data\\raw\\bold5000\\derivatives\\fmriprep\\sub-CSI3\\ses-08\\func\\sub-CSI3_ses-08_task-5000scenes_run-08_bold_space-T1w_preproc.nii.gz\n"
     ]
    },
    {
     "name": "stderr",
     "output_type": "stream",
     "text": [
      "d:\\Repos\\clip-bold\\.venv\\Lib\\site-packages\\torchio\\transforms\\transform.py:162: RuntimeWarning: Output shape (50, 61, 50) != target shape (np.int64(50), np.int64(60), np.int64(50)). Fixing with CropOrPad\n",
      "  transformed = self.apply_transform(subject)\n"
     ]
    },
    {
     "name": "stdout",
     "output_type": "stream",
     "text": [
      "D:\\Repos\\clip-bold\\data\\raw\\bold5000\\derivatives\\fmriprep\\sub-CSI3\\ses-08\\func\\sub-CSI3_ses-08_task-5000scenes_run-09_bold_space-T1w_preproc.nii.gz\n"
     ]
    },
    {
     "name": "stderr",
     "output_type": "stream",
     "text": [
      "d:\\Repos\\clip-bold\\.venv\\Lib\\site-packages\\torchio\\transforms\\transform.py:162: RuntimeWarning: Output shape (50, 61, 50) != target shape (np.int64(50), np.int64(60), np.int64(50)). Fixing with CropOrPad\n",
      "  transformed = self.apply_transform(subject)\n"
     ]
    },
    {
     "name": "stdout",
     "output_type": "stream",
     "text": [
      "D:\\Repos\\clip-bold\\data\\raw\\bold5000\\derivatives\\fmriprep\\sub-CSI3\\ses-09\\func\\sub-CSI3_ses-09_task-5000scenes_run-01_bold_space-T1w_preproc.nii.gz\n"
     ]
    },
    {
     "name": "stderr",
     "output_type": "stream",
     "text": [
      "d:\\Repos\\clip-bold\\.venv\\Lib\\site-packages\\torchio\\transforms\\transform.py:162: RuntimeWarning: Output shape (50, 61, 50) != target shape (np.int64(50), np.int64(60), np.int64(50)). Fixing with CropOrPad\n",
      "  transformed = self.apply_transform(subject)\n"
     ]
    },
    {
     "name": "stdout",
     "output_type": "stream",
     "text": [
      "D:\\Repos\\clip-bold\\data\\raw\\bold5000\\derivatives\\fmriprep\\sub-CSI3\\ses-09\\func\\sub-CSI3_ses-09_task-5000scenes_run-02_bold_space-T1w_preproc.nii.gz\n"
     ]
    },
    {
     "name": "stderr",
     "output_type": "stream",
     "text": [
      "d:\\Repos\\clip-bold\\.venv\\Lib\\site-packages\\torchio\\transforms\\transform.py:162: RuntimeWarning: Output shape (50, 61, 50) != target shape (np.int64(50), np.int64(60), np.int64(50)). Fixing with CropOrPad\n",
      "  transformed = self.apply_transform(subject)\n"
     ]
    },
    {
     "name": "stdout",
     "output_type": "stream",
     "text": [
      "D:\\Repos\\clip-bold\\data\\raw\\bold5000\\derivatives\\fmriprep\\sub-CSI3\\ses-09\\func\\sub-CSI3_ses-09_task-5000scenes_run-03_bold_space-T1w_preproc.nii.gz\n"
     ]
    },
    {
     "name": "stderr",
     "output_type": "stream",
     "text": [
      "d:\\Repos\\clip-bold\\.venv\\Lib\\site-packages\\torchio\\transforms\\transform.py:162: RuntimeWarning: Output shape (50, 61, 50) != target shape (np.int64(50), np.int64(60), np.int64(50)). Fixing with CropOrPad\n",
      "  transformed = self.apply_transform(subject)\n"
     ]
    },
    {
     "name": "stdout",
     "output_type": "stream",
     "text": [
      "D:\\Repos\\clip-bold\\data\\raw\\bold5000\\derivatives\\fmriprep\\sub-CSI3\\ses-09\\func\\sub-CSI3_ses-09_task-5000scenes_run-04_bold_space-T1w_preproc.nii.gz\n"
     ]
    },
    {
     "name": "stderr",
     "output_type": "stream",
     "text": [
      "d:\\Repos\\clip-bold\\.venv\\Lib\\site-packages\\torchio\\transforms\\transform.py:162: RuntimeWarning: Output shape (50, 61, 50) != target shape (np.int64(50), np.int64(60), np.int64(50)). Fixing with CropOrPad\n",
      "  transformed = self.apply_transform(subject)\n"
     ]
    },
    {
     "name": "stdout",
     "output_type": "stream",
     "text": [
      "D:\\Repos\\clip-bold\\data\\raw\\bold5000\\derivatives\\fmriprep\\sub-CSI3\\ses-09\\func\\sub-CSI3_ses-09_task-5000scenes_run-05_bold_space-T1w_preproc.nii.gz\n"
     ]
    },
    {
     "name": "stderr",
     "output_type": "stream",
     "text": [
      "d:\\Repos\\clip-bold\\.venv\\Lib\\site-packages\\torchio\\transforms\\transform.py:162: RuntimeWarning: Output shape (50, 61, 50) != target shape (np.int64(50), np.int64(60), np.int64(50)). Fixing with CropOrPad\n",
      "  transformed = self.apply_transform(subject)\n"
     ]
    },
    {
     "name": "stdout",
     "output_type": "stream",
     "text": [
      "D:\\Repos\\clip-bold\\data\\raw\\bold5000\\derivatives\\fmriprep\\sub-CSI3\\ses-09\\func\\sub-CSI3_ses-09_task-5000scenes_run-06_bold_space-T1w_preproc.nii.gz\n"
     ]
    },
    {
     "name": "stderr",
     "output_type": "stream",
     "text": [
      "d:\\Repos\\clip-bold\\.venv\\Lib\\site-packages\\torchio\\transforms\\transform.py:162: RuntimeWarning: Output shape (50, 61, 50) != target shape (np.int64(50), np.int64(60), np.int64(50)). Fixing with CropOrPad\n",
      "  transformed = self.apply_transform(subject)\n"
     ]
    },
    {
     "name": "stdout",
     "output_type": "stream",
     "text": [
      "D:\\Repos\\clip-bold\\data\\raw\\bold5000\\derivatives\\fmriprep\\sub-CSI3\\ses-09\\func\\sub-CSI3_ses-09_task-5000scenes_run-07_bold_space-T1w_preproc.nii.gz\n"
     ]
    },
    {
     "name": "stderr",
     "output_type": "stream",
     "text": [
      "d:\\Repos\\clip-bold\\.venv\\Lib\\site-packages\\torchio\\transforms\\transform.py:162: RuntimeWarning: Output shape (50, 61, 50) != target shape (np.int64(50), np.int64(60), np.int64(50)). Fixing with CropOrPad\n",
      "  transformed = self.apply_transform(subject)\n"
     ]
    },
    {
     "name": "stdout",
     "output_type": "stream",
     "text": [
      "D:\\Repos\\clip-bold\\data\\raw\\bold5000\\derivatives\\fmriprep\\sub-CSI3\\ses-09\\func\\sub-CSI3_ses-09_task-5000scenes_run-08_bold_space-T1w_preproc.nii.gz\n"
     ]
    },
    {
     "name": "stderr",
     "output_type": "stream",
     "text": [
      "d:\\Repos\\clip-bold\\.venv\\Lib\\site-packages\\torchio\\transforms\\transform.py:162: RuntimeWarning: Output shape (50, 61, 50) != target shape (np.int64(50), np.int64(60), np.int64(50)). Fixing with CropOrPad\n",
      "  transformed = self.apply_transform(subject)\n"
     ]
    },
    {
     "name": "stdout",
     "output_type": "stream",
     "text": [
      "D:\\Repos\\clip-bold\\data\\raw\\bold5000\\derivatives\\fmriprep\\sub-CSI3\\ses-09\\func\\sub-CSI3_ses-09_task-5000scenes_run-09_bold_space-T1w_preproc.nii.gz\n"
     ]
    },
    {
     "name": "stderr",
     "output_type": "stream",
     "text": [
      "d:\\Repos\\clip-bold\\.venv\\Lib\\site-packages\\torchio\\transforms\\transform.py:162: RuntimeWarning: Output shape (50, 61, 50) != target shape (np.int64(50), np.int64(60), np.int64(50)). Fixing with CropOrPad\n",
      "  transformed = self.apply_transform(subject)\n"
     ]
    },
    {
     "name": "stdout",
     "output_type": "stream",
     "text": [
      "D:\\Repos\\clip-bold\\data\\raw\\bold5000\\derivatives\\fmriprep\\sub-CSI3\\ses-10\\func\\sub-CSI3_ses-10_task-5000scenes_run-01_bold_space-T1w_preproc.nii.gz\n"
     ]
    },
    {
     "name": "stderr",
     "output_type": "stream",
     "text": [
      "d:\\Repos\\clip-bold\\.venv\\Lib\\site-packages\\torchio\\transforms\\transform.py:162: RuntimeWarning: Output shape (50, 61, 50) != target shape (np.int64(50), np.int64(60), np.int64(50)). Fixing with CropOrPad\n",
      "  transformed = self.apply_transform(subject)\n"
     ]
    },
    {
     "name": "stdout",
     "output_type": "stream",
     "text": [
      "D:\\Repos\\clip-bold\\data\\raw\\bold5000\\derivatives\\fmriprep\\sub-CSI3\\ses-10\\func\\sub-CSI3_ses-10_task-5000scenes_run-02_bold_space-T1w_preproc.nii.gz\n"
     ]
    },
    {
     "name": "stderr",
     "output_type": "stream",
     "text": [
      "d:\\Repos\\clip-bold\\.venv\\Lib\\site-packages\\torchio\\transforms\\transform.py:162: RuntimeWarning: Output shape (50, 61, 50) != target shape (np.int64(50), np.int64(60), np.int64(50)). Fixing with CropOrPad\n",
      "  transformed = self.apply_transform(subject)\n"
     ]
    },
    {
     "name": "stdout",
     "output_type": "stream",
     "text": [
      "D:\\Repos\\clip-bold\\data\\raw\\bold5000\\derivatives\\fmriprep\\sub-CSI3\\ses-10\\func\\sub-CSI3_ses-10_task-5000scenes_run-03_bold_space-T1w_preproc.nii.gz\n"
     ]
    },
    {
     "name": "stderr",
     "output_type": "stream",
     "text": [
      "d:\\Repos\\clip-bold\\.venv\\Lib\\site-packages\\torchio\\transforms\\transform.py:162: RuntimeWarning: Output shape (50, 61, 50) != target shape (np.int64(50), np.int64(60), np.int64(50)). Fixing with CropOrPad\n",
      "  transformed = self.apply_transform(subject)\n"
     ]
    },
    {
     "name": "stdout",
     "output_type": "stream",
     "text": [
      "D:\\Repos\\clip-bold\\data\\raw\\bold5000\\derivatives\\fmriprep\\sub-CSI3\\ses-10\\func\\sub-CSI3_ses-10_task-5000scenes_run-04_bold_space-T1w_preproc.nii.gz\n"
     ]
    },
    {
     "name": "stderr",
     "output_type": "stream",
     "text": [
      "d:\\Repos\\clip-bold\\.venv\\Lib\\site-packages\\torchio\\transforms\\transform.py:162: RuntimeWarning: Output shape (50, 61, 50) != target shape (np.int64(50), np.int64(60), np.int64(50)). Fixing with CropOrPad\n",
      "  transformed = self.apply_transform(subject)\n"
     ]
    },
    {
     "name": "stdout",
     "output_type": "stream",
     "text": [
      "D:\\Repos\\clip-bold\\data\\raw\\bold5000\\derivatives\\fmriprep\\sub-CSI3\\ses-10\\func\\sub-CSI3_ses-10_task-5000scenes_run-05_bold_space-T1w_preproc.nii.gz\n"
     ]
    },
    {
     "name": "stderr",
     "output_type": "stream",
     "text": [
      "d:\\Repos\\clip-bold\\.venv\\Lib\\site-packages\\torchio\\transforms\\transform.py:162: RuntimeWarning: Output shape (50, 61, 50) != target shape (np.int64(50), np.int64(60), np.int64(50)). Fixing with CropOrPad\n",
      "  transformed = self.apply_transform(subject)\n"
     ]
    },
    {
     "name": "stdout",
     "output_type": "stream",
     "text": [
      "D:\\Repos\\clip-bold\\data\\raw\\bold5000\\derivatives\\fmriprep\\sub-CSI3\\ses-10\\func\\sub-CSI3_ses-10_task-5000scenes_run-06_bold_space-T1w_preproc.nii.gz\n"
     ]
    },
    {
     "name": "stderr",
     "output_type": "stream",
     "text": [
      "d:\\Repos\\clip-bold\\.venv\\Lib\\site-packages\\torchio\\transforms\\transform.py:162: RuntimeWarning: Output shape (50, 61, 50) != target shape (np.int64(50), np.int64(60), np.int64(50)). Fixing with CropOrPad\n",
      "  transformed = self.apply_transform(subject)\n"
     ]
    },
    {
     "name": "stdout",
     "output_type": "stream",
     "text": [
      "D:\\Repos\\clip-bold\\data\\raw\\bold5000\\derivatives\\fmriprep\\sub-CSI3\\ses-10\\func\\sub-CSI3_ses-10_task-5000scenes_run-07_bold_space-T1w_preproc.nii.gz\n"
     ]
    },
    {
     "name": "stderr",
     "output_type": "stream",
     "text": [
      "d:\\Repos\\clip-bold\\.venv\\Lib\\site-packages\\torchio\\transforms\\transform.py:162: RuntimeWarning: Output shape (50, 61, 50) != target shape (np.int64(50), np.int64(60), np.int64(50)). Fixing with CropOrPad\n",
      "  transformed = self.apply_transform(subject)\n"
     ]
    },
    {
     "name": "stdout",
     "output_type": "stream",
     "text": [
      "D:\\Repos\\clip-bold\\data\\raw\\bold5000\\derivatives\\fmriprep\\sub-CSI3\\ses-10\\func\\sub-CSI3_ses-10_task-5000scenes_run-08_bold_space-T1w_preproc.nii.gz\n"
     ]
    },
    {
     "name": "stderr",
     "output_type": "stream",
     "text": [
      "d:\\Repos\\clip-bold\\.venv\\Lib\\site-packages\\torchio\\transforms\\transform.py:162: RuntimeWarning: Output shape (50, 61, 50) != target shape (np.int64(50), np.int64(60), np.int64(50)). Fixing with CropOrPad\n",
      "  transformed = self.apply_transform(subject)\n"
     ]
    },
    {
     "name": "stdout",
     "output_type": "stream",
     "text": [
      "D:\\Repos\\clip-bold\\data\\raw\\bold5000\\derivatives\\fmriprep\\sub-CSI3\\ses-10\\func\\sub-CSI3_ses-10_task-5000scenes_run-09_bold_space-T1w_preproc.nii.gz\n"
     ]
    },
    {
     "name": "stderr",
     "output_type": "stream",
     "text": [
      "d:\\Repos\\clip-bold\\.venv\\Lib\\site-packages\\torchio\\transforms\\transform.py:162: RuntimeWarning: Output shape (50, 61, 50) != target shape (np.int64(50), np.int64(60), np.int64(50)). Fixing with CropOrPad\n",
      "  transformed = self.apply_transform(subject)\n"
     ]
    },
    {
     "name": "stdout",
     "output_type": "stream",
     "text": [
      "D:\\Repos\\clip-bold\\data\\raw\\bold5000\\derivatives\\fmriprep\\sub-CSI3\\ses-11\\func\\sub-CSI3_ses-11_task-5000scenes_run-01_bold_space-T1w_preproc.nii.gz\n"
     ]
    },
    {
     "name": "stderr",
     "output_type": "stream",
     "text": [
      "d:\\Repos\\clip-bold\\.venv\\Lib\\site-packages\\torchio\\transforms\\transform.py:162: RuntimeWarning: Output shape (50, 61, 50) != target shape (np.int64(50), np.int64(60), np.int64(50)). Fixing with CropOrPad\n",
      "  transformed = self.apply_transform(subject)\n"
     ]
    },
    {
     "name": "stdout",
     "output_type": "stream",
     "text": [
      "D:\\Repos\\clip-bold\\data\\raw\\bold5000\\derivatives\\fmriprep\\sub-CSI3\\ses-11\\func\\sub-CSI3_ses-11_task-5000scenes_run-02_bold_space-T1w_preproc.nii.gz\n"
     ]
    },
    {
     "name": "stderr",
     "output_type": "stream",
     "text": [
      "d:\\Repos\\clip-bold\\.venv\\Lib\\site-packages\\torchio\\transforms\\transform.py:162: RuntimeWarning: Output shape (50, 61, 50) != target shape (np.int64(50), np.int64(60), np.int64(50)). Fixing with CropOrPad\n",
      "  transformed = self.apply_transform(subject)\n"
     ]
    },
    {
     "name": "stdout",
     "output_type": "stream",
     "text": [
      "D:\\Repos\\clip-bold\\data\\raw\\bold5000\\derivatives\\fmriprep\\sub-CSI3\\ses-11\\func\\sub-CSI3_ses-11_task-5000scenes_run-03_bold_space-T1w_preproc.nii.gz\n"
     ]
    },
    {
     "name": "stderr",
     "output_type": "stream",
     "text": [
      "d:\\Repos\\clip-bold\\.venv\\Lib\\site-packages\\torchio\\transforms\\transform.py:162: RuntimeWarning: Output shape (50, 61, 50) != target shape (np.int64(50), np.int64(60), np.int64(50)). Fixing with CropOrPad\n",
      "  transformed = self.apply_transform(subject)\n"
     ]
    },
    {
     "name": "stdout",
     "output_type": "stream",
     "text": [
      "D:\\Repos\\clip-bold\\data\\raw\\bold5000\\derivatives\\fmriprep\\sub-CSI3\\ses-11\\func\\sub-CSI3_ses-11_task-5000scenes_run-04_bold_space-T1w_preproc.nii.gz\n"
     ]
    },
    {
     "name": "stderr",
     "output_type": "stream",
     "text": [
      "d:\\Repos\\clip-bold\\.venv\\Lib\\site-packages\\torchio\\transforms\\transform.py:162: RuntimeWarning: Output shape (50, 61, 50) != target shape (np.int64(50), np.int64(60), np.int64(50)). Fixing with CropOrPad\n",
      "  transformed = self.apply_transform(subject)\n"
     ]
    },
    {
     "name": "stdout",
     "output_type": "stream",
     "text": [
      "D:\\Repos\\clip-bold\\data\\raw\\bold5000\\derivatives\\fmriprep\\sub-CSI3\\ses-11\\func\\sub-CSI3_ses-11_task-5000scenes_run-05_bold_space-T1w_preproc.nii.gz\n"
     ]
    },
    {
     "name": "stderr",
     "output_type": "stream",
     "text": [
      "d:\\Repos\\clip-bold\\.venv\\Lib\\site-packages\\torchio\\transforms\\transform.py:162: RuntimeWarning: Output shape (50, 61, 50) != target shape (np.int64(50), np.int64(60), np.int64(50)). Fixing with CropOrPad\n",
      "  transformed = self.apply_transform(subject)\n"
     ]
    },
    {
     "name": "stdout",
     "output_type": "stream",
     "text": [
      "D:\\Repos\\clip-bold\\data\\raw\\bold5000\\derivatives\\fmriprep\\sub-CSI3\\ses-11\\func\\sub-CSI3_ses-11_task-5000scenes_run-06_bold_space-T1w_preproc.nii.gz\n"
     ]
    },
    {
     "name": "stderr",
     "output_type": "stream",
     "text": [
      "d:\\Repos\\clip-bold\\.venv\\Lib\\site-packages\\torchio\\transforms\\transform.py:162: RuntimeWarning: Output shape (50, 61, 50) != target shape (np.int64(50), np.int64(60), np.int64(50)). Fixing with CropOrPad\n",
      "  transformed = self.apply_transform(subject)\n"
     ]
    },
    {
     "name": "stdout",
     "output_type": "stream",
     "text": [
      "D:\\Repos\\clip-bold\\data\\raw\\bold5000\\derivatives\\fmriprep\\sub-CSI3\\ses-11\\func\\sub-CSI3_ses-11_task-5000scenes_run-07_bold_space-T1w_preproc.nii.gz\n"
     ]
    },
    {
     "name": "stderr",
     "output_type": "stream",
     "text": [
      "d:\\Repos\\clip-bold\\.venv\\Lib\\site-packages\\torchio\\transforms\\transform.py:162: RuntimeWarning: Output shape (50, 61, 50) != target shape (np.int64(50), np.int64(60), np.int64(50)). Fixing with CropOrPad\n",
      "  transformed = self.apply_transform(subject)\n"
     ]
    },
    {
     "name": "stdout",
     "output_type": "stream",
     "text": [
      "D:\\Repos\\clip-bold\\data\\raw\\bold5000\\derivatives\\fmriprep\\sub-CSI3\\ses-11\\func\\sub-CSI3_ses-11_task-5000scenes_run-08_bold_space-T1w_preproc.nii.gz\n"
     ]
    },
    {
     "name": "stderr",
     "output_type": "stream",
     "text": [
      "d:\\Repos\\clip-bold\\.venv\\Lib\\site-packages\\torchio\\transforms\\transform.py:162: RuntimeWarning: Output shape (50, 61, 50) != target shape (np.int64(50), np.int64(60), np.int64(50)). Fixing with CropOrPad\n",
      "  transformed = self.apply_transform(subject)\n"
     ]
    },
    {
     "name": "stdout",
     "output_type": "stream",
     "text": [
      "D:\\Repos\\clip-bold\\data\\raw\\bold5000\\derivatives\\fmriprep\\sub-CSI3\\ses-11\\func\\sub-CSI3_ses-11_task-5000scenes_run-09_bold_space-T1w_preproc.nii.gz\n"
     ]
    },
    {
     "name": "stderr",
     "output_type": "stream",
     "text": [
      "d:\\Repos\\clip-bold\\.venv\\Lib\\site-packages\\torchio\\transforms\\transform.py:162: RuntimeWarning: Output shape (50, 61, 50) != target shape (np.int64(50), np.int64(60), np.int64(50)). Fixing with CropOrPad\n",
      "  transformed = self.apply_transform(subject)\n"
     ]
    },
    {
     "name": "stdout",
     "output_type": "stream",
     "text": [
      "D:\\Repos\\clip-bold\\data\\raw\\bold5000\\derivatives\\fmriprep\\sub-CSI3\\ses-11\\func\\sub-CSI3_ses-11_task-5000scenes_run-10_bold_space-T1w_preproc.nii.gz\n"
     ]
    },
    {
     "name": "stderr",
     "output_type": "stream",
     "text": [
      "d:\\Repos\\clip-bold\\.venv\\Lib\\site-packages\\torchio\\transforms\\transform.py:162: RuntimeWarning: Output shape (50, 61, 50) != target shape (np.int64(50), np.int64(60), np.int64(50)). Fixing with CropOrPad\n",
      "  transformed = self.apply_transform(subject)\n"
     ]
    },
    {
     "name": "stdout",
     "output_type": "stream",
     "text": [
      "D:\\Repos\\clip-bold\\data\\raw\\bold5000\\derivatives\\fmriprep\\sub-CSI3\\ses-12\\func\\sub-CSI3_ses-12_task-5000scenes_run-01_bold_space-T1w_preproc.nii.gz\n"
     ]
    },
    {
     "name": "stderr",
     "output_type": "stream",
     "text": [
      "d:\\Repos\\clip-bold\\.venv\\Lib\\site-packages\\torchio\\transforms\\transform.py:162: RuntimeWarning: Output shape (50, 61, 50) != target shape (np.int64(50), np.int64(60), np.int64(50)). Fixing with CropOrPad\n",
      "  transformed = self.apply_transform(subject)\n"
     ]
    },
    {
     "name": "stdout",
     "output_type": "stream",
     "text": [
      "D:\\Repos\\clip-bold\\data\\raw\\bold5000\\derivatives\\fmriprep\\sub-CSI3\\ses-12\\func\\sub-CSI3_ses-12_task-5000scenes_run-02_bold_space-T1w_preproc.nii.gz\n"
     ]
    },
    {
     "name": "stderr",
     "output_type": "stream",
     "text": [
      "d:\\Repos\\clip-bold\\.venv\\Lib\\site-packages\\torchio\\transforms\\transform.py:162: RuntimeWarning: Output shape (50, 61, 50) != target shape (np.int64(50), np.int64(60), np.int64(50)). Fixing with CropOrPad\n",
      "  transformed = self.apply_transform(subject)\n"
     ]
    },
    {
     "name": "stdout",
     "output_type": "stream",
     "text": [
      "D:\\Repos\\clip-bold\\data\\raw\\bold5000\\derivatives\\fmriprep\\sub-CSI3\\ses-12\\func\\sub-CSI3_ses-12_task-5000scenes_run-03_bold_space-T1w_preproc.nii.gz\n"
     ]
    },
    {
     "name": "stderr",
     "output_type": "stream",
     "text": [
      "d:\\Repos\\clip-bold\\.venv\\Lib\\site-packages\\torchio\\transforms\\transform.py:162: RuntimeWarning: Output shape (50, 61, 50) != target shape (np.int64(50), np.int64(60), np.int64(50)). Fixing with CropOrPad\n",
      "  transformed = self.apply_transform(subject)\n"
     ]
    },
    {
     "name": "stdout",
     "output_type": "stream",
     "text": [
      "D:\\Repos\\clip-bold\\data\\raw\\bold5000\\derivatives\\fmriprep\\sub-CSI3\\ses-12\\func\\sub-CSI3_ses-12_task-5000scenes_run-04_bold_space-T1w_preproc.nii.gz\n"
     ]
    },
    {
     "name": "stderr",
     "output_type": "stream",
     "text": [
      "d:\\Repos\\clip-bold\\.venv\\Lib\\site-packages\\torchio\\transforms\\transform.py:162: RuntimeWarning: Output shape (50, 61, 50) != target shape (np.int64(50), np.int64(60), np.int64(50)). Fixing with CropOrPad\n",
      "  transformed = self.apply_transform(subject)\n"
     ]
    },
    {
     "name": "stdout",
     "output_type": "stream",
     "text": [
      "D:\\Repos\\clip-bold\\data\\raw\\bold5000\\derivatives\\fmriprep\\sub-CSI3\\ses-12\\func\\sub-CSI3_ses-12_task-5000scenes_run-05_bold_space-T1w_preproc.nii.gz\n"
     ]
    },
    {
     "name": "stderr",
     "output_type": "stream",
     "text": [
      "d:\\Repos\\clip-bold\\.venv\\Lib\\site-packages\\torchio\\transforms\\transform.py:162: RuntimeWarning: Output shape (50, 61, 50) != target shape (np.int64(50), np.int64(60), np.int64(50)). Fixing with CropOrPad\n",
      "  transformed = self.apply_transform(subject)\n"
     ]
    },
    {
     "name": "stdout",
     "output_type": "stream",
     "text": [
      "D:\\Repos\\clip-bold\\data\\raw\\bold5000\\derivatives\\fmriprep\\sub-CSI3\\ses-12\\func\\sub-CSI3_ses-12_task-5000scenes_run-06_bold_space-T1w_preproc.nii.gz\n"
     ]
    },
    {
     "name": "stderr",
     "output_type": "stream",
     "text": [
      "d:\\Repos\\clip-bold\\.venv\\Lib\\site-packages\\torchio\\transforms\\transform.py:162: RuntimeWarning: Output shape (50, 61, 50) != target shape (np.int64(50), np.int64(60), np.int64(50)). Fixing with CropOrPad\n",
      "  transformed = self.apply_transform(subject)\n"
     ]
    },
    {
     "name": "stdout",
     "output_type": "stream",
     "text": [
      "D:\\Repos\\clip-bold\\data\\raw\\bold5000\\derivatives\\fmriprep\\sub-CSI3\\ses-12\\func\\sub-CSI3_ses-12_task-5000scenes_run-07_bold_space-T1w_preproc.nii.gz\n"
     ]
    },
    {
     "name": "stderr",
     "output_type": "stream",
     "text": [
      "d:\\Repos\\clip-bold\\.venv\\Lib\\site-packages\\torchio\\transforms\\transform.py:162: RuntimeWarning: Output shape (50, 61, 50) != target shape (np.int64(50), np.int64(60), np.int64(50)). Fixing with CropOrPad\n",
      "  transformed = self.apply_transform(subject)\n"
     ]
    },
    {
     "name": "stdout",
     "output_type": "stream",
     "text": [
      "D:\\Repos\\clip-bold\\data\\raw\\bold5000\\derivatives\\fmriprep\\sub-CSI3\\ses-12\\func\\sub-CSI3_ses-12_task-5000scenes_run-08_bold_space-T1w_preproc.nii.gz\n"
     ]
    },
    {
     "name": "stderr",
     "output_type": "stream",
     "text": [
      "d:\\Repos\\clip-bold\\.venv\\Lib\\site-packages\\torchio\\transforms\\transform.py:162: RuntimeWarning: Output shape (50, 61, 50) != target shape (np.int64(50), np.int64(60), np.int64(50)). Fixing with CropOrPad\n",
      "  transformed = self.apply_transform(subject)\n"
     ]
    },
    {
     "name": "stdout",
     "output_type": "stream",
     "text": [
      "D:\\Repos\\clip-bold\\data\\raw\\bold5000\\derivatives\\fmriprep\\sub-CSI3\\ses-12\\func\\sub-CSI3_ses-12_task-5000scenes_run-09_bold_space-T1w_preproc.nii.gz\n"
     ]
    },
    {
     "name": "stderr",
     "output_type": "stream",
     "text": [
      "d:\\Repos\\clip-bold\\.venv\\Lib\\site-packages\\torchio\\transforms\\transform.py:162: RuntimeWarning: Output shape (50, 61, 50) != target shape (np.int64(50), np.int64(60), np.int64(50)). Fixing with CropOrPad\n",
      "  transformed = self.apply_transform(subject)\n"
     ]
    },
    {
     "name": "stdout",
     "output_type": "stream",
     "text": [
      "D:\\Repos\\clip-bold\\data\\raw\\bold5000\\derivatives\\fmriprep\\sub-CSI3\\ses-13\\func\\sub-CSI3_ses-13_task-5000scenes_run-01_bold_space-T1w_preproc.nii.gz\n"
     ]
    },
    {
     "name": "stderr",
     "output_type": "stream",
     "text": [
      "d:\\Repos\\clip-bold\\.venv\\Lib\\site-packages\\torchio\\transforms\\transform.py:162: RuntimeWarning: Output shape (50, 61, 50) != target shape (np.int64(50), np.int64(60), np.int64(50)). Fixing with CropOrPad\n",
      "  transformed = self.apply_transform(subject)\n"
     ]
    },
    {
     "name": "stdout",
     "output_type": "stream",
     "text": [
      "D:\\Repos\\clip-bold\\data\\raw\\bold5000\\derivatives\\fmriprep\\sub-CSI3\\ses-13\\func\\sub-CSI3_ses-13_task-5000scenes_run-02_bold_space-T1w_preproc.nii.gz\n"
     ]
    },
    {
     "name": "stderr",
     "output_type": "stream",
     "text": [
      "d:\\Repos\\clip-bold\\.venv\\Lib\\site-packages\\torchio\\transforms\\transform.py:162: RuntimeWarning: Output shape (50, 61, 50) != target shape (np.int64(50), np.int64(60), np.int64(50)). Fixing with CropOrPad\n",
      "  transformed = self.apply_transform(subject)\n"
     ]
    },
    {
     "name": "stdout",
     "output_type": "stream",
     "text": [
      "D:\\Repos\\clip-bold\\data\\raw\\bold5000\\derivatives\\fmriprep\\sub-CSI3\\ses-13\\func\\sub-CSI3_ses-13_task-5000scenes_run-03_bold_space-T1w_preproc.nii.gz\n"
     ]
    },
    {
     "name": "stderr",
     "output_type": "stream",
     "text": [
      "d:\\Repos\\clip-bold\\.venv\\Lib\\site-packages\\torchio\\transforms\\transform.py:162: RuntimeWarning: Output shape (50, 61, 50) != target shape (np.int64(50), np.int64(60), np.int64(50)). Fixing with CropOrPad\n",
      "  transformed = self.apply_transform(subject)\n"
     ]
    },
    {
     "name": "stdout",
     "output_type": "stream",
     "text": [
      "D:\\Repos\\clip-bold\\data\\raw\\bold5000\\derivatives\\fmriprep\\sub-CSI3\\ses-13\\func\\sub-CSI3_ses-13_task-5000scenes_run-04_bold_space-T1w_preproc.nii.gz\n"
     ]
    },
    {
     "name": "stderr",
     "output_type": "stream",
     "text": [
      "d:\\Repos\\clip-bold\\.venv\\Lib\\site-packages\\torchio\\transforms\\transform.py:162: RuntimeWarning: Output shape (50, 61, 50) != target shape (np.int64(50), np.int64(60), np.int64(50)). Fixing with CropOrPad\n",
      "  transformed = self.apply_transform(subject)\n"
     ]
    },
    {
     "name": "stdout",
     "output_type": "stream",
     "text": [
      "D:\\Repos\\clip-bold\\data\\raw\\bold5000\\derivatives\\fmriprep\\sub-CSI3\\ses-13\\func\\sub-CSI3_ses-13_task-5000scenes_run-05_bold_space-T1w_preproc.nii.gz\n"
     ]
    },
    {
     "name": "stderr",
     "output_type": "stream",
     "text": [
      "d:\\Repos\\clip-bold\\.venv\\Lib\\site-packages\\torchio\\transforms\\transform.py:162: RuntimeWarning: Output shape (50, 61, 50) != target shape (np.int64(50), np.int64(60), np.int64(50)). Fixing with CropOrPad\n",
      "  transformed = self.apply_transform(subject)\n"
     ]
    },
    {
     "name": "stdout",
     "output_type": "stream",
     "text": [
      "D:\\Repos\\clip-bold\\data\\raw\\bold5000\\derivatives\\fmriprep\\sub-CSI3\\ses-13\\func\\sub-CSI3_ses-13_task-5000scenes_run-06_bold_space-T1w_preproc.nii.gz\n"
     ]
    },
    {
     "name": "stderr",
     "output_type": "stream",
     "text": [
      "d:\\Repos\\clip-bold\\.venv\\Lib\\site-packages\\torchio\\transforms\\transform.py:162: RuntimeWarning: Output shape (50, 61, 50) != target shape (np.int64(50), np.int64(60), np.int64(50)). Fixing with CropOrPad\n",
      "  transformed = self.apply_transform(subject)\n"
     ]
    },
    {
     "name": "stdout",
     "output_type": "stream",
     "text": [
      "D:\\Repos\\clip-bold\\data\\raw\\bold5000\\derivatives\\fmriprep\\sub-CSI3\\ses-13\\func\\sub-CSI3_ses-13_task-5000scenes_run-07_bold_space-T1w_preproc.nii.gz\n"
     ]
    },
    {
     "name": "stderr",
     "output_type": "stream",
     "text": [
      "d:\\Repos\\clip-bold\\.venv\\Lib\\site-packages\\torchio\\transforms\\transform.py:162: RuntimeWarning: Output shape (50, 61, 50) != target shape (np.int64(50), np.int64(60), np.int64(50)). Fixing with CropOrPad\n",
      "  transformed = self.apply_transform(subject)\n"
     ]
    },
    {
     "name": "stdout",
     "output_type": "stream",
     "text": [
      "D:\\Repos\\clip-bold\\data\\raw\\bold5000\\derivatives\\fmriprep\\sub-CSI3\\ses-13\\func\\sub-CSI3_ses-13_task-5000scenes_run-08_bold_space-T1w_preproc.nii.gz\n"
     ]
    },
    {
     "name": "stderr",
     "output_type": "stream",
     "text": [
      "d:\\Repos\\clip-bold\\.venv\\Lib\\site-packages\\torchio\\transforms\\transform.py:162: RuntimeWarning: Output shape (50, 61, 50) != target shape (np.int64(50), np.int64(60), np.int64(50)). Fixing with CropOrPad\n",
      "  transformed = self.apply_transform(subject)\n"
     ]
    },
    {
     "name": "stdout",
     "output_type": "stream",
     "text": [
      "D:\\Repos\\clip-bold\\data\\raw\\bold5000\\derivatives\\fmriprep\\sub-CSI3\\ses-13\\func\\sub-CSI3_ses-13_task-5000scenes_run-09_bold_space-T1w_preproc.nii.gz\n"
     ]
    },
    {
     "name": "stderr",
     "output_type": "stream",
     "text": [
      "d:\\Repos\\clip-bold\\.venv\\Lib\\site-packages\\torchio\\transforms\\transform.py:162: RuntimeWarning: Output shape (50, 61, 50) != target shape (np.int64(50), np.int64(60), np.int64(50)). Fixing with CropOrPad\n",
      "  transformed = self.apply_transform(subject)\n"
     ]
    },
    {
     "name": "stdout",
     "output_type": "stream",
     "text": [
      "D:\\Repos\\clip-bold\\data\\raw\\bold5000\\derivatives\\fmriprep\\sub-CSI3\\ses-14\\func\\sub-CSI3_ses-14_task-5000scenes_run-01_bold_space-T1w_preproc.nii.gz\n"
     ]
    },
    {
     "name": "stderr",
     "output_type": "stream",
     "text": [
      "d:\\Repos\\clip-bold\\.venv\\Lib\\site-packages\\torchio\\transforms\\transform.py:162: RuntimeWarning: Output shape (50, 61, 50) != target shape (np.int64(50), np.int64(60), np.int64(50)). Fixing with CropOrPad\n",
      "  transformed = self.apply_transform(subject)\n"
     ]
    },
    {
     "name": "stdout",
     "output_type": "stream",
     "text": [
      "D:\\Repos\\clip-bold\\data\\raw\\bold5000\\derivatives\\fmriprep\\sub-CSI3\\ses-14\\func\\sub-CSI3_ses-14_task-5000scenes_run-02_bold_space-T1w_preproc.nii.gz\n"
     ]
    },
    {
     "name": "stderr",
     "output_type": "stream",
     "text": [
      "d:\\Repos\\clip-bold\\.venv\\Lib\\site-packages\\torchio\\transforms\\transform.py:162: RuntimeWarning: Output shape (50, 61, 50) != target shape (np.int64(50), np.int64(60), np.int64(50)). Fixing with CropOrPad\n",
      "  transformed = self.apply_transform(subject)\n"
     ]
    },
    {
     "name": "stdout",
     "output_type": "stream",
     "text": [
      "D:\\Repos\\clip-bold\\data\\raw\\bold5000\\derivatives\\fmriprep\\sub-CSI3\\ses-14\\func\\sub-CSI3_ses-14_task-5000scenes_run-03_bold_space-T1w_preproc.nii.gz\n"
     ]
    },
    {
     "name": "stderr",
     "output_type": "stream",
     "text": [
      "d:\\Repos\\clip-bold\\.venv\\Lib\\site-packages\\torchio\\transforms\\transform.py:162: RuntimeWarning: Output shape (50, 61, 50) != target shape (np.int64(50), np.int64(60), np.int64(50)). Fixing with CropOrPad\n",
      "  transformed = self.apply_transform(subject)\n"
     ]
    },
    {
     "name": "stdout",
     "output_type": "stream",
     "text": [
      "D:\\Repos\\clip-bold\\data\\raw\\bold5000\\derivatives\\fmriprep\\sub-CSI3\\ses-14\\func\\sub-CSI3_ses-14_task-5000scenes_run-04_bold_space-T1w_preproc.nii.gz\n"
     ]
    },
    {
     "name": "stderr",
     "output_type": "stream",
     "text": [
      "d:\\Repos\\clip-bold\\.venv\\Lib\\site-packages\\torchio\\transforms\\transform.py:162: RuntimeWarning: Output shape (50, 61, 50) != target shape (np.int64(50), np.int64(60), np.int64(50)). Fixing with CropOrPad\n",
      "  transformed = self.apply_transform(subject)\n"
     ]
    },
    {
     "name": "stdout",
     "output_type": "stream",
     "text": [
      "D:\\Repos\\clip-bold\\data\\raw\\bold5000\\derivatives\\fmriprep\\sub-CSI3\\ses-14\\func\\sub-CSI3_ses-14_task-5000scenes_run-05_bold_space-T1w_preproc.nii.gz\n"
     ]
    },
    {
     "name": "stderr",
     "output_type": "stream",
     "text": [
      "d:\\Repos\\clip-bold\\.venv\\Lib\\site-packages\\torchio\\transforms\\transform.py:162: RuntimeWarning: Output shape (50, 61, 50) != target shape (np.int64(50), np.int64(60), np.int64(50)). Fixing with CropOrPad\n",
      "  transformed = self.apply_transform(subject)\n"
     ]
    },
    {
     "name": "stdout",
     "output_type": "stream",
     "text": [
      "D:\\Repos\\clip-bold\\data\\raw\\bold5000\\derivatives\\fmriprep\\sub-CSI3\\ses-14\\func\\sub-CSI3_ses-14_task-5000scenes_run-06_bold_space-T1w_preproc.nii.gz\n"
     ]
    },
    {
     "name": "stderr",
     "output_type": "stream",
     "text": [
      "d:\\Repos\\clip-bold\\.venv\\Lib\\site-packages\\torchio\\transforms\\transform.py:162: RuntimeWarning: Output shape (50, 61, 50) != target shape (np.int64(50), np.int64(60), np.int64(50)). Fixing with CropOrPad\n",
      "  transformed = self.apply_transform(subject)\n"
     ]
    },
    {
     "name": "stdout",
     "output_type": "stream",
     "text": [
      "D:\\Repos\\clip-bold\\data\\raw\\bold5000\\derivatives\\fmriprep\\sub-CSI3\\ses-14\\func\\sub-CSI3_ses-14_task-5000scenes_run-07_bold_space-T1w_preproc.nii.gz\n"
     ]
    },
    {
     "name": "stderr",
     "output_type": "stream",
     "text": [
      "d:\\Repos\\clip-bold\\.venv\\Lib\\site-packages\\torchio\\transforms\\transform.py:162: RuntimeWarning: Output shape (50, 61, 50) != target shape (np.int64(50), np.int64(60), np.int64(50)). Fixing with CropOrPad\n",
      "  transformed = self.apply_transform(subject)\n"
     ]
    },
    {
     "name": "stdout",
     "output_type": "stream",
     "text": [
      "D:\\Repos\\clip-bold\\data\\raw\\bold5000\\derivatives\\fmriprep\\sub-CSI3\\ses-14\\func\\sub-CSI3_ses-14_task-5000scenes_run-08_bold_space-T1w_preproc.nii.gz\n"
     ]
    },
    {
     "name": "stderr",
     "output_type": "stream",
     "text": [
      "d:\\Repos\\clip-bold\\.venv\\Lib\\site-packages\\torchio\\transforms\\transform.py:162: RuntimeWarning: Output shape (50, 61, 50) != target shape (np.int64(50), np.int64(60), np.int64(50)). Fixing with CropOrPad\n",
      "  transformed = self.apply_transform(subject)\n"
     ]
    },
    {
     "name": "stdout",
     "output_type": "stream",
     "text": [
      "D:\\Repos\\clip-bold\\data\\raw\\bold5000\\derivatives\\fmriprep\\sub-CSI3\\ses-14\\func\\sub-CSI3_ses-14_task-5000scenes_run-09_bold_space-T1w_preproc.nii.gz\n"
     ]
    },
    {
     "name": "stderr",
     "output_type": "stream",
     "text": [
      "d:\\Repos\\clip-bold\\.venv\\Lib\\site-packages\\torchio\\transforms\\transform.py:162: RuntimeWarning: Output shape (50, 61, 50) != target shape (np.int64(50), np.int64(60), np.int64(50)). Fixing with CropOrPad\n",
      "  transformed = self.apply_transform(subject)\n"
     ]
    },
    {
     "name": "stdout",
     "output_type": "stream",
     "text": [
      "D:\\Repos\\clip-bold\\data\\raw\\bold5000\\derivatives\\fmriprep\\sub-CSI3\\ses-15\\func\\sub-CSI3_ses-15_task-5000scenes_run-01_bold_space-T1w_preproc.nii.gz\n"
     ]
    },
    {
     "name": "stderr",
     "output_type": "stream",
     "text": [
      "d:\\Repos\\clip-bold\\.venv\\Lib\\site-packages\\torchio\\transforms\\transform.py:162: RuntimeWarning: Output shape (50, 61, 50) != target shape (np.int64(50), np.int64(60), np.int64(50)). Fixing with CropOrPad\n",
      "  transformed = self.apply_transform(subject)\n"
     ]
    },
    {
     "name": "stdout",
     "output_type": "stream",
     "text": [
      "D:\\Repos\\clip-bold\\data\\raw\\bold5000\\derivatives\\fmriprep\\sub-CSI3\\ses-15\\func\\sub-CSI3_ses-15_task-5000scenes_run-02_bold_space-T1w_preproc.nii.gz\n"
     ]
    },
    {
     "name": "stderr",
     "output_type": "stream",
     "text": [
      "d:\\Repos\\clip-bold\\.venv\\Lib\\site-packages\\torchio\\transforms\\transform.py:162: RuntimeWarning: Output shape (50, 61, 50) != target shape (np.int64(50), np.int64(60), np.int64(50)). Fixing with CropOrPad\n",
      "  transformed = self.apply_transform(subject)\n"
     ]
    },
    {
     "name": "stdout",
     "output_type": "stream",
     "text": [
      "D:\\Repos\\clip-bold\\data\\raw\\bold5000\\derivatives\\fmriprep\\sub-CSI3\\ses-15\\func\\sub-CSI3_ses-15_task-5000scenes_run-03_bold_space-T1w_preproc.nii.gz\n"
     ]
    },
    {
     "name": "stderr",
     "output_type": "stream",
     "text": [
      "d:\\Repos\\clip-bold\\.venv\\Lib\\site-packages\\torchio\\transforms\\transform.py:162: RuntimeWarning: Output shape (50, 61, 50) != target shape (np.int64(50), np.int64(60), np.int64(50)). Fixing with CropOrPad\n",
      "  transformed = self.apply_transform(subject)\n"
     ]
    },
    {
     "name": "stdout",
     "output_type": "stream",
     "text": [
      "D:\\Repos\\clip-bold\\data\\raw\\bold5000\\derivatives\\fmriprep\\sub-CSI3\\ses-15\\func\\sub-CSI3_ses-15_task-5000scenes_run-04_bold_space-T1w_preproc.nii.gz\n"
     ]
    },
    {
     "name": "stderr",
     "output_type": "stream",
     "text": [
      "d:\\Repos\\clip-bold\\.venv\\Lib\\site-packages\\torchio\\transforms\\transform.py:162: RuntimeWarning: Output shape (50, 61, 50) != target shape (np.int64(50), np.int64(60), np.int64(50)). Fixing with CropOrPad\n",
      "  transformed = self.apply_transform(subject)\n"
     ]
    },
    {
     "name": "stdout",
     "output_type": "stream",
     "text": [
      "D:\\Repos\\clip-bold\\data\\raw\\bold5000\\derivatives\\fmriprep\\sub-CSI3\\ses-15\\func\\sub-CSI3_ses-15_task-5000scenes_run-05_bold_space-T1w_preproc.nii.gz\n"
     ]
    },
    {
     "name": "stderr",
     "output_type": "stream",
     "text": [
      "d:\\Repos\\clip-bold\\.venv\\Lib\\site-packages\\torchio\\transforms\\transform.py:162: RuntimeWarning: Output shape (50, 61, 50) != target shape (np.int64(50), np.int64(60), np.int64(50)). Fixing with CropOrPad\n",
      "  transformed = self.apply_transform(subject)\n"
     ]
    },
    {
     "name": "stdout",
     "output_type": "stream",
     "text": [
      "D:\\Repos\\clip-bold\\data\\raw\\bold5000\\derivatives\\fmriprep\\sub-CSI3\\ses-15\\func\\sub-CSI3_ses-15_task-5000scenes_run-06_bold_space-T1w_preproc.nii.gz\n"
     ]
    },
    {
     "name": "stderr",
     "output_type": "stream",
     "text": [
      "d:\\Repos\\clip-bold\\.venv\\Lib\\site-packages\\torchio\\transforms\\transform.py:162: RuntimeWarning: Output shape (50, 61, 50) != target shape (np.int64(50), np.int64(60), np.int64(50)). Fixing with CropOrPad\n",
      "  transformed = self.apply_transform(subject)\n"
     ]
    },
    {
     "name": "stdout",
     "output_type": "stream",
     "text": [
      "D:\\Repos\\clip-bold\\data\\raw\\bold5000\\derivatives\\fmriprep\\sub-CSI3\\ses-15\\func\\sub-CSI3_ses-15_task-5000scenes_run-07_bold_space-T1w_preproc.nii.gz\n"
     ]
    },
    {
     "name": "stderr",
     "output_type": "stream",
     "text": [
      "d:\\Repos\\clip-bold\\.venv\\Lib\\site-packages\\torchio\\transforms\\transform.py:162: RuntimeWarning: Output shape (50, 61, 50) != target shape (np.int64(50), np.int64(60), np.int64(50)). Fixing with CropOrPad\n",
      "  transformed = self.apply_transform(subject)\n"
     ]
    },
    {
     "name": "stdout",
     "output_type": "stream",
     "text": [
      "D:\\Repos\\clip-bold\\data\\raw\\bold5000\\derivatives\\fmriprep\\sub-CSI3\\ses-15\\func\\sub-CSI3_ses-15_task-5000scenes_run-08_bold_space-T1w_preproc.nii.gz\n"
     ]
    },
    {
     "name": "stderr",
     "output_type": "stream",
     "text": [
      "d:\\Repos\\clip-bold\\.venv\\Lib\\site-packages\\torchio\\transforms\\transform.py:162: RuntimeWarning: Output shape (50, 61, 50) != target shape (np.int64(50), np.int64(60), np.int64(50)). Fixing with CropOrPad\n",
      "  transformed = self.apply_transform(subject)\n"
     ]
    },
    {
     "name": "stdout",
     "output_type": "stream",
     "text": [
      "D:\\Repos\\clip-bold\\data\\raw\\bold5000\\derivatives\\fmriprep\\sub-CSI3\\ses-15\\func\\sub-CSI3_ses-15_task-5000scenes_run-09_bold_space-T1w_preproc.nii.gz\n"
     ]
    },
    {
     "name": "stderr",
     "output_type": "stream",
     "text": [
      "d:\\Repos\\clip-bold\\.venv\\Lib\\site-packages\\torchio\\transforms\\transform.py:162: RuntimeWarning: Output shape (50, 61, 50) != target shape (np.int64(50), np.int64(60), np.int64(50)). Fixing with CropOrPad\n",
      "  transformed = self.apply_transform(subject)\n"
     ]
    },
    {
     "name": "stdout",
     "output_type": "stream",
     "text": [
      "D:\\Repos\\clip-bold\\data\\raw\\bold5000\\derivatives\\fmriprep\\sub-CSI3\\ses-15\\func\\sub-CSI3_ses-15_task-5000scenes_run-10_bold_space-T1w_preproc.nii.gz\n"
     ]
    },
    {
     "name": "stderr",
     "output_type": "stream",
     "text": [
      "d:\\Repos\\clip-bold\\.venv\\Lib\\site-packages\\torchio\\transforms\\transform.py:162: RuntimeWarning: Output shape (50, 61, 50) != target shape (np.int64(50), np.int64(60), np.int64(50)). Fixing with CropOrPad\n",
      "  transformed = self.apply_transform(subject)\n"
     ]
    }
   ],
   "source": [
    "with warnings.catch_warnings():\n",
    "    warnings.simplefilter('ignore', UserWarning)\n",
    "    warnings.simplefilter('ignore', DeprecationWarning)\n",
    "    get_nifti_files(3)"
   ]
  },
  {
   "cell_type": "code",
   "execution_count": 7,
   "metadata": {},
   "outputs": [
    {
     "name": "stdout",
     "output_type": "stream",
     "text": [
      "D:\\Repos\\clip-bold\\data\\raw\\bold5000\\derivatives\\fmriprep\\sub-CSI4\\ses-01\\func\\sub-CSI4_ses-01_task-5000scenes_run-01_bold_space-T1w_preproc.nii.gz\n",
      "D:\\Repos\\clip-bold\\data\\raw\\bold5000\\derivatives\\fmriprep\\sub-CSI4\\ses-01\\func\\sub-CSI4_ses-01_task-5000scenes_run-02_bold_space-T1w_preproc.nii.gz\n",
      "D:\\Repos\\clip-bold\\data\\raw\\bold5000\\derivatives\\fmriprep\\sub-CSI4\\ses-01\\func\\sub-CSI4_ses-01_task-5000scenes_run-03_bold_space-T1w_preproc.nii.gz\n",
      "D:\\Repos\\clip-bold\\data\\raw\\bold5000\\derivatives\\fmriprep\\sub-CSI4\\ses-01\\func\\sub-CSI4_ses-01_task-5000scenes_run-04_bold_space-T1w_preproc.nii.gz\n",
      "D:\\Repos\\clip-bold\\data\\raw\\bold5000\\derivatives\\fmriprep\\sub-CSI4\\ses-01\\func\\sub-CSI4_ses-01_task-5000scenes_run-05_bold_space-T1w_preproc.nii.gz\n",
      "D:\\Repos\\clip-bold\\data\\raw\\bold5000\\derivatives\\fmriprep\\sub-CSI4\\ses-01\\func\\sub-CSI4_ses-01_task-5000scenes_run-06_bold_space-T1w_preproc.nii.gz\n",
      "D:\\Repos\\clip-bold\\data\\raw\\bold5000\\derivatives\\fmriprep\\sub-CSI4\\ses-01\\func\\sub-CSI4_ses-01_task-5000scenes_run-07_bold_space-T1w_preproc.nii.gz\n",
      "D:\\Repos\\clip-bold\\data\\raw\\bold5000\\derivatives\\fmriprep\\sub-CSI4\\ses-01\\func\\sub-CSI4_ses-01_task-5000scenes_run-08_bold_space-T1w_preproc.nii.gz\n",
      "D:\\Repos\\clip-bold\\data\\raw\\bold5000\\derivatives\\fmriprep\\sub-CSI4\\ses-01\\func\\sub-CSI4_ses-01_task-5000scenes_run-09_bold_space-T1w_preproc.nii.gz\n",
      "D:\\Repos\\clip-bold\\data\\raw\\bold5000\\derivatives\\fmriprep\\sub-CSI4\\ses-01\\func\\sub-CSI4_ses-01_task-5000scenes_run-10_bold_space-T1w_preproc.nii.gz\n",
      "D:\\Repos\\clip-bold\\data\\raw\\bold5000\\derivatives\\fmriprep\\sub-CSI4\\ses-02\\func\\sub-CSI4_ses-02_task-5000scenes_run-01_bold_space-T1w_preproc.nii.gz\n",
      "D:\\Repos\\clip-bold\\data\\raw\\bold5000\\derivatives\\fmriprep\\sub-CSI4\\ses-02\\func\\sub-CSI4_ses-02_task-5000scenes_run-02_bold_space-T1w_preproc.nii.gz\n",
      "D:\\Repos\\clip-bold\\data\\raw\\bold5000\\derivatives\\fmriprep\\sub-CSI4\\ses-02\\func\\sub-CSI4_ses-02_task-5000scenes_run-03_bold_space-T1w_preproc.nii.gz\n",
      "D:\\Repos\\clip-bold\\data\\raw\\bold5000\\derivatives\\fmriprep\\sub-CSI4\\ses-02\\func\\sub-CSI4_ses-02_task-5000scenes_run-04_bold_space-T1w_preproc.nii.gz\n",
      "D:\\Repos\\clip-bold\\data\\raw\\bold5000\\derivatives\\fmriprep\\sub-CSI4\\ses-02\\func\\sub-CSI4_ses-02_task-5000scenes_run-05_bold_space-T1w_preproc.nii.gz\n",
      "D:\\Repos\\clip-bold\\data\\raw\\bold5000\\derivatives\\fmriprep\\sub-CSI4\\ses-02\\func\\sub-CSI4_ses-02_task-5000scenes_run-06_bold_space-T1w_preproc.nii.gz\n",
      "D:\\Repos\\clip-bold\\data\\raw\\bold5000\\derivatives\\fmriprep\\sub-CSI4\\ses-02\\func\\sub-CSI4_ses-02_task-5000scenes_run-07_bold_space-T1w_preproc.nii.gz\n",
      "D:\\Repos\\clip-bold\\data\\raw\\bold5000\\derivatives\\fmriprep\\sub-CSI4\\ses-02\\func\\sub-CSI4_ses-02_task-5000scenes_run-08_bold_space-T1w_preproc.nii.gz\n",
      "D:\\Repos\\clip-bold\\data\\raw\\bold5000\\derivatives\\fmriprep\\sub-CSI4\\ses-02\\func\\sub-CSI4_ses-02_task-5000scenes_run-09_bold_space-T1w_preproc.nii.gz\n",
      "D:\\Repos\\clip-bold\\data\\raw\\bold5000\\derivatives\\fmriprep\\sub-CSI4\\ses-03\\func\\sub-CSI4_ses-03_task-5000scenes_run-01_bold_space-T1w_preproc.nii.gz\n",
      "D:\\Repos\\clip-bold\\data\\raw\\bold5000\\derivatives\\fmriprep\\sub-CSI4\\ses-03\\func\\sub-CSI4_ses-03_task-5000scenes_run-02_bold_space-T1w_preproc.nii.gz\n",
      "D:\\Repos\\clip-bold\\data\\raw\\bold5000\\derivatives\\fmriprep\\sub-CSI4\\ses-03\\func\\sub-CSI4_ses-03_task-5000scenes_run-03_bold_space-T1w_preproc.nii.gz\n",
      "D:\\Repos\\clip-bold\\data\\raw\\bold5000\\derivatives\\fmriprep\\sub-CSI4\\ses-03\\func\\sub-CSI4_ses-03_task-5000scenes_run-04_bold_space-T1w_preproc.nii.gz\n",
      "D:\\Repos\\clip-bold\\data\\raw\\bold5000\\derivatives\\fmriprep\\sub-CSI4\\ses-03\\func\\sub-CSI4_ses-03_task-5000scenes_run-05_bold_space-T1w_preproc.nii.gz\n",
      "D:\\Repos\\clip-bold\\data\\raw\\bold5000\\derivatives\\fmriprep\\sub-CSI4\\ses-03\\func\\sub-CSI4_ses-03_task-5000scenes_run-06_bold_space-T1w_preproc.nii.gz\n",
      "D:\\Repos\\clip-bold\\data\\raw\\bold5000\\derivatives\\fmriprep\\sub-CSI4\\ses-03\\func\\sub-CSI4_ses-03_task-5000scenes_run-07_bold_space-T1w_preproc.nii.gz\n",
      "D:\\Repos\\clip-bold\\data\\raw\\bold5000\\derivatives\\fmriprep\\sub-CSI4\\ses-03\\func\\sub-CSI4_ses-03_task-5000scenes_run-08_bold_space-T1w_preproc.nii.gz\n",
      "D:\\Repos\\clip-bold\\data\\raw\\bold5000\\derivatives\\fmriprep\\sub-CSI4\\ses-03\\func\\sub-CSI4_ses-03_task-5000scenes_run-09_bold_space-T1w_preproc.nii.gz\n",
      "D:\\Repos\\clip-bold\\data\\raw\\bold5000\\derivatives\\fmriprep\\sub-CSI4\\ses-04\\func\\sub-CSI4_ses-04_task-5000scenes_run-01_bold_space-T1w_preproc.nii.gz\n",
      "D:\\Repos\\clip-bold\\data\\raw\\bold5000\\derivatives\\fmriprep\\sub-CSI4\\ses-04\\func\\sub-CSI4_ses-04_task-5000scenes_run-02_bold_space-T1w_preproc.nii.gz\n",
      "D:\\Repos\\clip-bold\\data\\raw\\bold5000\\derivatives\\fmriprep\\sub-CSI4\\ses-04\\func\\sub-CSI4_ses-04_task-5000scenes_run-03_bold_space-T1w_preproc.nii.gz\n",
      "D:\\Repos\\clip-bold\\data\\raw\\bold5000\\derivatives\\fmriprep\\sub-CSI4\\ses-04\\func\\sub-CSI4_ses-04_task-5000scenes_run-04_bold_space-T1w_preproc.nii.gz\n",
      "D:\\Repos\\clip-bold\\data\\raw\\bold5000\\derivatives\\fmriprep\\sub-CSI4\\ses-04\\func\\sub-CSI4_ses-04_task-5000scenes_run-05_bold_space-T1w_preproc.nii.gz\n",
      "D:\\Repos\\clip-bold\\data\\raw\\bold5000\\derivatives\\fmriprep\\sub-CSI4\\ses-04\\func\\sub-CSI4_ses-04_task-5000scenes_run-06_bold_space-T1w_preproc.nii.gz\n",
      "D:\\Repos\\clip-bold\\data\\raw\\bold5000\\derivatives\\fmriprep\\sub-CSI4\\ses-04\\func\\sub-CSI4_ses-04_task-5000scenes_run-07_bold_space-T1w_preproc.nii.gz\n",
      "D:\\Repos\\clip-bold\\data\\raw\\bold5000\\derivatives\\fmriprep\\sub-CSI4\\ses-04\\func\\sub-CSI4_ses-04_task-5000scenes_run-08_bold_space-T1w_preproc.nii.gz\n",
      "D:\\Repos\\clip-bold\\data\\raw\\bold5000\\derivatives\\fmriprep\\sub-CSI4\\ses-04\\func\\sub-CSI4_ses-04_task-5000scenes_run-09_bold_space-T1w_preproc.nii.gz\n",
      "D:\\Repos\\clip-bold\\data\\raw\\bold5000\\derivatives\\fmriprep\\sub-CSI4\\ses-04\\func\\sub-CSI4_ses-04_task-5000scenes_run-10_bold_space-T1w_preproc.nii.gz\n",
      "D:\\Repos\\clip-bold\\data\\raw\\bold5000\\derivatives\\fmriprep\\sub-CSI4\\ses-05\\func\\sub-CSI4_ses-05_task-5000scenes_run-01_bold_space-T1w_preproc.nii.gz\n",
      "D:\\Repos\\clip-bold\\data\\raw\\bold5000\\derivatives\\fmriprep\\sub-CSI4\\ses-05\\func\\sub-CSI4_ses-05_task-5000scenes_run-02_bold_space-T1w_preproc.nii.gz\n",
      "D:\\Repos\\clip-bold\\data\\raw\\bold5000\\derivatives\\fmriprep\\sub-CSI4\\ses-05\\func\\sub-CSI4_ses-05_task-5000scenes_run-03_bold_space-T1w_preproc.nii.gz\n",
      "D:\\Repos\\clip-bold\\data\\raw\\bold5000\\derivatives\\fmriprep\\sub-CSI4\\ses-05\\func\\sub-CSI4_ses-05_task-5000scenes_run-04_bold_space-T1w_preproc.nii.gz\n",
      "D:\\Repos\\clip-bold\\data\\raw\\bold5000\\derivatives\\fmriprep\\sub-CSI4\\ses-05\\func\\sub-CSI4_ses-05_task-5000scenes_run-05_bold_space-T1w_preproc.nii.gz\n",
      "D:\\Repos\\clip-bold\\data\\raw\\bold5000\\derivatives\\fmriprep\\sub-CSI4\\ses-05\\func\\sub-CSI4_ses-05_task-5000scenes_run-06_bold_space-T1w_preproc.nii.gz\n",
      "D:\\Repos\\clip-bold\\data\\raw\\bold5000\\derivatives\\fmriprep\\sub-CSI4\\ses-05\\func\\sub-CSI4_ses-05_task-5000scenes_run-07_bold_space-T1w_preproc.nii.gz\n",
      "D:\\Repos\\clip-bold\\data\\raw\\bold5000\\derivatives\\fmriprep\\sub-CSI4\\ses-05\\func\\sub-CSI4_ses-05_task-5000scenes_run-08_bold_space-T1w_preproc.nii.gz\n",
      "D:\\Repos\\clip-bold\\data\\raw\\bold5000\\derivatives\\fmriprep\\sub-CSI4\\ses-05\\func\\sub-CSI4_ses-05_task-5000scenes_run-09_bold_space-T1w_preproc.nii.gz\n",
      "D:\\Repos\\clip-bold\\data\\raw\\bold5000\\derivatives\\fmriprep\\sub-CSI4\\ses-06\\func\\sub-CSI4_ses-06_task-5000scenes_run-01_bold_space-T1w_preproc.nii.gz\n",
      "D:\\Repos\\clip-bold\\data\\raw\\bold5000\\derivatives\\fmriprep\\sub-CSI4\\ses-06\\func\\sub-CSI4_ses-06_task-5000scenes_run-02_bold_space-T1w_preproc.nii.gz\n",
      "D:\\Repos\\clip-bold\\data\\raw\\bold5000\\derivatives\\fmriprep\\sub-CSI4\\ses-06\\func\\sub-CSI4_ses-06_task-5000scenes_run-03_bold_space-T1w_preproc.nii.gz\n",
      "D:\\Repos\\clip-bold\\data\\raw\\bold5000\\derivatives\\fmriprep\\sub-CSI4\\ses-06\\func\\sub-CSI4_ses-06_task-5000scenes_run-04_bold_space-T1w_preproc.nii.gz\n",
      "D:\\Repos\\clip-bold\\data\\raw\\bold5000\\derivatives\\fmriprep\\sub-CSI4\\ses-06\\func\\sub-CSI4_ses-06_task-5000scenes_run-05_bold_space-T1w_preproc.nii.gz\n",
      "D:\\Repos\\clip-bold\\data\\raw\\bold5000\\derivatives\\fmriprep\\sub-CSI4\\ses-06\\func\\sub-CSI4_ses-06_task-5000scenes_run-06_bold_space-T1w_preproc.nii.gz\n",
      "D:\\Repos\\clip-bold\\data\\raw\\bold5000\\derivatives\\fmriprep\\sub-CSI4\\ses-06\\func\\sub-CSI4_ses-06_task-5000scenes_run-07_bold_space-T1w_preproc.nii.gz\n",
      "D:\\Repos\\clip-bold\\data\\raw\\bold5000\\derivatives\\fmriprep\\sub-CSI4\\ses-06\\func\\sub-CSI4_ses-06_task-5000scenes_run-08_bold_space-T1w_preproc.nii.gz\n",
      "D:\\Repos\\clip-bold\\data\\raw\\bold5000\\derivatives\\fmriprep\\sub-CSI4\\ses-06\\func\\sub-CSI4_ses-06_task-5000scenes_run-09_bold_space-T1w_preproc.nii.gz\n",
      "D:\\Repos\\clip-bold\\data\\raw\\bold5000\\derivatives\\fmriprep\\sub-CSI4\\ses-07\\func\\sub-CSI4_ses-07_task-5000scenes_run-01_bold_space-T1w_preproc.nii.gz\n",
      "D:\\Repos\\clip-bold\\data\\raw\\bold5000\\derivatives\\fmriprep\\sub-CSI4\\ses-07\\func\\sub-CSI4_ses-07_task-5000scenes_run-02_bold_space-T1w_preproc.nii.gz\n",
      "D:\\Repos\\clip-bold\\data\\raw\\bold5000\\derivatives\\fmriprep\\sub-CSI4\\ses-07\\func\\sub-CSI4_ses-07_task-5000scenes_run-03_bold_space-T1w_preproc.nii.gz\n",
      "D:\\Repos\\clip-bold\\data\\raw\\bold5000\\derivatives\\fmriprep\\sub-CSI4\\ses-07\\func\\sub-CSI4_ses-07_task-5000scenes_run-04_bold_space-T1w_preproc.nii.gz\n",
      "D:\\Repos\\clip-bold\\data\\raw\\bold5000\\derivatives\\fmriprep\\sub-CSI4\\ses-07\\func\\sub-CSI4_ses-07_task-5000scenes_run-05_bold_space-T1w_preproc.nii.gz\n",
      "D:\\Repos\\clip-bold\\data\\raw\\bold5000\\derivatives\\fmriprep\\sub-CSI4\\ses-07\\func\\sub-CSI4_ses-07_task-5000scenes_run-06_bold_space-T1w_preproc.nii.gz\n",
      "D:\\Repos\\clip-bold\\data\\raw\\bold5000\\derivatives\\fmriprep\\sub-CSI4\\ses-07\\func\\sub-CSI4_ses-07_task-5000scenes_run-07_bold_space-T1w_preproc.nii.gz\n",
      "D:\\Repos\\clip-bold\\data\\raw\\bold5000\\derivatives\\fmriprep\\sub-CSI4\\ses-07\\func\\sub-CSI4_ses-07_task-5000scenes_run-08_bold_space-T1w_preproc.nii.gz\n",
      "D:\\Repos\\clip-bold\\data\\raw\\bold5000\\derivatives\\fmriprep\\sub-CSI4\\ses-07\\func\\sub-CSI4_ses-07_task-5000scenes_run-09_bold_space-T1w_preproc.nii.gz\n",
      "D:\\Repos\\clip-bold\\data\\raw\\bold5000\\derivatives\\fmriprep\\sub-CSI4\\ses-08\\func\\sub-CSI4_ses-08_task-5000scenes_run-01_bold_space-T1w_preproc.nii.gz\n",
      "D:\\Repos\\clip-bold\\data\\raw\\bold5000\\derivatives\\fmriprep\\sub-CSI4\\ses-08\\func\\sub-CSI4_ses-08_task-5000scenes_run-02_bold_space-T1w_preproc.nii.gz\n",
      "D:\\Repos\\clip-bold\\data\\raw\\bold5000\\derivatives\\fmriprep\\sub-CSI4\\ses-08\\func\\sub-CSI4_ses-08_task-5000scenes_run-03_bold_space-T1w_preproc.nii.gz\n",
      "D:\\Repos\\clip-bold\\data\\raw\\bold5000\\derivatives\\fmriprep\\sub-CSI4\\ses-08\\func\\sub-CSI4_ses-08_task-5000scenes_run-04_bold_space-T1w_preproc.nii.gz\n",
      "D:\\Repos\\clip-bold\\data\\raw\\bold5000\\derivatives\\fmriprep\\sub-CSI4\\ses-08\\func\\sub-CSI4_ses-08_task-5000scenes_run-05_bold_space-T1w_preproc.nii.gz\n",
      "D:\\Repos\\clip-bold\\data\\raw\\bold5000\\derivatives\\fmriprep\\sub-CSI4\\ses-08\\func\\sub-CSI4_ses-08_task-5000scenes_run-06_bold_space-T1w_preproc.nii.gz\n",
      "D:\\Repos\\clip-bold\\data\\raw\\bold5000\\derivatives\\fmriprep\\sub-CSI4\\ses-08\\func\\sub-CSI4_ses-08_task-5000scenes_run-07_bold_space-T1w_preproc.nii.gz\n",
      "D:\\Repos\\clip-bold\\data\\raw\\bold5000\\derivatives\\fmriprep\\sub-CSI4\\ses-08\\func\\sub-CSI4_ses-08_task-5000scenes_run-08_bold_space-T1w_preproc.nii.gz\n",
      "D:\\Repos\\clip-bold\\data\\raw\\bold5000\\derivatives\\fmriprep\\sub-CSI4\\ses-08\\func\\sub-CSI4_ses-08_task-5000scenes_run-09_bold_space-T1w_preproc.nii.gz\n",
      "D:\\Repos\\clip-bold\\data\\raw\\bold5000\\derivatives\\fmriprep\\sub-CSI4\\ses-09\\func\\sub-CSI4_ses-09_task-5000scenes_run-01_bold_space-T1w_preproc.nii.gz\n",
      "D:\\Repos\\clip-bold\\data\\raw\\bold5000\\derivatives\\fmriprep\\sub-CSI4\\ses-09\\func\\sub-CSI4_ses-09_task-5000scenes_run-02_bold_space-T1w_preproc.nii.gz\n",
      "D:\\Repos\\clip-bold\\data\\raw\\bold5000\\derivatives\\fmriprep\\sub-CSI4\\ses-09\\func\\sub-CSI4_ses-09_task-5000scenes_run-03_bold_space-T1w_preproc.nii.gz\n",
      "D:\\Repos\\clip-bold\\data\\raw\\bold5000\\derivatives\\fmriprep\\sub-CSI4\\ses-09\\func\\sub-CSI4_ses-09_task-5000scenes_run-04_bold_space-T1w_preproc.nii.gz\n",
      "D:\\Repos\\clip-bold\\data\\raw\\bold5000\\derivatives\\fmriprep\\sub-CSI4\\ses-09\\func\\sub-CSI4_ses-09_task-5000scenes_run-05_bold_space-T1w_preproc.nii.gz\n",
      "D:\\Repos\\clip-bold\\data\\raw\\bold5000\\derivatives\\fmriprep\\sub-CSI4\\ses-09\\func\\sub-CSI4_ses-09_task-5000scenes_run-06_bold_space-T1w_preproc.nii.gz\n",
      "D:\\Repos\\clip-bold\\data\\raw\\bold5000\\derivatives\\fmriprep\\sub-CSI4\\ses-09\\func\\sub-CSI4_ses-09_task-5000scenes_run-07_bold_space-T1w_preproc.nii.gz\n",
      "D:\\Repos\\clip-bold\\data\\raw\\bold5000\\derivatives\\fmriprep\\sub-CSI4\\ses-09\\func\\sub-CSI4_ses-09_task-5000scenes_run-08_bold_space-T1w_preproc.nii.gz\n",
      "D:\\Repos\\clip-bold\\data\\raw\\bold5000\\derivatives\\fmriprep\\sub-CSI4\\ses-09\\func\\sub-CSI4_ses-09_task-5000scenes_run-09_bold_space-T1w_preproc.nii.gz\n",
      "D:\\Repos\\clip-bold\\data\\raw\\bold5000\\derivatives\\fmriprep\\sub-CSI4\\ses-09\\func\\sub-CSI4_ses-09_task-5000scenes_run-10_bold_space-T1w_preproc.nii.gz\n"
     ]
    }
   ],
   "source": [
    "with warnings.catch_warnings():\n",
    "    warnings.simplefilter('ignore', UserWarning)\n",
    "    warnings.simplefilter('ignore', DeprecationWarning)\n",
    "    get_nifti_files(4)"
   ]
  },
  {
   "cell_type": "code",
   "execution_count": null,
   "metadata": {},
   "outputs": [],
   "source": []
  }
 ],
 "metadata": {
  "kernelspec": {
   "display_name": ".venv",
   "language": "python",
   "name": "python3"
  },
  "language_info": {
   "codemirror_mode": {
    "name": "ipython",
    "version": 3
   },
   "file_extension": ".py",
   "mimetype": "text/x-python",
   "name": "python",
   "nbconvert_exporter": "python",
   "pygments_lexer": "ipython3",
   "version": "3.12.0"
  }
 },
 "nbformat": 4,
 "nbformat_minor": 2
}
